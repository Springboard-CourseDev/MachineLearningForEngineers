{
  "nbformat": 4,
  "nbformat_minor": 0,
  "metadata": {
    "colab": {
      "name": "Mini Project 3: Evaluate the Model.ipynb",
      "provenance": [],
      "collapsed_sections": [],
      "authorship_tag": "ABX9TyN745jvFMwwhECl9dvYqqOG",
      "include_colab_link": true
    },
    "kernelspec": {
      "name": "python3",
      "display_name": "Python 3"
    },
    "language_info": {
      "name": "python"
    }
  },
  "cells": [
    {
      "cell_type": "markdown",
      "metadata": {
        "id": "view-in-github",
        "colab_type": "text"
      },
      "source": [
        "<a href=\"https://colab.research.google.com/github/Springboard-CourseDev/MachineLearningForEngineers/blob/master/Solutions/Mini_Project_3_Evaluate_the_Model.ipynb\" target=\"_parent\"><img src=\"https://colab.research.google.com/assets/colab-badge.svg\" alt=\"Open In Colab\"/></a>"
      ]
    },
    {
      "cell_type": "markdown",
      "source": [
        "# Mini Project 3: Evaluate the Model\n",
        "\n",
        "In this project you'll get the opportunity to build a machine learning pipeline from scratch. As in the previous projects, we'll be using the [Kaggle Heart Disease Dataset](https://www.kaggle.com/datasets/redwankarimsony/heart-disease-data). The objectives of this project are three-fold:\n",
        "\n",
        "  * Use the highly versatile `Pipeline` object in Scikit-Learn to build a machine learning pipeline with column transformations.  \n",
        "  * Explore overfitting/underfitting a model. \n",
        "  * Understand how to apply hyperparameter turning \n",
        "\n"
      ],
      "metadata": {
        "id": "itI8YR-Z0pU1"
      }
    },
    {
      "cell_type": "markdown",
      "source": [
        "## Load the Data"
      ],
      "metadata": {
        "id": "ci58XZZQG_NE"
      }
    },
    {
      "cell_type": "markdown",
      "source": [
        "First, import the base libraries we'll be using. "
      ],
      "metadata": {
        "id": "v8SS82dYHCCb"
      }
    },
    {
      "cell_type": "code",
      "execution_count": 1,
      "metadata": {
        "id": "k8SR5DIEE_PR"
      },
      "outputs": [],
      "source": [
        "import matplotlib.pyplot as plt\n",
        "import pandas as pd\n",
        "import numpy as np\n",
        "import seaborn as sns\n",
        "from sklearn.model_selection import train_test_split"
      ]
    },
    {
      "cell_type": "markdown",
      "source": [
        "Load the Kaggle Heart Disease dataset. "
      ],
      "metadata": {
        "id": "DHCFf-rPHF9r"
      }
    },
    {
      "cell_type": "code",
      "source": [
        "heart_df = pd.read_csv('/content/heart_disease.zip')"
      ],
      "metadata": {
        "id": "2KgkDuN_FH_h"
      },
      "execution_count": 2,
      "outputs": []
    },
    {
      "cell_type": "markdown",
      "source": [
        "Split the data into a training and test set using `train_test_split`."
      ],
      "metadata": {
        "id": "99lei16vHKvM"
      }
    },
    {
      "cell_type": "code",
      "source": [
        "X_train, X_test, y_train, y_test = (\n",
        "    train_test_split(\n",
        "        heart_df.iloc[:, ~heart_df.columns.isin(['target'])], \n",
        "        heart_df['target'], \n",
        "        test_size=0.2,\n",
        "        random_state=42,\n",
        "        shuffle=True\n",
        "    )\n",
        ")"
      ],
      "metadata": {
        "id": "XUwE1EluFNG3"
      },
      "execution_count": 3,
      "outputs": []
    },
    {
      "cell_type": "code",
      "source": [
        "X_train.head()"
      ],
      "metadata": {
        "colab": {
          "base_uri": "https://localhost:8080/",
          "height": 206
        },
        "id": "8Ts_3TKPyeKw",
        "outputId": "554f4342-52db-4660-f4a6-8e964dbd6722"
      },
      "execution_count": 4,
      "outputs": [
        {
          "output_type": "execute_result",
          "data": {
            "text/plain": [
              "     age  sex  cp  trestbps  chol  fbs  restecg  thalach  exang  oldpeak  \\\n",
              "835   49    1   2       118   149    0        0      126      0      0.8   \n",
              "137   64    0   0       180   325    0        1      154      1      0.0   \n",
              "534   54    0   2       108   267    0        0      167      0      0.0   \n",
              "495   59    1   0       135   234    0        1      161      0      0.5   \n",
              "244   51    1   2       125   245    1        0      166      0      2.4   \n",
              "\n",
              "     slope  ca  thal  \n",
              "835      2   3     2  \n",
              "137      2   0     2  \n",
              "534      2   0     2  \n",
              "495      1   0     3  \n",
              "244      1   0     2  "
            ],
            "text/html": [
              "\n",
              "  <div id=\"df-e2a9368f-2441-47ac-8b37-2ed3547721c1\">\n",
              "    <div class=\"colab-df-container\">\n",
              "      <div>\n",
              "<style scoped>\n",
              "    .dataframe tbody tr th:only-of-type {\n",
              "        vertical-align: middle;\n",
              "    }\n",
              "\n",
              "    .dataframe tbody tr th {\n",
              "        vertical-align: top;\n",
              "    }\n",
              "\n",
              "    .dataframe thead th {\n",
              "        text-align: right;\n",
              "    }\n",
              "</style>\n",
              "<table border=\"1\" class=\"dataframe\">\n",
              "  <thead>\n",
              "    <tr style=\"text-align: right;\">\n",
              "      <th></th>\n",
              "      <th>age</th>\n",
              "      <th>sex</th>\n",
              "      <th>cp</th>\n",
              "      <th>trestbps</th>\n",
              "      <th>chol</th>\n",
              "      <th>fbs</th>\n",
              "      <th>restecg</th>\n",
              "      <th>thalach</th>\n",
              "      <th>exang</th>\n",
              "      <th>oldpeak</th>\n",
              "      <th>slope</th>\n",
              "      <th>ca</th>\n",
              "      <th>thal</th>\n",
              "    </tr>\n",
              "  </thead>\n",
              "  <tbody>\n",
              "    <tr>\n",
              "      <th>835</th>\n",
              "      <td>49</td>\n",
              "      <td>1</td>\n",
              "      <td>2</td>\n",
              "      <td>118</td>\n",
              "      <td>149</td>\n",
              "      <td>0</td>\n",
              "      <td>0</td>\n",
              "      <td>126</td>\n",
              "      <td>0</td>\n",
              "      <td>0.8</td>\n",
              "      <td>2</td>\n",
              "      <td>3</td>\n",
              "      <td>2</td>\n",
              "    </tr>\n",
              "    <tr>\n",
              "      <th>137</th>\n",
              "      <td>64</td>\n",
              "      <td>0</td>\n",
              "      <td>0</td>\n",
              "      <td>180</td>\n",
              "      <td>325</td>\n",
              "      <td>0</td>\n",
              "      <td>1</td>\n",
              "      <td>154</td>\n",
              "      <td>1</td>\n",
              "      <td>0.0</td>\n",
              "      <td>2</td>\n",
              "      <td>0</td>\n",
              "      <td>2</td>\n",
              "    </tr>\n",
              "    <tr>\n",
              "      <th>534</th>\n",
              "      <td>54</td>\n",
              "      <td>0</td>\n",
              "      <td>2</td>\n",
              "      <td>108</td>\n",
              "      <td>267</td>\n",
              "      <td>0</td>\n",
              "      <td>0</td>\n",
              "      <td>167</td>\n",
              "      <td>0</td>\n",
              "      <td>0.0</td>\n",
              "      <td>2</td>\n",
              "      <td>0</td>\n",
              "      <td>2</td>\n",
              "    </tr>\n",
              "    <tr>\n",
              "      <th>495</th>\n",
              "      <td>59</td>\n",
              "      <td>1</td>\n",
              "      <td>0</td>\n",
              "      <td>135</td>\n",
              "      <td>234</td>\n",
              "      <td>0</td>\n",
              "      <td>1</td>\n",
              "      <td>161</td>\n",
              "      <td>0</td>\n",
              "      <td>0.5</td>\n",
              "      <td>1</td>\n",
              "      <td>0</td>\n",
              "      <td>3</td>\n",
              "    </tr>\n",
              "    <tr>\n",
              "      <th>244</th>\n",
              "      <td>51</td>\n",
              "      <td>1</td>\n",
              "      <td>2</td>\n",
              "      <td>125</td>\n",
              "      <td>245</td>\n",
              "      <td>1</td>\n",
              "      <td>0</td>\n",
              "      <td>166</td>\n",
              "      <td>0</td>\n",
              "      <td>2.4</td>\n",
              "      <td>1</td>\n",
              "      <td>0</td>\n",
              "      <td>2</td>\n",
              "    </tr>\n",
              "  </tbody>\n",
              "</table>\n",
              "</div>\n",
              "      <button class=\"colab-df-convert\" onclick=\"convertToInteractive('df-e2a9368f-2441-47ac-8b37-2ed3547721c1')\"\n",
              "              title=\"Convert this dataframe to an interactive table.\"\n",
              "              style=\"display:none;\">\n",
              "        \n",
              "  <svg xmlns=\"http://www.w3.org/2000/svg\" height=\"24px\"viewBox=\"0 0 24 24\"\n",
              "       width=\"24px\">\n",
              "    <path d=\"M0 0h24v24H0V0z\" fill=\"none\"/>\n",
              "    <path d=\"M18.56 5.44l.94 2.06.94-2.06 2.06-.94-2.06-.94-.94-2.06-.94 2.06-2.06.94zm-11 1L8.5 8.5l.94-2.06 2.06-.94-2.06-.94L8.5 2.5l-.94 2.06-2.06.94zm10 10l.94 2.06.94-2.06 2.06-.94-2.06-.94-.94-2.06-.94 2.06-2.06.94z\"/><path d=\"M17.41 7.96l-1.37-1.37c-.4-.4-.92-.59-1.43-.59-.52 0-1.04.2-1.43.59L10.3 9.45l-7.72 7.72c-.78.78-.78 2.05 0 2.83L4 21.41c.39.39.9.59 1.41.59.51 0 1.02-.2 1.41-.59l7.78-7.78 2.81-2.81c.8-.78.8-2.07 0-2.86zM5.41 20L4 18.59l7.72-7.72 1.47 1.35L5.41 20z\"/>\n",
              "  </svg>\n",
              "      </button>\n",
              "      \n",
              "  <style>\n",
              "    .colab-df-container {\n",
              "      display:flex;\n",
              "      flex-wrap:wrap;\n",
              "      gap: 12px;\n",
              "    }\n",
              "\n",
              "    .colab-df-convert {\n",
              "      background-color: #E8F0FE;\n",
              "      border: none;\n",
              "      border-radius: 50%;\n",
              "      cursor: pointer;\n",
              "      display: none;\n",
              "      fill: #1967D2;\n",
              "      height: 32px;\n",
              "      padding: 0 0 0 0;\n",
              "      width: 32px;\n",
              "    }\n",
              "\n",
              "    .colab-df-convert:hover {\n",
              "      background-color: #E2EBFA;\n",
              "      box-shadow: 0px 1px 2px rgba(60, 64, 67, 0.3), 0px 1px 3px 1px rgba(60, 64, 67, 0.15);\n",
              "      fill: #174EA6;\n",
              "    }\n",
              "\n",
              "    [theme=dark] .colab-df-convert {\n",
              "      background-color: #3B4455;\n",
              "      fill: #D2E3FC;\n",
              "    }\n",
              "\n",
              "    [theme=dark] .colab-df-convert:hover {\n",
              "      background-color: #434B5C;\n",
              "      box-shadow: 0px 1px 3px 1px rgba(0, 0, 0, 0.15);\n",
              "      filter: drop-shadow(0px 1px 2px rgba(0, 0, 0, 0.3));\n",
              "      fill: #FFFFFF;\n",
              "    }\n",
              "  </style>\n",
              "\n",
              "      <script>\n",
              "        const buttonEl =\n",
              "          document.querySelector('#df-e2a9368f-2441-47ac-8b37-2ed3547721c1 button.colab-df-convert');\n",
              "        buttonEl.style.display =\n",
              "          google.colab.kernel.accessAllowed ? 'block' : 'none';\n",
              "\n",
              "        async function convertToInteractive(key) {\n",
              "          const element = document.querySelector('#df-e2a9368f-2441-47ac-8b37-2ed3547721c1');\n",
              "          const dataTable =\n",
              "            await google.colab.kernel.invokeFunction('convertToInteractive',\n",
              "                                                     [key], {});\n",
              "          if (!dataTable) return;\n",
              "\n",
              "          const docLinkHtml = 'Like what you see? Visit the ' +\n",
              "            '<a target=\"_blank\" href=https://colab.research.google.com/notebooks/data_table.ipynb>data table notebook</a>'\n",
              "            + ' to learn more about interactive tables.';\n",
              "          element.innerHTML = '';\n",
              "          dataTable['output_type'] = 'display_data';\n",
              "          await google.colab.output.renderOutput(dataTable, element);\n",
              "          const docLink = document.createElement('div');\n",
              "          docLink.innerHTML = docLinkHtml;\n",
              "          element.appendChild(docLink);\n",
              "        }\n",
              "      </script>\n",
              "    </div>\n",
              "  </div>\n",
              "  "
            ]
          },
          "metadata": {},
          "execution_count": 4
        }
      ]
    },
    {
      "cell_type": "markdown",
      "source": [
        "## Build a Pipeline\n",
        "\n",
        "The Scikit-Learn [`Pipeline`](https://scikit-learn.org/stable/modules/generated/sklearn.pipeline.Pipeline.html) object allows one to take raw data, apply transformations, and train a model in one structure. This object can be saved and stored for use elsewhere in a production environment. The list of available transformations in Scikit-Learn can be found [here](https://scikit-learn.org/stable/modules/preprocessing.html), although custom transformations are also possible. Since you've already completed exploratory data analysis in the previous project, you should have a good sense of what transformations can be applied to the feature set in the heart disease dataset. In this section, let's applly the following transformations:\n",
        "\n",
        "  * **age** - KBins Discretizer\n",
        "  * **sex** - Leave Alone\n",
        "  * **cp** - One Hot Encoder \n",
        "  * **trestbps** - Standard Scaler\n",
        "  * **chol** - Standard Scaler\n",
        "  * **fbs** - Leave Alone\n",
        "  * **restecg** - One Hot Encoder \n",
        "  * **thalach** - Standard Scaler \n",
        "  * **exang** - Leave Alone\n",
        "  * **oldpeak** - KBins Discretizer\n",
        "  * **slope** - One Hot Encoder \n",
        "  * **ca** - One Hot Encoder \n",
        "  * **thal** - One Hot Encoder "
      ],
      "metadata": {
        "id": "n3TDg5Sj3GIW"
      }
    },
    {
      "cell_type": "markdown",
      "source": [
        "Import Scikit-Learn's relevant pipeline libraries."
      ],
      "metadata": {
        "id": "sd9dOYhYjInM"
      }
    },
    {
      "cell_type": "code",
      "source": [
        "from sklearn.pipeline import Pipeline\n",
        "from sklearn.preprocessing import OneHotEncoder\n",
        "from sklearn.preprocessing import StandardScaler\n",
        "from sklearn.preprocessing import KBinsDiscretizer\n",
        "from sklearn.compose import ColumnTransformer\n",
        "from sklearn.tree import DecisionTreeClassifier"
      ],
      "metadata": {
        "id": "KeHQJrTcPdM2"
      },
      "execution_count": 5,
      "outputs": []
    },
    {
      "cell_type": "markdown",
      "source": [
        "**Exercise**: Write a `Pipeline` object that has two steps. In the first step, the pipeline applies all the discussed transformations to the feature set using `ColumnTransformer`. In the second step, the pipeline trains a `DecisionTreeClassifier` with default parameters. Don't forget to passthrough the features that don't need processing. "
      ],
      "metadata": {
        "id": "1V04tNB0jPp4"
      }
    },
    {
      "cell_type": "code",
      "source": [
        "preprocessor = ColumnTransformer(\n",
        "    transformers=[\n",
        "        ('ohe', OneHotEncoder(\n",
        "            categories='auto',\n",
        "            handle_unknown='ignore',\n",
        "            sparse=False),\n",
        "         ['cp', 'restecg', 'slope', 'ca', 'thal']),\n",
        "        ('standard_scaler', StandardScaler(),\n",
        "         ['trestbps', 'chol', 'thalach']),\n",
        "        ('kbd', KBinsDiscretizer(\n",
        "            n_bins=5, \n",
        "            encode='onehot-dense', \n",
        "            strategy='uniform'),\n",
        "         ['age', 'oldpeak'])\n",
        "    ],\n",
        "    remainder = 'passthrough'\n",
        ")\n",
        "\n",
        "pipe = Pipeline(\n",
        "    steps=[\n",
        "        ('preprocessor', preprocessor),\n",
        "        ('classifier', DecisionTreeClassifier())\n",
        "    ]\n",
        ")"
      ],
      "metadata": {
        "id": "qj-oLOhnPYry"
      },
      "execution_count": 6,
      "outputs": []
    },
    {
      "cell_type": "markdown",
      "source": [
        "## Plotting a Validation Curve\n",
        "\n",
        "**Exercise**: [Validation curves](https://towardsdatascience.com/validation-curve-explained-plot-the-influence-of-a-single-hyperparameter-1ac4864deaf8#) can provide insight into a model underfitting, overfitting, or being just right. Scikit-Learn provides a function [`validation_curve`](https://scikit-learn.org/stable/modules/generated/sklearn.model_selection.validation_curve.html) that simplifies the process of making a validation curve. Use this function and the `Pipeline` you created to plot training and validation F1 scores for the `max_depth` parameter of the `DecisionTreeClassifier`. For the cross-validation generator input \n",
        "use [`ShuffleSplit`](https://scikit-learn.org/stable/modules/generated/sklearn.model_selection.ShuffleSplit.html).\n",
        "\n",
        "**Exercise**: For which values of `max_depth` is the model over-fitting? Underfitting? Just right?\n",
        "\n",
        "*Hint -- To access parameter names in a pipeline use the syntax e.g. pipe.get_params().keys()*\n"
      ],
      "metadata": {
        "id": "ep84o4csxd1K"
      }
    },
    {
      "cell_type": "code",
      "source": [
        "from sklearn.model_selection import validation_curve\n",
        "from sklearn.model_selection import cross_validate\n",
        "from sklearn.model_selection import ShuffleSplit\n",
        "from sklearn.metrics import f1_score"
      ],
      "metadata": {
        "id": "jAhGOzXv18q2"
      },
      "execution_count": 7,
      "outputs": []
    },
    {
      "cell_type": "code",
      "source": [
        "ss = ShuffleSplit(n_splits=10, test_size=0.2)\n",
        "\n",
        "X = heart_df.iloc[:, ~heart_df.columns.isin(['target'])] \n",
        "y = heart_df['target']\n",
        "\n",
        "max_depth = range(15)\n",
        "train_scores, test_scores = validation_curve(\n",
        "    pipe, X, y, \n",
        "    param_name='classifier__max_depth', \n",
        "    param_range=max_depth,\n",
        "    cv=ss, scoring='f1', n_jobs=-1\n",
        ")\n",
        "\n",
        "train_mean = np.mean(train_scores, axis=1)\n",
        "test_mean = np.mean(test_scores, axis=1)\n",
        "\n",
        "sns.lineplot(x=max_depth, y=train_mean, label='Training F1 Score');\n",
        "sns.lineplot(x=max_depth, y=test_mean, label='Validation F1 Score');"
      ],
      "metadata": {
        "colab": {
          "base_uri": "https://localhost:8080/",
          "height": 265
        },
        "id": "8RqHm7sQopp4",
        "outputId": "7fde95a6-118c-477e-e99a-c2cfa1fd6693"
      },
      "execution_count": 8,
      "outputs": [
        {
          "output_type": "display_data",
          "data": {
            "text/plain": [
              "<Figure size 432x288 with 1 Axes>"
            ],
            "image/png": "[encoded data removed]"
          },
          "metadata": {
            "needs_background": "light"
          }
        }
      ]
    },
    {
      "cell_type": "markdown",
      "source": [
        "## Hyperparameter Tuning\n",
        "\n",
        "In machine learning hyperparameters are everywhere from the models themselves, to feature transformation meta data. Often, the hyperparameter values have a significant impact on model performance, which is why settling on optimal hyperparameter values is important. Unfortunately, hyperparameter tuning is a difficult problem because it requires training a model over and over again, which can get computationally expensive. \n",
        "\n",
        "\n",
        "For this reason, it's important to use an efficient algorithm for hypeparameter tuning. Grid search, while simple to understand, is not efficient because the search space tried is exponential with the number of parameters being tuned. Bayesian-based hyperparameter tuning libraries, like [Hyperopt](http://hyperopt.github.io/hyperopt/), are considered much more efficient than random search or grid approaches because the ignore areas of the search space that have no impact on the minimization function. \n",
        "\n",
        "![](https://miro.medium.com/max/1400/1*2gsysrNnSD-n8HDCHmpZFw.jpeg) [Source](https://towardsdatascience.com/hyperopt-hyperparameter-tuning-based-on-bayesian-optimization-7fa32dffaf29)\n",
        "\n",
        "In this section, you'll use the hyperopt library to perform hyperparameter tuning on your pipeline. "
      ],
      "metadata": {
        "id": "5WtGjKImNmKF"
      }
    },
    {
      "cell_type": "markdown",
      "source": [
        "Import some useful libraries."
      ],
      "metadata": {
        "id": "Pu8YmB8TTHIP"
      }
    },
    {
      "cell_type": "code",
      "source": [
        "from hyperopt import fmin\n",
        "from hyperopt import tpe\n",
        "from hyperopt import hp\n",
        "from hyperopt import anneal\n",
        "from hyperopt import Trials\n",
        "from hyperopt import space_eval\n",
        "from sklearn.model_selection import cross_val_score"
      ],
      "metadata": {
        "id": "56SCojXtNlLi"
      },
      "execution_count": 9,
      "outputs": []
    },
    {
      "cell_type": "markdown",
      "source": [
        "**Exercise**: The Hyperopt library requires a function to minimize, as described in the [documentation](http://hyperopt.github.io/hyperopt/getting-started/minimizing_functions/). Write a function that passes parameter values for the `DecisionTreeClassifier` in your pipeline and returns a cross validation score for the f1 metric. The hyperparameters for `DecisionTreeClassifier` to be tweaked are `max_depth`, `max_features`, and `criterion`.  \n",
        "\n",
        "Data should be passed to your pipeline that applies all feature transformations. Use Scikit-Learn's [cross_val_score](https://scikit-learn.org/stable/modules/generated/sklearn.model_selection.cross_val_score.html) to output the cross-validated f1 metric.  \n",
        "\n",
        "Remember, Hyperopt works to minimize functions. *Minimize* is the key word here. For the f1 metric, bigger is better and so your function should return the negative f1 score.  "
      ],
      "metadata": {
        "id": "dOPMmPQAUdyJ"
      }
    },
    {
      "cell_type": "code",
      "source": [
        "ss = ShuffleSplit(n_splits=10, test_size=0.2)\n",
        "\n",
        "def decision_tree_f1_cv(params, X=X_train, y=y_train, cv=ss):\n",
        "  params = {\n",
        "      'max_depth': int(params['max_depth']), \n",
        "      'max_features': int(params['max_features']), \n",
        "      'criterion': params['criterion']\n",
        "  }\n",
        "  pipe = Pipeline(\n",
        "    steps=[\n",
        "        ('preprocessor', preprocessor),\n",
        "        ('classifier', DecisionTreeClassifier(\n",
        "            max_depth=params['max_depth'], \n",
        "            max_features=params['max_features'],\n",
        "            criterion=params['criterion']\n",
        "            )\n",
        "        )\n",
        "    ]\n",
        "  )\n",
        "  score = -cross_val_score(pipe, X, y, cv=cv, scoring='f1', n_jobs=-1).mean()\n",
        "  return score"
      ],
      "metadata": {
        "id": "nqxhPSpINKoA"
      },
      "execution_count": 10,
      "outputs": []
    },
    {
      "cell_type": "markdown",
      "source": [
        "**Exercise**: Now that you've written a function to minimize, set up Hyperopt to find the parameters `max_depth`, `max_features`, and `criterion` that minimize the function. First, you'll have to define the search space for each of these variables. Also, make sure to use a `Trials()` object to keep logging information.  "
      ],
      "metadata": {
        "id": "_sKC629tbkC5"
      }
    },
    {
      "cell_type": "code",
      "source": [
        "# possible values of parameters\n",
        "space = {\n",
        "    'max_depth': hp.quniform('max_depth', 1, 20, 1),\n",
        "    'max_features' : hp.quniform('max_features', 1, 30, 1),\n",
        "    'criterion': hp.choice('criterion', ['gini', 'entropy'])\n",
        "}\n",
        "\n",
        "# trials will contain logging information\n",
        "trials = Trials()\n",
        "\n",
        "best = fmin(\n",
        "    fn=decision_tree_f1_cv, \n",
        "    space=space, \n",
        "    algo=tpe.suggest, \n",
        "    max_evals=100, \n",
        "    trials=trials, \n",
        "    rstate=np.random.RandomState(47)\n",
        ")"
      ],
      "metadata": {
        "colab": {
          "base_uri": "https://localhost:8080/"
        },
        "id": "ERMMBwcpOQ_6",
        "outputId": "021564d1-75cf-4c6e-c3f5-d996122656c7"
      },
      "execution_count": 11,
      "outputs": [
        {
          "output_type": "stream",
          "name": "stdout",
          "text": [
            "100%|██████████| 100/100 [00:28<00:00,  3.53it/s, best loss: -0.9876980833985209]\n"
          ]
        }
      ]
    },
    {
      "cell_type": "markdown",
      "source": [
        "**Exercise**: Once Hyperopt is finishing calculating optimal parameters, view the findings using the `space_eval` function. "
      ],
      "metadata": {
        "id": "JkeMndJB-Yit"
      }
    },
    {
      "cell_type": "code",
      "source": [
        "se_best = space_eval(space, best)\n",
        "se_best"
      ],
      "metadata": {
        "colab": {
          "base_uri": "https://localhost:8080/"
        },
        "id": "x0YoNnEeVTy6",
        "outputId": "5533a1c7-8ec4-407a-8c82-1a8fd6d2901b"
      },
      "execution_count": 12,
      "outputs": [
        {
          "output_type": "execute_result",
          "data": {
            "text/plain": [
              "{'criterion': 'entropy', 'max_depth': 19.0, 'max_features': 9.0}"
            ]
          },
          "metadata": {},
          "execution_count": 12
        }
      ]
    },
    {
      "cell_type": "markdown",
      "source": [
        "**Exercise**: Build the `Pipeline` object for a `DecisionTreeClassifier` initialized with the optimal parameters found. Train the pipeline and then calculate the f1 score on the test data.  "
      ],
      "metadata": {
        "id": "jk-Eq4EO-l9M"
      }
    },
    {
      "cell_type": "code",
      "source": [
        "# computing the score on the test set\n",
        "pipe = Pipeline(\n",
        "    steps=[\n",
        "        ('preprocessor', preprocessor),\n",
        "        ('classifier', DecisionTreeClassifier(\n",
        "            max_depth=int(se_best['max_depth']), \n",
        "            max_features=int(se_best['max_features']), \n",
        "            criterion=se_best['criterion']\n",
        "            )\n",
        "        )\n",
        "    ]\n",
        ")\n",
        "\n",
        "\n",
        "pipe.fit(X_train, y_train)\n",
        "tpe_test_score = f1_score(y_test, pipe.predict(X_test))\n",
        "print(tpe_test_score)"
      ],
      "metadata": {
        "colab": {
          "base_uri": "https://localhost:8080/"
        },
        "id": "7CfJ0_WlTGSw",
        "outputId": "d6fb7c73-3048-4e78-91d6-27d80301d949"
      },
      "execution_count": 13,
      "outputs": [
        {
          "output_type": "stream",
          "name": "stdout",
          "text": [
            "1.0\n"
          ]
        }
      ]
    }
  ]
}