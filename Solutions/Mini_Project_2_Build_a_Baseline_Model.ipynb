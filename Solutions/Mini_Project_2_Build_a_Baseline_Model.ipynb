{
  "nbformat": 4,
  "nbformat_minor": 0,
  "metadata": {
    "colab": {
      "name": "Mini Project 2: Build a Baseline Model.ipynb",
      "provenance": [],
      "collapsed_sections": []
    },
    "kernelspec": {
      "name": "python3",
      "display_name": "Python 3"
    },
    "language_info": {
      "name": "python"
    }
  },
  "cells": [
    {
      "cell_type": "markdown",
      "source": [
        "# Before you start...\n",
        "\n",
        "In this notebook you'll be using the `auto-sklearn` library. You need to install it using the command below. After the command is finished executing, make sure you restart the runtime. "
      ],
      "metadata": {
        "id": "4Te3X_rxGpNk"
      }
    },
    {
      "cell_type": "code",
      "source": [
        "!pip install auto-sklearn"
      ],
      "metadata": {
        "id": "faTIdc_oGrL6"
      },
      "execution_count": null,
      "outputs": []
    },
    {
      "cell_type": "markdown",
      "source": [
        "# Building a Baseline Model for Kaggle's Heart Disease Dataset\n",
        "\n",
        "To build a baseline model means to develop a minimally-viable model as quickly as possible. The key here is, \"non-trivial\". The  model must not be useless. This is a crucial step in machine learning after exploratory data analysis is performed. Generally, baseline models require no feature engineering. However, the features are processed minimally such that machine learning models will not get choked up on the data.   \n",
        "\n",
        "Often times, a business needs a model out in production fast. Something is better than nothing and frequently, a baseline model is sufficient. If a business decides to add additional resources to improve the model, the baseline provides foundational metrics to improve upon.  \n",
        "\n",
        "In this notebook, you'll be guided through several approaches towards building baseline models. You'll also be exposed to several metrics used to gauge the efficacy of classification models. You'll use the [Kaggle Heart Disease Dataset](https://www.kaggle.com/datasets/redwankarimsony/heart-disease-data), which first appeared in the UCI data repository. "
      ],
      "metadata": {
        "id": "itI8YR-Z0pU1"
      }
    },
    {
      "cell_type": "markdown",
      "source": [
        "# Load the Data"
      ],
      "metadata": {
        "id": "ci58XZZQG_NE"
      }
    },
    {
      "cell_type": "markdown",
      "source": [
        "First, import the libraries we'll be using. "
      ],
      "metadata": {
        "id": "v8SS82dYHCCb"
      }
    },
    {
      "cell_type": "code",
      "execution_count": null,
      "metadata": {
        "id": "k8SR5DIEE_PR"
      },
      "outputs": [],
      "source": [
        "import matplotlib.pyplot as plt\n",
        "import pandas as pd\n",
        "import numpy as np\n",
        "import seaborn as sns\n",
        "from sklearn.model_selection import train_test_split\n",
        "from sklearn.metrics import f1_score\n",
        "from sklearn.metrics import roc_auc_score\n",
        "from sklearn.metrics import RocCurveDisplay\n",
        "from sklearn.metrics import confusion_matrix"
      ]
    },
    {
      "cell_type": "markdown",
      "source": [
        "Load the Kaggle Heart Disease dataset. "
      ],
      "metadata": {
        "id": "DHCFf-rPHF9r"
      }
    },
    {
      "cell_type": "code",
      "source": [
        "heart_df = pd.read_csv('/content/heart_disease.zip')"
      ],
      "metadata": {
        "id": "2KgkDuN_FH_h"
      },
      "execution_count": null,
      "outputs": []
    },
    {
      "cell_type": "markdown",
      "source": [
        "Split the data into a training and test set using `train_test_split`."
      ],
      "metadata": {
        "id": "99lei16vHKvM"
      }
    },
    {
      "cell_type": "code",
      "source": [
        "X_train, X_test, y_train, y_test = (\n",
        "    train_test_split(\n",
        "        heart_df.iloc[:, ~heart_df.columns.isin(['target'])], \n",
        "        heart_df['target'], \n",
        "        test_size=0.3,\n",
        "        random_state=42,\n",
        "        shuffle=True\n",
        "        )\n",
        "    )"
      ],
      "metadata": {
        "id": "XUwE1EluFNG3"
      },
      "execution_count": null,
      "outputs": []
    },
    {
      "cell_type": "markdown",
      "source": [
        "# Majority Class Baseline\n",
        "\n",
        "One of the simplest baseline models one can create is by always predicting the most frequent class. If the most frequent class occurs 50% of the time then your model will be 50% accurate! For unbalanced datasets (e.g. cancer prediction), where positive labels are relatively rare, consistently choosing the majority class will yield even better accuracy. For this reason, accuracy is not always a good metric to gauge a model's performance.  \n",
        "\n",
        "The F1 measure, which balances precision and recall, is typically a much better indicator of model performance for classification problems such as Kaggle's Heart Disease prediction.  \n",
        "\n",
        "**Exercise:** Determine the majority class in the heart disease dataset. \n",
        "\n",
        "**Exercise:** Calculate the F1 score on the test set where the predicted labels are always the majority class. Use Scikit-Learn's `f1_score` function. Is this a performant model? \n"
      ],
      "metadata": {
        "id": "6FcOQ_RyGTzP"
      }
    },
    {
      "cell_type": "code",
      "source": [
        "y_train.value_counts(normalize=True)"
      ],
      "metadata": {
        "colab": {
          "base_uri": "https://localhost:8080/"
        },
        "id": "_GGYAZSYGpe8",
        "outputId": "cf5a3e07-1fe7-4ee4-ab12-1f2aa5781b10"
      },
      "execution_count": null,
      "outputs": [
        {
          "output_type": "execute_result",
          "data": {
            "text/plain": [
              "1    0.525802\n",
              "0    0.474198\n",
              "Name: target, dtype: float64"
            ]
          },
          "metadata": {},
          "execution_count": 6
        }
      ]
    },
    {
      "cell_type": "code",
      "source": [
        "y_pred = [1]*y_test.shape[0]"
      ],
      "metadata": {
        "id": "dQw7E80WHYoa"
      },
      "execution_count": null,
      "outputs": []
    },
    {
      "cell_type": "code",
      "source": [
        "f1_score(y_test, y_pred)"
      ],
      "metadata": {
        "colab": {
          "base_uri": "https://localhost:8080/"
        },
        "id": "mYigDuSWG4g1",
        "outputId": "ca4fcf22-cf7b-4007-8541-4e6a66151fcb"
      },
      "execution_count": null,
      "outputs": [
        {
          "output_type": "execute_result",
          "data": {
            "text/plain": [
              "0.6520787746170679"
            ]
          },
          "metadata": {},
          "execution_count": 8
        }
      ]
    },
    {
      "cell_type": "markdown",
      "source": [
        "# XGBoost Classifier Baseline\n",
        "\n",
        "XGBoost stands for Extreme Gradient Boosting and is an open source implementation of gradient-boosted decision trees. Virtually all winners of Kaggle competitions with tabular datasets have utilized some form of XGBoost. NVIDIA provides an excellent overview of XGBoost and its benefits [here](https://www.nvidia.com/en-us/glossary/data-science/xgboost/). \n",
        "\n",
        "Some advantages of XGBoost:\n",
        "* Do not need normalized features \n",
        "* Works well on non-linear data\n",
        "* Has an in-built capability to handle null values\n",
        "* Highly parallelizable \n",
        "\n",
        "As you can see from the list above, XGBoost is an excellent candidate for building a baseline model because little to no feature engineering is required to get a good model. \n",
        "\n",
        "**Exercise:** Use `XGBClassifier` to train a model on the heart disease dataset. Make sure to set `random_state` for resproducible results. Using f1 score as a metric (use scikit-learns `f1_score`), how does the model perform on the test set? \n",
        "\n",
        "**Exercise:** One disadvantage of XGBoost is that it tends to overfit data when its hyperparameters aren't tuned properly. Calculate the f1 score on the train dataset and compare to the value obtained on the test data. Is your model overfitting?\n",
        "\n",
        "**Exercise:** The confusion matrix can yield extremely valuable insights on model performance. Generate a confusion matrix for your model's performance on the test set. From the confusion matrix, how many true positives were found? False positives? False negatives? What's the precision? What's the recall? Finally, can you reproduce the f1 score from precision and recall using the value in the first exercise? \n",
        "\n",
        "**Exercise:** An ROC curve is a useful visual for gauging model performance, as it balances the true positive rate and false positive rate of your model based on various prediction thresholds. This is an important note. Most classification algorithms output a probability for the target variables. By default, for binary classification, the threshold is set to 0.5. In other words, if the algorithm outputs a probability greater than 0.5 then the positive label is output. Otherwise, the negative label is output. By changing this threshold the model's performance metrics change. Generate an ROC curve using sklearn's `RocCurveDisplay`. What's the area under the curve? If your model were to output completely random labels, what would the ROC curve look like? Finally, what point on the ROC curve should you operate at for best performance? \n",
        " "
      ],
      "metadata": {
        "id": "FqiIlFcfGldd"
      }
    },
    {
      "cell_type": "code",
      "source": [
        "import xgboost as xgb"
      ],
      "metadata": {
        "id": "HKO4GmbjH_Ci"
      },
      "execution_count": null,
      "outputs": []
    },
    {
      "cell_type": "code",
      "source": [
        "xgb_model = xgb.XGBClassifier(random_state=42)\n",
        "xgb_model.fit(X_train, y_train)\n",
        "\n",
        "y_pred = xgb_model.predict(X_test)"
      ],
      "metadata": {
        "id": "4Tz7UbJIIAyp"
      },
      "execution_count": null,
      "outputs": []
    },
    {
      "cell_type": "code",
      "source": [
        "f1_score(y_test, y_pred)"
      ],
      "metadata": {
        "colab": {
          "base_uri": "https://localhost:8080/"
        },
        "id": "A2saQbDIIlgL",
        "outputId": "d287267c-ebab-4cf9-ab55-cea59bb80cb5"
      },
      "execution_count": null,
      "outputs": [
        {
          "output_type": "execute_result",
          "data": {
            "text/plain": [
              "0.9664429530201343"
            ]
          },
          "metadata": {},
          "execution_count": 11
        }
      ]
    },
    {
      "cell_type": "markdown",
      "source": [
        "Are you overfitting?"
      ],
      "metadata": {
        "id": "jF-0N1Jkp_l3"
      }
    },
    {
      "cell_type": "code",
      "source": [
        "f1_score(y_train, xgb_model.predict(X_train))"
      ],
      "metadata": {
        "colab": {
          "base_uri": "https://localhost:8080/"
        },
        "id": "VKnk38LyqBvz",
        "outputId": "01f7f108-748f-49f6-8c31-5682334794b9"
      },
      "execution_count": null,
      "outputs": [
        {
          "output_type": "execute_result",
          "data": {
            "text/plain": [
              "0.9867724867724869"
            ]
          },
          "metadata": {},
          "execution_count": 12
        }
      ]
    },
    {
      "cell_type": "code",
      "source": [
        "cm = confusion_matrix(y_test, y_pred, labels=[1, 0])\n",
        "cm"
      ],
      "metadata": {
        "colab": {
          "base_uri": "https://localhost:8080/"
        },
        "id": "4J23irvm2kDg",
        "outputId": "4110ca22-b46b-42a9-a071-92c895224ad7"
      },
      "execution_count": null,
      "outputs": [
        {
          "output_type": "execute_result",
          "data": {
            "text/plain": [
              "array([[144,   5],\n",
              "       [  5, 154]])"
            ]
          },
          "metadata": {},
          "execution_count": 13
        }
      ]
    },
    {
      "cell_type": "code",
      "source": [
        "true_pos = cm[0][0]\n",
        "false_pos = cm[0][1]\n",
        "false_neg = cm[1][0]\n",
        "precision = true_pos / (true_pos + false_pos)\n",
        "recall = true_pos / (true_pos + false_neg)\n",
        "2 * precision * recall / (precision + recall)"
      ],
      "metadata": {
        "colab": {
          "base_uri": "https://localhost:8080/"
        },
        "id": "NwZSdJtL2q-E",
        "outputId": "43b9b38a-531b-4dbd-b996-275a5a982078"
      },
      "execution_count": null,
      "outputs": [
        {
          "output_type": "execute_result",
          "data": {
            "text/plain": [
              "0.9664429530201343"
            ]
          },
          "metadata": {},
          "execution_count": 14
        }
      ]
    },
    {
      "cell_type": "code",
      "source": [
        "RocCurveDisplay.from_predictions(y_test, xgb_model.predict_proba(X_test)[:, 1]);"
      ],
      "metadata": {
        "colab": {
          "base_uri": "https://localhost:8080/",
          "height": 279
        },
        "id": "uEJO9mak7hb9",
        "outputId": "48b48a42-2a33-4df0-ff8f-38549667033e"
      },
      "execution_count": null,
      "outputs": [
        {
          "output_type": "display_data",
          "data": {
            "text/plain": [
              "<Figure size 432x288 with 1 Axes>"
            ],
            "image/png": "[encoded data removed]"
          },
          "metadata": {
            "needs_background": "light"
          }
        }
      ]
    },
    {
      "cell_type": "code",
      "source": [
        "roc_auc_score(y_test, xgb_model.predict_proba(X_test)[:, 1])"
      ],
      "metadata": {
        "colab": {
          "base_uri": "https://localhost:8080/"
        },
        "id": "_RUKfeiFW5x-",
        "outputId": "5650c160-f78c-4e2a-ae7f-39423fcb7678"
      },
      "execution_count": null,
      "outputs": [
        {
          "output_type": "execute_result",
          "data": {
            "text/plain": [
              "0.9869148621839517"
            ]
          },
          "metadata": {},
          "execution_count": 22
        }
      ]
    },
    {
      "cell_type": "markdown",
      "source": [
        "# AutoML Baseline\n",
        "\n",
        "AutoML stands for Automated Machine Learning, and is yet another good approach for developing a baseline model. Most AutoML libraries will take care of feature selection, model selection, composition, and hyperparameter tuning. \n",
        "\n",
        "Most Cloud providers have some sort of AutoML capability that can easily be integrated into a business' ETL pipeline. For example, AWS has [SageMaker Autopilot](aws.amazon.com/sagemaker/autopilot/).\n",
        "\n",
        "You might ask, what's the purpose of learning all this ML stuff if AutoML can just do it for us? While AutoML is extremely powerful, you still have to understand how the model performs, be able to ensure it generalizes to new data, and provide the pipeline to feed data.\n",
        "\n",
        "In this exercise you'll be using the open source [Auto-Sklearn](https://automl.github.io/auto-sklearn/master/) to build a baseline model on the heart disease dataset. \n",
        "\n",
        "**Exercise:** Use the `AutoSklearnClassifier` to build an AutoML model for the heart disease dataset. Make sure you set a reasonable time limit for this classifier to build. Once the classifier's training is complete, calculate its performance on the test set using the f1 score. How does it compare to other baseline models you've created? \n",
        "\n",
        "Note, the [Pareto Principle](https://en.wikipedia.org/wiki/Pareto_principle) applies to ML development. Many practitioners have noted that in ML you'll spend 80% of your time trying to get the elusive 20% boost in performance."
      ],
      "metadata": {
        "id": "nJCg8WZJGXv4"
      }
    },
    {
      "cell_type": "code",
      "source": [
        "from autosklearn.classification import AutoSklearnClassifier"
      ],
      "metadata": {
        "id": "ApzTKuuk88sF"
      },
      "execution_count": null,
      "outputs": []
    },
    {
      "cell_type": "code",
      "source": [
        "automl = AutoSklearnClassifier(time_left_for_this_task=300)\n",
        "automl.fit(X_train, y_train)\n",
        "y_pred = automl.predict(X_test)"
      ],
      "metadata": {
        "id": "6N5VTM9GJGVb"
      },
      "execution_count": null,
      "outputs": []
    },
    {
      "cell_type": "code",
      "source": [
        "f1_score(y_test, y_pred)"
      ],
      "metadata": {
        "colab": {
          "base_uri": "https://localhost:8080/"
        },
        "id": "tcZzk5QtJL87",
        "outputId": "dc251aad-0192-47b3-a4a4-122c02b73679"
      },
      "execution_count": null,
      "outputs": [
        {
          "output_type": "execute_result",
          "data": {
            "text/plain": [
              "0.9863945578231292"
            ]
          },
          "metadata": {},
          "execution_count": 14
        }
      ]
    },
    {
      "cell_type": "markdown",
      "source": [
        "# Models will Learn...\n",
        "\n",
        "It's important to know that, by design, machine learning algorithms will find correlations between any feature set and target variables, even if there aren't any. This is due to random noise and statistical fluctuations. Any machine learning model worth its weight should be able to out perform a similar model trained purely on noise. \n",
        "\n",
        "**Exercise:** Write a loop that trains `XGBClassifier` on the training data 100 times. But there's a catch. For each iteration, randomly shuffle the labels so that the only relationship between the features and target variable is random noise. Use numpy's `random.shuffle` to do the shuffling. Also, for each iteration, calculate the f1 score on the test set and store it in a list. Plot a histogram of f1 scores. How do the values compare to your other baseline models?   \n",
        "\n",
        "**Exercise:** As you may have guessed `train_test_split` only offers one of many possible partitions of data. It's useful to see that the particular partition can have a large effect on the trained model's performance. Write a loop that trains `XGBClassifier` on 100 different training data sets. Use `train_test_split` but don't set the `random_state`. For each iteration, calculate the f1 score on the test set and plot the distribution using a histogram. How much variability do you see in model performance? "
      ],
      "metadata": {
        "id": "jFwyCsxC7PHH"
      }
    },
    {
      "cell_type": "markdown",
      "source": [
        "## Shuffling the labels"
      ],
      "metadata": {
        "id": "sqZ3_2SbM5hh"
      }
    },
    {
      "cell_type": "code",
      "source": [
        "y_train_shuffled = y_train.values\n",
        "f1_scores_shuffled = []\n",
        "for i in range(100):\n",
        "  np.random.shuffle(y_train_shuffled)\n",
        "  xgb_model = xgb.XGBClassifier(random_state=42)\n",
        "  xgb_model.fit(X_train, y_train_shuffled)\n",
        "  y_pred = xgb_model.predict(X_test)\n",
        "  f1_scores_shuffled.append(f1_score(y_test, y_pred))"
      ],
      "metadata": {
        "id": "s7dQCuCSNJpK"
      },
      "execution_count": null,
      "outputs": []
    },
    {
      "cell_type": "code",
      "source": [
        "sns.histplot(data=f1_scores_shuffled);"
      ],
      "metadata": {
        "colab": {
          "base_uri": "https://localhost:8080/",
          "height": 282
        },
        "id": "BxEfK1BYM4ya",
        "outputId": "f1628db3-735b-469c-87b9-c3bf14cd0f36"
      },
      "execution_count": null,
      "outputs": [
        {
          "output_type": "execute_result",
          "data": {
            "text/plain": [
              "<matplotlib.axes._subplots.AxesSubplot at 0x7f9edecab350>"
            ]
          },
          "metadata": {},
          "execution_count": 35
        },
        {
          "output_type": "display_data",
          "data": {
            "text/plain": [
              "<Figure size 432x288 with 1 Axes>"
            ],
            "image/png": "[encoded data removed]"
          },
          "metadata": {
            "needs_background": "light"
          }
        }
      ]
    },
    {
      "cell_type": "markdown",
      "source": [
        "## Training on Different Splits"
      ],
      "metadata": {
        "id": "4oLNiMI7w73E"
      }
    },
    {
      "cell_type": "code",
      "source": [
        "f1_scores = []\n",
        "for i in range(100):\n",
        "  X_train, X_test, y_train, y_test = (\n",
        "    train_test_split(\n",
        "        heart_df.iloc[:, ~heart_df.columns.isin(['target'])], \n",
        "        heart_df['target'], \n",
        "        test_size=0.3,\n",
        "        shuffle=True\n",
        "        )\n",
        "    )\n",
        "  xgb_model = xgb.XGBClassifier(random_state=42)\n",
        "  xgb_model.fit(X_train, y_train)\n",
        "  y_pred = xgb_model.predict(X_test)\n",
        "  f1_scores.append(f1_score(y_test, y_pred))"
      ],
      "metadata": {
        "id": "zibMAp_O7WME"
      },
      "execution_count": null,
      "outputs": []
    },
    {
      "cell_type": "code",
      "source": [
        "sns.histplot(data=f1_scores);"
      ],
      "metadata": {
        "colab": {
          "base_uri": "https://localhost:8080/",
          "height": 265
        },
        "id": "wsmKGUDU8Cte",
        "outputId": "08d18983-b6f4-4909-b070-14886787b1fc"
      },
      "execution_count": null,
      "outputs": [
        {
          "output_type": "display_data",
          "data": {
            "text/plain": [
              "<Figure size 432x288 with 1 Axes>"
            ],
            "image/png": "[encoded data removed]"
          },
          "metadata": {
            "needs_background": "light"
          }
        }
      ]
    }
  ]
}