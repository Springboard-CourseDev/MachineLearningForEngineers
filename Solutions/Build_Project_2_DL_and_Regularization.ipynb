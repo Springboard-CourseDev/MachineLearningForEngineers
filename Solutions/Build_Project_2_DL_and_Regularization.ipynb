{
  "nbformat": 4,
  "nbformat_minor": 0,
  "metadata": {
    "colab": {
      "provenance": [],
      "collapsed_sections": [],
      "authorship_tag": "ABX9TyNeFUcle+OZQOZTRqovzS1L",
      "include_colab_link": true
    },
    "kernelspec": {
      "name": "python3",
      "display_name": "Python 3"
    },
    "language_info": {
      "name": "python"
    }
  },
  "cells": [
    {
      "cell_type": "markdown",
      "metadata": {
        "id": "view-in-github",
        "colab_type": "text"
      },
      "source": [
        "<a href=\"https://colab.research.google.com/github/Springboard-CourseDev/MachineLearningForEngineers/blob/master/Solutions/Build_Project_2_DL_and_Regularization.ipynb\" target=\"_parent\"><img src=\"https://colab.research.google.com/assets/colab-badge.svg\" alt=\"Open In Colab\"/></a>"
      ]
    },
    {
      "cell_type": "markdown",
      "source": [
        "# Build Project 2: Deep Learning and Regularization\n",
        "\n",
        "At this point in the curriculum you've been introduced to the basic components of neural networks and how to train them using gradient descent-based algorithms. Note, deep learning and neural networks are used interchangeably here since a neural network with lots of hidden layers is essentially deep learning.   \n",
        "\n",
        "In this project, you'll be given the opportunity to build and train a neural network to predict click-thru rate (CTR) on a subset of [Kaggle's Avazu CTR dataset](https://www.kaggle.com/competitions/avazu-ctr-prediction/), which you've already been exposed to in the previous build project. The objectives of this project are as follows:\n",
        "\n",
        "  * Build and train neural networks on the Avazu dataset using Keras.\n",
        "  * Explore the effect of neural network entities (e.g. batch normalization, class weightings, optimization algorithms) on model performance.  \n",
        "  * Apply forms of regularization like Dropout, and Early Stopping to reduce over-fitting.  "
      ],
      "metadata": {
        "id": "243qA9gDdl9b"
      }
    },
    {
      "cell_type": "markdown",
      "source": [
        "## Import and Process Data"
      ],
      "metadata": {
        "id": "KEG5mIgmNeZI"
      }
    },
    {
      "cell_type": "markdown",
      "source": [
        "Import a few libraries you'll be using. Also, set the random seed to get reproducible results. Setting the random seed this way provides deterministic results for Python, NumPy, and TensorFlow. You can read more about this [here](https://www.tensorflow.org/api_docs/python/tf/keras/utils/set_random_seed).   "
      ],
      "metadata": {
        "id": "fmIwa6PVh9am"
      }
    },
    {
      "cell_type": "code",
      "source": [
        "import pandas as pd\n",
        "import numpy as np\n",
        "import seaborn as sns\n",
        "import tensorflow as tf\n",
        "from sklearn.model_selection import train_test_split\n",
        "\n",
        "tf.keras.utils.set_random_seed(47)"
      ],
      "metadata": {
        "id": "OLWF_M0ddzPx"
      },
      "execution_count": null,
      "outputs": []
    },
    {
      "cell_type": "markdown",
      "source": [
        "Load the Avazu CTR dataset into pandas.\n",
        "\n"
      ],
      "metadata": {
        "id": "RoK2xn9JipWj"
      }
    },
    {
      "cell_type": "code",
      "source": [
        "avazu_df = pd.read_csv('/content/avazu_ctr.zip')"
      ],
      "metadata": {
        "id": "5y89Iy3gfj9a"
      },
      "execution_count": null,
      "outputs": []
    },
    {
      "cell_type": "markdown",
      "source": [
        "How many rows and columns are in the raw dataset?"
      ],
      "metadata": {
        "id": "_hsT6oMziOFd"
      }
    },
    {
      "cell_type": "code",
      "source": [
        "avazu_df.shape"
      ],
      "metadata": {
        "colab": {
          "base_uri": "https://localhost:8080/"
        },
        "id": "8pomBOZKgmM8",
        "outputId": "cf613c8e-62ba-4f0c-975e-ea8c4244cb63"
      },
      "execution_count": null,
      "outputs": [
        {
          "output_type": "execute_result",
          "data": {
            "text/plain": [
              "(404773, 24)"
            ]
          },
          "metadata": {},
          "execution_count": 4
        }
      ]
    },
    {
      "cell_type": "markdown",
      "source": [
        "View the first 5 rows in the dataframe. Sometimes, for dataframes with a lot of features, it's useful to transpose the output of the `head` function. "
      ],
      "metadata": {
        "id": "qUsydjaBiYOs"
      }
    },
    {
      "cell_type": "code",
      "source": [
        "avazu_df.head().transpose()"
      ],
      "metadata": {
        "colab": {
          "base_uri": "https://localhost:8080/",
          "height": 846
        },
        "id": "JCcjoMfXfygz",
        "outputId": "efd6d7a5-4ef1-4101-a863-12d568a8e9f4"
      },
      "execution_count": null,
      "outputs": [
        {
          "output_type": "execute_result",
          "data": {
            "text/plain": [
              "                                     0                     1  \\\n",
              "id                10004482643316086592  10006777279679619273   \n",
              "click                                0                     0   \n",
              "hour                          14102100              14102100   \n",
              "C1                                1005                  1005   \n",
              "banner_pos                           0                     0   \n",
              "site_id                       85f751fd              85f751fd   \n",
              "site_domain                   c4e18dd6              c4e18dd6   \n",
              "site_category                 50e219e0              50e219e0   \n",
              "app_id                        66a5f0f3              d2bb6502   \n",
              "app_domain                    d9b5648e              2347f47a   \n",
              "app_category                  cef3e649              8ded1f7a   \n",
              "device_id                     a99f214a              4b2309e9   \n",
              "device_ip                     fa60af6b              22c2dcf4   \n",
              "device_model                  b4b19c97              d6e0e6ff   \n",
              "device_type                          1                     1   \n",
              "device_conn_type                     0                     3   \n",
              "C14                              21234                 18987   \n",
              "C15                                320                   320   \n",
              "C16                                 50                    50   \n",
              "C17                               2434                  2158   \n",
              "C18                                  3                     3   \n",
              "C19                                163                   291   \n",
              "C20                             100088                100193   \n",
              "C21                                 61                    61   \n",
              "\n",
              "                                     2                     3  \\\n",
              "id                10023110164290040687  10060395879435434399   \n",
              "click                                0                     1   \n",
              "hour                          14102100              14102100   \n",
              "C1                                1005                  1005   \n",
              "banner_pos                           0                     0   \n",
              "site_id                       1fbe01fe              d9750ee7   \n",
              "site_domain                   f3845767              98572c79   \n",
              "site_category                 28905ebd              f028772b   \n",
              "app_id                        ecad2386              ecad2386   \n",
              "app_domain                    7801e8d9              7801e8d9   \n",
              "app_category                  07d7df22              07d7df22   \n",
              "device_id                     a99f214a              a99f214a   \n",
              "device_ip                     d80a4c04              75bb1b58   \n",
              "device_model                  6332421a              06fbfd42   \n",
              "device_type                          1                     1   \n",
              "device_conn_type                     0                     0   \n",
              "C14                              15702                 17914   \n",
              "C15                                320                   320   \n",
              "C16                                 50                    50   \n",
              "C17                               1722                  2043   \n",
              "C18                                  0                     2   \n",
              "C19                                 35                    39   \n",
              "C20                                 -1                    -1   \n",
              "C21                                 79                    32   \n",
              "\n",
              "                                     4  \n",
              "id                10068417048966587383  \n",
              "click                                0  \n",
              "hour                          14102100  \n",
              "C1                                1005  \n",
              "banner_pos                           0  \n",
              "site_id                       1fbe01fe  \n",
              "site_domain                   f3845767  \n",
              "site_category                 28905ebd  \n",
              "app_id                        ecad2386  \n",
              "app_domain                    7801e8d9  \n",
              "app_category                  07d7df22  \n",
              "device_id                     a99f214a  \n",
              "device_ip                     e5e3b00f  \n",
              "device_model                  4ea23a13  \n",
              "device_type                          1  \n",
              "device_conn_type                     0  \n",
              "C14                              15708  \n",
              "C15                                320  \n",
              "C16                                 50  \n",
              "C17                               1722  \n",
              "C18                                  0  \n",
              "C19                                 35  \n",
              "C20                                 -1  \n",
              "C21                                 79  "
            ],
            "text/html": [
              "\n",
              "  <div id=\"df-6d577b3c-0532-4ec2-9af8-b98b4abcd2f5\">\n",
              "    <div class=\"colab-df-container\">\n",
              "      <div>\n",
              "<style scoped>\n",
              "    .dataframe tbody tr th:only-of-type {\n",
              "        vertical-align: middle;\n",
              "    }\n",
              "\n",
              "    .dataframe tbody tr th {\n",
              "        vertical-align: top;\n",
              "    }\n",
              "\n",
              "    .dataframe thead th {\n",
              "        text-align: right;\n",
              "    }\n",
              "</style>\n",
              "<table border=\"1\" class=\"dataframe\">\n",
              "  <thead>\n",
              "    <tr style=\"text-align: right;\">\n",
              "      <th></th>\n",
              "      <th>0</th>\n",
              "      <th>1</th>\n",
              "      <th>2</th>\n",
              "      <th>3</th>\n",
              "      <th>4</th>\n",
              "    </tr>\n",
              "  </thead>\n",
              "  <tbody>\n",
              "    <tr>\n",
              "      <th>id</th>\n",
              "      <td>10004482643316086592</td>\n",
              "      <td>10006777279679619273</td>\n",
              "      <td>10023110164290040687</td>\n",
              "      <td>10060395879435434399</td>\n",
              "      <td>10068417048966587383</td>\n",
              "    </tr>\n",
              "    <tr>\n",
              "      <th>click</th>\n",
              "      <td>0</td>\n",
              "      <td>0</td>\n",
              "      <td>0</td>\n",
              "      <td>1</td>\n",
              "      <td>0</td>\n",
              "    </tr>\n",
              "    <tr>\n",
              "      <th>hour</th>\n",
              "      <td>14102100</td>\n",
              "      <td>14102100</td>\n",
              "      <td>14102100</td>\n",
              "      <td>14102100</td>\n",
              "      <td>14102100</td>\n",
              "    </tr>\n",
              "    <tr>\n",
              "      <th>C1</th>\n",
              "      <td>1005</td>\n",
              "      <td>1005</td>\n",
              "      <td>1005</td>\n",
              "      <td>1005</td>\n",
              "      <td>1005</td>\n",
              "    </tr>\n",
              "    <tr>\n",
              "      <th>banner_pos</th>\n",
              "      <td>0</td>\n",
              "      <td>0</td>\n",
              "      <td>0</td>\n",
              "      <td>0</td>\n",
              "      <td>0</td>\n",
              "    </tr>\n",
              "    <tr>\n",
              "      <th>site_id</th>\n",
              "      <td>85f751fd</td>\n",
              "      <td>85f751fd</td>\n",
              "      <td>1fbe01fe</td>\n",
              "      <td>d9750ee7</td>\n",
              "      <td>1fbe01fe</td>\n",
              "    </tr>\n",
              "    <tr>\n",
              "      <th>site_domain</th>\n",
              "      <td>c4e18dd6</td>\n",
              "      <td>c4e18dd6</td>\n",
              "      <td>f3845767</td>\n",
              "      <td>98572c79</td>\n",
              "      <td>f3845767</td>\n",
              "    </tr>\n",
              "    <tr>\n",
              "      <th>site_category</th>\n",
              "      <td>50e219e0</td>\n",
              "      <td>50e219e0</td>\n",
              "      <td>28905ebd</td>\n",
              "      <td>f028772b</td>\n",
              "      <td>28905ebd</td>\n",
              "    </tr>\n",
              "    <tr>\n",
              "      <th>app_id</th>\n",
              "      <td>66a5f0f3</td>\n",
              "      <td>d2bb6502</td>\n",
              "      <td>ecad2386</td>\n",
              "      <td>ecad2386</td>\n",
              "      <td>ecad2386</td>\n",
              "    </tr>\n",
              "    <tr>\n",
              "      <th>app_domain</th>\n",
              "      <td>d9b5648e</td>\n",
              "      <td>2347f47a</td>\n",
              "      <td>7801e8d9</td>\n",
              "      <td>7801e8d9</td>\n",
              "      <td>7801e8d9</td>\n",
              "    </tr>\n",
              "    <tr>\n",
              "      <th>app_category</th>\n",
              "      <td>cef3e649</td>\n",
              "      <td>8ded1f7a</td>\n",
              "      <td>07d7df22</td>\n",
              "      <td>07d7df22</td>\n",
              "      <td>07d7df22</td>\n",
              "    </tr>\n",
              "    <tr>\n",
              "      <th>device_id</th>\n",
              "      <td>a99f214a</td>\n",
              "      <td>4b2309e9</td>\n",
              "      <td>a99f214a</td>\n",
              "      <td>a99f214a</td>\n",
              "      <td>a99f214a</td>\n",
              "    </tr>\n",
              "    <tr>\n",
              "      <th>device_ip</th>\n",
              "      <td>fa60af6b</td>\n",
              "      <td>22c2dcf4</td>\n",
              "      <td>d80a4c04</td>\n",
              "      <td>75bb1b58</td>\n",
              "      <td>e5e3b00f</td>\n",
              "    </tr>\n",
              "    <tr>\n",
              "      <th>device_model</th>\n",
              "      <td>b4b19c97</td>\n",
              "      <td>d6e0e6ff</td>\n",
              "      <td>6332421a</td>\n",
              "      <td>06fbfd42</td>\n",
              "      <td>4ea23a13</td>\n",
              "    </tr>\n",
              "    <tr>\n",
              "      <th>device_type</th>\n",
              "      <td>1</td>\n",
              "      <td>1</td>\n",
              "      <td>1</td>\n",
              "      <td>1</td>\n",
              "      <td>1</td>\n",
              "    </tr>\n",
              "    <tr>\n",
              "      <th>device_conn_type</th>\n",
              "      <td>0</td>\n",
              "      <td>3</td>\n",
              "      <td>0</td>\n",
              "      <td>0</td>\n",
              "      <td>0</td>\n",
              "    </tr>\n",
              "    <tr>\n",
              "      <th>C14</th>\n",
              "      <td>21234</td>\n",
              "      <td>18987</td>\n",
              "      <td>15702</td>\n",
              "      <td>17914</td>\n",
              "      <td>15708</td>\n",
              "    </tr>\n",
              "    <tr>\n",
              "      <th>C15</th>\n",
              "      <td>320</td>\n",
              "      <td>320</td>\n",
              "      <td>320</td>\n",
              "      <td>320</td>\n",
              "      <td>320</td>\n",
              "    </tr>\n",
              "    <tr>\n",
              "      <th>C16</th>\n",
              "      <td>50</td>\n",
              "      <td>50</td>\n",
              "      <td>50</td>\n",
              "      <td>50</td>\n",
              "      <td>50</td>\n",
              "    </tr>\n",
              "    <tr>\n",
              "      <th>C17</th>\n",
              "      <td>2434</td>\n",
              "      <td>2158</td>\n",
              "      <td>1722</td>\n",
              "      <td>2043</td>\n",
              "      <td>1722</td>\n",
              "    </tr>\n",
              "    <tr>\n",
              "      <th>C18</th>\n",
              "      <td>3</td>\n",
              "      <td>3</td>\n",
              "      <td>0</td>\n",
              "      <td>2</td>\n",
              "      <td>0</td>\n",
              "    </tr>\n",
              "    <tr>\n",
              "      <th>C19</th>\n",
              "      <td>163</td>\n",
              "      <td>291</td>\n",
              "      <td>35</td>\n",
              "      <td>39</td>\n",
              "      <td>35</td>\n",
              "    </tr>\n",
              "    <tr>\n",
              "      <th>C20</th>\n",
              "      <td>100088</td>\n",
              "      <td>100193</td>\n",
              "      <td>-1</td>\n",
              "      <td>-1</td>\n",
              "      <td>-1</td>\n",
              "    </tr>\n",
              "    <tr>\n",
              "      <th>C21</th>\n",
              "      <td>61</td>\n",
              "      <td>61</td>\n",
              "      <td>79</td>\n",
              "      <td>32</td>\n",
              "      <td>79</td>\n",
              "    </tr>\n",
              "  </tbody>\n",
              "</table>\n",
              "</div>\n",
              "      <button class=\"colab-df-convert\" onclick=\"convertToInteractive('df-6d577b3c-0532-4ec2-9af8-b98b4abcd2f5')\"\n",
              "              title=\"Convert this dataframe to an interactive table.\"\n",
              "              style=\"display:none;\">\n",
              "        \n",
              "  <svg xmlns=\"http://www.w3.org/2000/svg\" height=\"24px\"viewBox=\"0 0 24 24\"\n",
              "       width=\"24px\">\n",
              "    <path d=\"M0 0h24v24H0V0z\" fill=\"none\"/>\n",
              "    <path d=\"M18.56 5.44l.94 2.06.94-2.06 2.06-.94-2.06-.94-.94-2.06-.94 2.06-2.06.94zm-11 1L8.5 8.5l.94-2.06 2.06-.94-2.06-.94L8.5 2.5l-.94 2.06-2.06.94zm10 10l.94 2.06.94-2.06 2.06-.94-2.06-.94-.94-2.06-.94 2.06-2.06.94z\"/><path d=\"M17.41 7.96l-1.37-1.37c-.4-.4-.92-.59-1.43-.59-.52 0-1.04.2-1.43.59L10.3 9.45l-7.72 7.72c-.78.78-.78 2.05 0 2.83L4 21.41c.39.39.9.59 1.41.59.51 0 1.02-.2 1.41-.59l7.78-7.78 2.81-2.81c.8-.78.8-2.07 0-2.86zM5.41 20L4 18.59l7.72-7.72 1.47 1.35L5.41 20z\"/>\n",
              "  </svg>\n",
              "      </button>\n",
              "      \n",
              "  <style>\n",
              "    .colab-df-container {\n",
              "      display:flex;\n",
              "      flex-wrap:wrap;\n",
              "      gap: 12px;\n",
              "    }\n",
              "\n",
              "    .colab-df-convert {\n",
              "      background-color: #E8F0FE;\n",
              "      border: none;\n",
              "      border-radius: 50%;\n",
              "      cursor: pointer;\n",
              "      display: none;\n",
              "      fill: #1967D2;\n",
              "      height: 32px;\n",
              "      padding: 0 0 0 0;\n",
              "      width: 32px;\n",
              "    }\n",
              "\n",
              "    .colab-df-convert:hover {\n",
              "      background-color: #E2EBFA;\n",
              "      box-shadow: 0px 1px 2px rgba(60, 64, 67, 0.3), 0px 1px 3px 1px rgba(60, 64, 67, 0.15);\n",
              "      fill: #174EA6;\n",
              "    }\n",
              "\n",
              "    [theme=dark] .colab-df-convert {\n",
              "      background-color: #3B4455;\n",
              "      fill: #D2E3FC;\n",
              "    }\n",
              "\n",
              "    [theme=dark] .colab-df-convert:hover {\n",
              "      background-color: #434B5C;\n",
              "      box-shadow: 0px 1px 3px 1px rgba(0, 0, 0, 0.15);\n",
              "      filter: drop-shadow(0px 1px 2px rgba(0, 0, 0, 0.3));\n",
              "      fill: #FFFFFF;\n",
              "    }\n",
              "  </style>\n",
              "\n",
              "      <script>\n",
              "        const buttonEl =\n",
              "          document.querySelector('#df-6d577b3c-0532-4ec2-9af8-b98b4abcd2f5 button.colab-df-convert');\n",
              "        buttonEl.style.display =\n",
              "          google.colab.kernel.accessAllowed ? 'block' : 'none';\n",
              "\n",
              "        async function convertToInteractive(key) {\n",
              "          const element = document.querySelector('#df-6d577b3c-0532-4ec2-9af8-b98b4abcd2f5');\n",
              "          const dataTable =\n",
              "            await google.colab.kernel.invokeFunction('convertToInteractive',\n",
              "                                                     [key], {});\n",
              "          if (!dataTable) return;\n",
              "\n",
              "          const docLinkHtml = 'Like what you see? Visit the ' +\n",
              "            '<a target=\"_blank\" href=https://colab.research.google.com/notebooks/data_table.ipynb>data table notebook</a>'\n",
              "            + ' to learn more about interactive tables.';\n",
              "          element.innerHTML = '';\n",
              "          dataTable['output_type'] = 'display_data';\n",
              "          await google.colab.output.renderOutput(dataTable, element);\n",
              "          const docLink = document.createElement('div');\n",
              "          docLink.innerHTML = docLinkHtml;\n",
              "          element.appendChild(docLink);\n",
              "        }\n",
              "      </script>\n",
              "    </div>\n",
              "  </div>\n",
              "  "
            ]
          },
          "metadata": {},
          "execution_count": 5
        }
      ]
    },
    {
      "cell_type": "markdown",
      "source": [
        "First, check if there are any null values that must be accounted for in the dataset. "
      ],
      "metadata": {
        "id": "aGnEEZdLebVW"
      }
    },
    {
      "cell_type": "code",
      "source": [
        "avazu_df.isnull().any()"
      ],
      "metadata": {
        "colab": {
          "base_uri": "https://localhost:8080/"
        },
        "id": "wZJfKjnWf10W",
        "outputId": "b74736e3-aee3-47b2-f5c1-c966e808db2b"
      },
      "execution_count": null,
      "outputs": [
        {
          "output_type": "execute_result",
          "data": {
            "text/plain": [
              "id                  False\n",
              "click               False\n",
              "hour                False\n",
              "C1                  False\n",
              "banner_pos          False\n",
              "site_id             False\n",
              "site_domain         False\n",
              "site_category       False\n",
              "app_id              False\n",
              "app_domain          False\n",
              "app_category        False\n",
              "device_id           False\n",
              "device_ip           False\n",
              "device_model        False\n",
              "device_type         False\n",
              "device_conn_type    False\n",
              "C14                 False\n",
              "C15                 False\n",
              "C16                 False\n",
              "C17                 False\n",
              "C18                 False\n",
              "C19                 False\n",
              "C20                 False\n",
              "C21                 False\n",
              "dtype: bool"
            ]
          },
          "metadata": {},
          "execution_count": 5
        }
      ]
    },
    {
      "cell_type": "markdown",
      "source": [
        "Let's split the data into training and validation sets."
      ],
      "metadata": {
        "id": "3JC7TMcienwY"
      }
    },
    {
      "cell_type": "code",
      "source": [
        "X_train, X_test = train_test_split(\n",
        "    avazu_df, \n",
        "    train_size=0.8, \n",
        "    random_state=42, \n",
        "    shuffle=True\n",
        ")\n",
        "y_test = X_test.pop('click')\n",
        "y_train = X_train.pop('click')"
      ],
      "metadata": {
        "id": "G-SUiI2tg0BW"
      },
      "execution_count": null,
      "outputs": []
    },
    {
      "cell_type": "markdown",
      "source": [
        "Calculate the ratio of positive labels in the training data."
      ],
      "metadata": {
        "id": "vXTjxsbvSPyZ"
      }
    },
    {
      "cell_type": "code",
      "source": [
        "y_train.value_counts(normalize=True)"
      ],
      "metadata": {
        "colab": {
          "base_uri": "https://localhost:8080/"
        },
        "id": "PxEnnZc0hX0W",
        "outputId": "22918440-e6a4-4df6-9079-9381c973154d"
      },
      "execution_count": null,
      "outputs": [
        {
          "output_type": "execute_result",
          "data": {
            "text/plain": [
              "0    0.831578\n",
              "1    0.168422\n",
              "Name: click, dtype: float64"
            ]
          },
          "metadata": {},
          "execution_count": 7
        }
      ]
    },
    {
      "cell_type": "markdown",
      "source": [
        "Calculate the ratio of positive labels in the test data. We expect this to be similar to the training data. This is a slightly unbalanced dataset."
      ],
      "metadata": {
        "id": "LTnFPbi6SXb2"
      }
    },
    {
      "cell_type": "code",
      "source": [
        "y_test.value_counts(normalize=True)"
      ],
      "metadata": {
        "colab": {
          "base_uri": "https://localhost:8080/"
        },
        "id": "OaxM8ez3Pwmn",
        "outputId": "cd9db2bc-8339-4dff-8cc5-f4f36be6a575"
      },
      "execution_count": null,
      "outputs": [
        {
          "output_type": "execute_result",
          "data": {
            "text/plain": [
              "0    0.831388\n",
              "1    0.168612\n",
              "Name: click, dtype: float64"
            ]
          },
          "metadata": {},
          "execution_count": 8
        }
      ]
    },
    {
      "cell_type": "markdown",
      "source": [
        "From the `hour` feature, extract the actual hour of day from the provided string. Do this for both the train and test data. "
      ],
      "metadata": {
        "id": "-IswUGBGSy1t"
      }
    },
    {
      "cell_type": "code",
      "source": [
        "X_train['hour'] = X_train['hour'].apply(lambda x: str(x)[-2:])\n",
        "X_test['hour'] = X_test['hour'].apply(lambda x: str(x)[-2:])"
      ],
      "metadata": {
        "id": "M9mtYw6XE_6t"
      },
      "execution_count": null,
      "outputs": []
    },
    {
      "cell_type": "markdown",
      "source": [
        "From the previous project that focused on EDA for the Avazu dataset, we know most of the features are categorical. The following dictionary is keyed by feature name for which one hot encoding will be applied. Values are category values to binarize. This object will be used as input to a Scikit-Learn `Pipeline`. Features not keyed in the dictionary will be removed altogether. "
      ],
      "metadata": {
        "id": "TvhKU14BTdhK"
      }
    },
    {
      "cell_type": "code",
      "source": [
        "cols_ohe = {\n",
        "    'hour': np.sort(X_train['hour'].unique()),\n",
        "    'C1': [1002, 1005, 1010],\n",
        "    'banner_pos': [0, 1],\n",
        "    'site_id': ['85f751fd', '1fbe01fe', 'e151e245', 'd9750ee7', '5b08c53b'],\n",
        "    'site_domain': ['c4e18dd6', 'f3845767', '7e091613', '7687a86e', '98572c79'],\n",
        "    'site_category': ['50e219e0', 'f028772b', '28905ebd', '3e814130'],\n",
        "    'app_id': ['ecad2386'],\n",
        "    'app_domain': ['7801e8d9', '2347f47a'],\n",
        "    'app_category': ['07d7df22', '0f2161f8'],\n",
        "    'device_id': ['a99f214a'],\n",
        "    'device_conn_type': [0, 2, 3, 5],\n",
        "    'C15': [300, 320],\n",
        "    'C18': [0, 1, 2, 3],\n",
        "    'C19': [35, 39, 167],\n",
        "    'C20': [-1],\n",
        "    'C21': [23, 48, 61, 71, 79, 221],\n",
        "}"
      ],
      "metadata": {
        "id": "--1OlF9SKzZj"
      },
      "execution_count": null,
      "outputs": []
    },
    {
      "cell_type": "markdown",
      "source": [
        "Import relevant Scikit-Learn Pipeline libraries needed to apply columns transformations. "
      ],
      "metadata": {
        "id": "mae85J8HO38S"
      }
    },
    {
      "cell_type": "code",
      "source": [
        "from sklearn.pipeline import Pipeline\n",
        "from sklearn.preprocessing import OneHotEncoder\n",
        "from sklearn.compose import ColumnTransformer"
      ],
      "metadata": {
        "id": "iiiU71lsrTiI"
      },
      "execution_count": null,
      "outputs": []
    },
    {
      "cell_type": "markdown",
      "source": [
        "**Exercise**: Create a `Pipeline` object that applies One Hot Encoding to the columns defined in the `cols_ohe` dictionary. Apply the pipeline to the train and test data, savings the results for later use. "
      ],
      "metadata": {
        "id": "6tQgUEeoRIdX"
      }
    },
    {
      "cell_type": "code",
      "source": [
        "preprocessor = ColumnTransformer(\n",
        "    transformers=[\n",
        "        ('ohe',\n",
        "         OneHotEncoder(\n",
        "             categories=list(cols_ohe.values()),\n",
        "             handle_unknown='ignore',\n",
        "             sparse=False\n",
        "         ),\n",
        "         list(cols_ohe.keys())\n",
        "         )\n",
        "    ]\n",
        ")\n",
        "\n",
        "pipe = Pipeline(\n",
        "    steps=[\n",
        "        ('preprocessor', preprocessor)\n",
        "    ]\n",
        ")"
      ],
      "metadata": {
        "id": "sonL65jo7f5u"
      },
      "execution_count": null,
      "outputs": []
    },
    {
      "cell_type": "code",
      "source": [
        "Xt_train = pipe.fit_transform(X_train)\n",
        "Xt_test = pipe.fit_transform(X_test)"
      ],
      "metadata": {
        "id": "d-oONDDa_yjD"
      },
      "execution_count": null,
      "outputs": []
    },
    {
      "cell_type": "code",
      "source": [
        "Xt_train.shape, Xt_test.shape"
      ],
      "metadata": {
        "colab": {
          "base_uri": "https://localhost:8080/"
        },
        "id": "EIITEH979GUP",
        "outputId": "c73646e4-cba0-48cc-ba57-21ddb0a0e396"
      },
      "execution_count": null,
      "outputs": [
        {
          "output_type": "execute_result",
          "data": {
            "text/plain": [
              "((323818, 69), (80955, 69))"
            ]
          },
          "metadata": {},
          "execution_count": 14
        }
      ]
    },
    {
      "cell_type": "markdown",
      "source": [
        "## Build a Baseline\n",
        "\n",
        "As discussed in a previous project, it's always crucial to start off a machine learning project by building a solid baseline model. The baseline model should be quick to build while still yielding non-trivial performance. Here and throughout the rest of this project, use the [area under the receiver operating curve](https://scikit-learn.org/stable/modules/generated/sklearn.metrics.roc_auc_score.html) metric to gauge model performance."
      ],
      "metadata": {
        "id": "OvOd7N20V1x2"
      }
    },
    {
      "cell_type": "markdown",
      "source": [
        "**Exercise**: Build a baseline model using `RandomForestClassifier`. Evaluate the model on the test data using the `roc_auc_score` function. How does the baseline model perform compared to a model that outputs random labels? "
      ],
      "metadata": {
        "id": "KHL20mNtS0pc"
      }
    },
    {
      "cell_type": "code",
      "source": [
        "from sklearn.metrics import roc_auc_score\n",
        "from sklearn.ensemble import RandomForestClassifier"
      ],
      "metadata": {
        "id": "xqUPHUXsV1E0"
      },
      "execution_count": null,
      "outputs": []
    },
    {
      "cell_type": "code",
      "source": [
        "rf = RandomForestClassifier()\n",
        "rf.fit(Xt_train, y_train)\n",
        "y_pred = rf.predict_proba(Xt_test)"
      ],
      "metadata": {
        "id": "Eld2-E0KV4FU"
      },
      "execution_count": null,
      "outputs": []
    },
    {
      "cell_type": "code",
      "source": [
        "roc_auc_score(y_test, y_pred[:, 1])"
      ],
      "metadata": {
        "colab": {
          "base_uri": "https://localhost:8080/"
        },
        "id": "17xC1_uFWacQ",
        "outputId": "fa906811-8e25-4af8-c943-68dab1c9cc6f"
      },
      "execution_count": null,
      "outputs": [
        {
          "output_type": "execute_result",
          "data": {
            "text/plain": [
              "0.6785867799337824"
            ]
          },
          "metadata": {},
          "execution_count": 18
        }
      ]
    },
    {
      "cell_type": "markdown",
      "source": [
        "## First Neural Network\n",
        "\n",
        "When building a neural network, it's good practice to start simple and slowly add layers of comlexity to gain model improvement. In this section we reproduce a logistic regression model (no hidden layers) using Keras. In the proceeding sections, we'll build on this network. Note, we opt to use Keras' Functional API instead of the Sequential API. Both work here but the Functional API is more versataille. A great discussion comparing these two can be found [here]( https://www.analyticsvidhya.com/blog/2021/07/understanding-sequential-vs-functional-api-in-keras/). "
      ],
      "metadata": {
        "id": "X2ND_Yb-Wxe5"
      }
    },
    {
      "cell_type": "markdown",
      "source": [
        "First, import some Keras features we'll be using."
      ],
      "metadata": {
        "id": "FPRtWmylXUoS"
      }
    },
    {
      "cell_type": "code",
      "source": [
        "from tensorflow.keras.models import Model\n",
        "from tensorflow.keras.layers import Input\n",
        "from tensorflow.keras.layers import Dense "
      ],
      "metadata": {
        "id": "EkDfyTmXXzGT"
      },
      "execution_count": null,
      "outputs": []
    },
    {
      "cell_type": "markdown",
      "source": [
        "**Exercise**: Use the Keras imports from above to define a `Model` object that reproduces logistic regression. Compile the model using the [Adam](https://keras.io/api/optimizers/adam/) optimizer and a [Binary Cross-Entropy](https://www.tensorflow.org/api_docs/python/tf/keras/losses/BinaryCrossentropy) loss function. How many trainable parameters does the model have?"
      ],
      "metadata": {
        "id": "tEp2VgfSXaXc"
      }
    },
    {
      "cell_type": "code",
      "source": [
        "input_layer = Input(shape=(Xt_train.shape[-1], ))\n",
        "output_layer= Dense(1, activation='sigmoid')(input_layer)\n",
        "model = Model(inputs=input_layer, outputs=output_layer)\n",
        "model.compile(optimizer='adam', loss='binary_crossentropy')"
      ],
      "metadata": {
        "id": "9LHyuLrBXHwF"
      },
      "execution_count": null,
      "outputs": []
    },
    {
      "cell_type": "code",
      "source": [
        "model.summary()"
      ],
      "metadata": {
        "colab": {
          "base_uri": "https://localhost:8080/"
        },
        "id": "k8kQ-fJsXHmI",
        "outputId": "07b081cc-e95b-423f-80b5-4b46e77faa6a"
      },
      "execution_count": null,
      "outputs": [
        {
          "output_type": "stream",
          "name": "stdout",
          "text": [
            "Model: \"model\"\n",
            "_________________________________________________________________\n",
            " Layer (type)                Output Shape              Param #   \n",
            "=================================================================\n",
            " input_1 (InputLayer)        [(None, 69)]              0         \n",
            "                                                                 \n",
            " dense (Dense)               (None, 1)                 70        \n",
            "                                                                 \n",
            "=================================================================\n",
            "Total params: 70\n",
            "Trainable params: 70\n",
            "Non-trainable params: 0\n",
            "_________________________________________________________________\n"
          ]
        }
      ]
    },
    {
      "cell_type": "markdown",
      "source": [
        "**Exercise**: Fit the model to the training data and calculate the `roc_auc_score` score on the test data. Does the model out perform the baseline? If the model trains slowly, play around with the batch size. The smaller the batch size the more frequently gradient updates occur. Also, play around with the `epochs`, or how many times the model goes through the entire training set. How does changing `epoochs` affect model performance? "
      ],
      "metadata": {
        "id": "0AzuKM7bYa2f"
      }
    },
    {
      "cell_type": "code",
      "source": [
        "model.fit(\n",
        "    Xt_train, y_train, \n",
        "    epochs=50, \n",
        "    batch_size=10000, \n",
        "    validation_data=(Xt_test, y_test),\n",
        "    verbose=0\n",
        ");"
      ],
      "metadata": {
        "colab": {
          "base_uri": "https://localhost:8080/"
        },
        "id": "Y3bY_DwOXHd3",
        "outputId": "eba37414-e6cf-4c5c-cf2b-708b6a014f12"
      },
      "execution_count": null,
      "outputs": [
        {
          "output_type": "execute_result",
          "data": {
            "text/plain": [
              "<keras.callbacks.History at 0x7ff429d5f110>"
            ]
          },
          "metadata": {},
          "execution_count": 23
        }
      ]
    },
    {
      "cell_type": "code",
      "source": [
        "y_pred = model.predict(Xt_test)\n",
        "roc_auc_score(y_test, y_pred)"
      ],
      "metadata": {
        "colab": {
          "base_uri": "https://localhost:8080/"
        },
        "id": "SgLkVnQOXHUr",
        "outputId": "cbb5b578-092d-46f4-cd00-b43b62286d64"
      },
      "execution_count": null,
      "outputs": [
        {
          "output_type": "execute_result",
          "data": {
            "text/plain": [
              "0.6582723281720384"
            ]
          },
          "metadata": {},
          "execution_count": 24
        }
      ]
    },
    {
      "cell_type": "markdown",
      "source": [
        "## Add Complexity\n",
        "\n",
        "With a basic neural network built, it's time to build in some hidden layers. Hidden layers enable the neural network to learn non-linear features, which is what makes them so powerful.  "
      ],
      "metadata": {
        "id": "yZO3-wa5aB4A"
      }
    },
    {
      "cell_type": "markdown",
      "source": [
        "**Exercise**: Build a neural network with three hidden dense layers, each of length 256 and activated with a rectified linear unit. Compile the model with an `adam` optimizer and `binary_crossentropy` loss. Also, for each epoch trained, have the AUC metric calculated. How many trainable parameters does the model have? "
      ],
      "metadata": {
        "id": "3g7rWel52oDM"
      }
    },
    {
      "cell_type": "code",
      "source": [
        "input_layer = Input(shape=(Xt_train.shape[-1], ))\n",
        "x = Dense(256, activation='relu')(input_layer)\n",
        "x = Dense(256, activation='relu')(x)\n",
        "x = Dense(256, activation='relu')(x)\n",
        "output_layer = Dense(1, activation='sigmoid')(x)\n",
        "model = Model(inputs=input_layer, outputs=output_layer)\n",
        "\n",
        "metrics = [tf.keras.metrics.AUC(name='auc')]\n",
        "\n",
        "model.compile(\n",
        "    optimizer='adam', \n",
        "    loss='binary_crossentropy', \n",
        "    metrics=metrics\n",
        ")"
      ],
      "metadata": {
        "id": "0fVyJ0-rZ2Qr"
      },
      "execution_count": null,
      "outputs": []
    },
    {
      "cell_type": "code",
      "source": [
        "model.summary()"
      ],
      "metadata": {
        "colab": {
          "base_uri": "https://localhost:8080/"
        },
        "id": "dYNnBs-hZ2Hj",
        "outputId": "7726a0a2-0b14-4586-f09d-3cb238797a86"
      },
      "execution_count": null,
      "outputs": [
        {
          "output_type": "stream",
          "name": "stdout",
          "text": [
            "Model: \"model_2\"\n",
            "_________________________________________________________________\n",
            " Layer (type)                Output Shape              Param #   \n",
            "=================================================================\n",
            " input_3 (InputLayer)        [(None, 69)]              0         \n",
            "                                                                 \n",
            " dense_8 (Dense)             (None, 256)               17920     \n",
            "                                                                 \n",
            " dense_9 (Dense)             (None, 256)               65792     \n",
            "                                                                 \n",
            " dense_10 (Dense)            (None, 256)               65792     \n",
            "                                                                 \n",
            " dense_11 (Dense)            (None, 1)                 257       \n",
            "                                                                 \n",
            "=================================================================\n",
            "Total params: 149,761\n",
            "Trainable params: 149,761\n",
            "Non-trainable params: 0\n",
            "_________________________________________________________________\n"
          ]
        }
      ]
    },
    {
      "cell_type": "markdown",
      "source": [
        "**Exercise**: Fit the model and make sure to the the output to a variable, which contains the training history. Plot the validation and training loss values as a function of epoch. Also, plot the validation and training auc scores as a function of epoch. Is there a clear point where the model starts to overfit the training data?"
      ],
      "metadata": {
        "id": "9G4NcdBn8CUe"
      }
    },
    {
      "cell_type": "code",
      "source": [
        "history = model.fit(\n",
        "    Xt_train, y_train, \n",
        "    epochs=50, \n",
        "    batch_size=10000, \n",
        "    validation_data=(Xt_test, y_test),\n",
        "    verbose=0\n",
        ")"
      ],
      "metadata": {
        "id": "rP67wwjdaek7"
      },
      "execution_count": null,
      "outputs": []
    },
    {
      "cell_type": "code",
      "source": [
        "sns.lineplot(\n",
        "    x=range(history.params['epochs']),\n",
        "    y=history.history['loss'],\n",
        "    label='train loss'\n",
        ");\n",
        "sns.lineplot(\n",
        "    x=range(history.params['epochs']),\n",
        "    y=history.history['val_loss'],\n",
        "    label='val loss'\n",
        ");          "
      ],
      "metadata": {
        "colab": {
          "base_uri": "https://localhost:8080/",
          "height": 265
        },
        "id": "6xuv3Yz3HoaK",
        "outputId": "e34e14c8-426c-4183-b827-8b4080bdb5a1"
      },
      "execution_count": null,
      "outputs": [
        {
          "output_type": "display_data",
          "data": {
            "text/plain": [
              "<Figure size 432x288 with 1 Axes>"
            ],
            "image/png": "[encoded data removed]"
          },
          "metadata": {
            "needs_background": "light"
          }
        }
      ]
    },
    {
      "cell_type": "code",
      "source": [
        "sns.lineplot(\n",
        "    x=range(history.params['epochs']),\n",
        "    y=history.history['auc'],\n",
        "    label='train auc'\n",
        ");\n",
        "sns.lineplot(\n",
        "    x=range(history.params['epochs']),\n",
        "    y=history.history['val_auc'],\n",
        "    label='val auc'\n",
        ");          "
      ],
      "metadata": {
        "colab": {
          "base_uri": "https://localhost:8080/",
          "height": 265
        },
        "id": "txsfNlfHXctR",
        "outputId": "45433885-078a-4f56-b46a-6f32e4087c56"
      },
      "execution_count": null,
      "outputs": [
        {
          "output_type": "display_data",
          "data": {
            "text/plain": [
              "<Figure size 432x288 with 1 Axes>"
            ],
            "image/png": "[encoded data removed]"
          },
          "metadata": {
            "needs_background": "light"
          }
        }
      ]
    },
    {
      "cell_type": "markdown",
      "source": [
        "**Exercise**: Write a function that accepts the training and test data and calculates the `roc_auc_score` on each using the last saved weights of the model.   "
      ],
      "metadata": {
        "id": "EYM8bjT6XEGb"
      }
    },
    {
      "cell_type": "code",
      "source": [
        "def evaluate_model(model, X_test, y_test, X_train, y_train):\n",
        "  \"\"\"Calculates model auc score on train and test sets.\n",
        "\n",
        "    Inputs:\n",
        "      model (Keras model): Compiled and fitted model.\n",
        "      X_test (pandas df): Features in the test data.\n",
        "      y_test (array): True labels in the test data.\n",
        "      X_train (pandas df): Features in the train data.\n",
        "      y_train (array): True labels in the train data.\n",
        "    \n",
        "    Returns:\n",
        "      None -- Prints AUC score for train and test data.\n",
        "  \"\"\"\n",
        "  y_pred = model.predict(X_test)\n",
        "  print('Test AUC score: {0:4.3f}'.format(roc_auc_score(y_test, y_pred)))\n",
        "  y_pred = model.predict(X_train)\n",
        "  print('Train AUC score: {0:4.3f}'.format(roc_auc_score(y_train, y_pred)))"
      ],
      "metadata": {
        "id": "7OVTmZFuoFCo"
      },
      "execution_count": null,
      "outputs": []
    },
    {
      "cell_type": "code",
      "source": [
        "evaluate_model(model, Xt_test, y_test, Xt_train, y_train)"
      ],
      "metadata": {
        "colab": {
          "base_uri": "https://localhost:8080/"
        },
        "id": "IheZT3SBsJgi",
        "outputId": "1a16e6a5-d68d-4244-b1a8-56f1d347e2cd"
      },
      "execution_count": null,
      "outputs": [
        {
          "output_type": "stream",
          "name": "stdout",
          "text": [
            "Test AUC score: 0.691\n",
            "Train AUC score: 0.748\n"
          ]
        }
      ]
    },
    {
      "cell_type": "markdown",
      "source": [
        "## Regularization\n",
        "\n",
        "In the previous section, you should have noticed that at some point during training the validation and train losses began to diverge. At this point, the model began to overfit the data. Neural networks have a tendency to overfit data simply due to the fact that they have so many free parameters. Fortunately, there are many options to apply regularization to neural networks. Some of these options will be explored in this section."
      ],
      "metadata": {
        "id": "lZ3aAEnymnoR"
      }
    },
    {
      "cell_type": "markdown",
      "source": [
        "### Early Stopping\n",
        "\n",
        "When plotting the validation and training losses you should have seen the two diverge at some point, where the model starts to overfit the training data. One intuitive way of stopping this overfitting is to simply end model training. This approach is called \"Early Stopping\" and can be very effective.  \n",
        "\n",
        "![](https://miro.medium.com/max/1134/1*2BvEinjHM4SXt2ge0MOi4w.png)[Source](https://medium.com/@rahuljain13101999/why-early-stopping-works-as-regularization-b9f0a6c2772)"
      ],
      "metadata": {
        "id": "T3g3Ga3QsVwe"
      }
    },
    {
      "cell_type": "markdown",
      "source": [
        "Import a few modules we'll be using for regularization."
      ],
      "metadata": {
        "id": "GClW8PS0kOZw"
      }
    },
    {
      "cell_type": "code",
      "source": [
        "from tensorflow.keras.callbacks import EarlyStopping\n",
        "from tensorflow.keras.layers import BatchNormalization\n",
        "from tensorflow.keras.layers import Dropout"
      ],
      "metadata": {
        "id": "Ssg217ZrsZWG"
      },
      "execution_count": null,
      "outputs": []
    },
    {
      "cell_type": "markdown",
      "source": [
        "**Exercise**: For the model defined in this section, apply Early Stopping while monitoring the AUC score on the validation set. Make sure you read the [documentation](https://keras.io/api/callbacks/early_stopping/) carefully to make sure the default values for `EarlyStopping` are the ones you want. Use the `evaluate_model` function written earlier to get the AUC metric on the training data. Did the model outperform the model that didn't use Early Stopping? After how many epochs did the model stop training?"
      ],
      "metadata": {
        "id": "VUciYgZ2kUeW"
      }
    },
    {
      "cell_type": "code",
      "source": [
        "callbacks = [\n",
        "    EarlyStopping(\n",
        "        monitor='val_auc', \n",
        "        patience=5, \n",
        "        restore_best_weights=True\n",
        "    )\n",
        "]\n",
        "\n",
        "history = model.fit(\n",
        "    Xt_train, y_train, \n",
        "    epochs=50, \n",
        "    batch_size=10000, \n",
        "    validation_data=(Xt_test, y_test),\n",
        "    verbose=0,\n",
        "    callbacks=callbacks\n",
        ")"
      ],
      "metadata": {
        "id": "lQiX_aNgsoBi"
      },
      "execution_count": null,
      "outputs": []
    },
    {
      "cell_type": "code",
      "source": [
        "evaluate_model(model, Xt_test, y_test, Xt_train, y_train)"
      ],
      "metadata": {
        "colab": {
          "base_uri": "https://localhost:8080/"
        },
        "id": "fLY-0ZGYtLz9",
        "outputId": "fe65e207-0b64-4896-906b-d4b39e952c78"
      },
      "execution_count": null,
      "outputs": [
        {
          "output_type": "stream",
          "name": "stdout",
          "text": [
            "Test AUC score: 0.694\n",
            "Train AUC score: 0.747\n"
          ]
        }
      ]
    },
    {
      "cell_type": "markdown",
      "source": [
        "### Dropout\n",
        "\n",
        "Dropout is another form of regularization that has been found to be extremely effective in deep learning. The basic idea behind dropout is to randomly inactivate a subset of nodes in a layer with each training pass. Nodes are therefore forced to learn more robust features rather than specifics of the training data. \n",
        "\n",
        "![](https://miro.medium.com/max/1400/1*iWQzxhVlvadk6VAJjsgXgg.png) [Source](https://medium.com/@amarbudhiraja/https-medium-com-amarbudhiraja-learning-less-to-learn-better-dropout-in-deep-machine-learning-74334da4bfc5)"
      ],
      "metadata": {
        "id": "tpUffXN0sSYp"
      }
    },
    {
      "cell_type": "markdown",
      "source": [
        "**Exercise**: Leveraging the same model architecture with the three hidden layers, add a [dropout layer](https://keras.io/api/layers/regularization_layers/dropout/) after each dense hidden layer. Remember to recompile the model and then train it. Play around with the percentage of nodes to dropouut. Use the `evaluate_model` function to get AUC scores on the test set. "
      ],
      "metadata": {
        "id": "XlJdG6fWw34t"
      }
    },
    {
      "cell_type": "code",
      "source": [
        "input_layer = Input(shape=(Xt_train.shape[-1], ))\n",
        "x = Dense(256, activation='relu')(input_layer)\n",
        "x = Dropout(.2)(x)\n",
        "x = Dense(256, activation='relu')(x)\n",
        "x = Dropout(.2)(x)\n",
        "x = Dense(256, activation='relu')(x)\n",
        "x = Dropout(.2)(x)\n",
        "output_layer= Dense(1, activation='sigmoid')(x)\n",
        "model = Model(inputs=input_layer, outputs=output_layer)\n",
        "\n",
        "model.compile(\n",
        "    optimizer='adam', \n",
        "    loss='binary_crossentropy', \n",
        "    metrics=metrics\n",
        ")\n",
        "\n",
        "history = model.fit(\n",
        "    Xt_train, y_train, \n",
        "    epochs=50, \n",
        "    batch_size=10000, \n",
        "    validation_data=(Xt_test, y_test),\n",
        "    verbose=0\n",
        ")"
      ],
      "metadata": {
        "id": "cc_1-Gn2rZIl"
      },
      "execution_count": null,
      "outputs": []
    },
    {
      "cell_type": "code",
      "source": [
        "evaluate_model(model, Xt_test, y_test, Xt_train, y_train)"
      ],
      "metadata": {
        "colab": {
          "base_uri": "https://localhost:8080/"
        },
        "id": "VlbPIuQrr43b",
        "outputId": "2c7921a8-6d80-47b9-e48e-0480acc7b5f4"
      },
      "execution_count": null,
      "outputs": [
        {
          "output_type": "stream",
          "name": "stdout",
          "text": [
            "Test AUC score: 0.704\n",
            "Train AUC score: 0.731\n"
          ]
        }
      ]
    },
    {
      "cell_type": "markdown",
      "source": [
        "## Experiment \n",
        "\n",
        "The best way to get good at applying neural networks is to experiment. In this section, see if you can beat previous performance metrics by trying some of the following ideas:\n",
        "\n",
        "  * Try different [optimizers](https://keras.io/api/optimizers/), including using a non-default learning rate\n",
        "  * Make the network deeper\n",
        "  * Different [activation functions](https://keras.io/api/layers/activations/)\n",
        "  * [Batch normalization with dropout](https://machinelearningmastery.com/batch-normalization-for-training-of-deep-neural-networks/#:~:text=Batch%20normalization%20offers%20some%20regularization,up%20training%2C%20without%20increasing%20overfitting)\n",
        "  * Different batch sizes\n",
        "  * Apply weightings to adjust for imbalanced dataset\n",
        "  * Set the [correct initial bias for an imbalanced dataset](https://www.tensorflow.org/tutorials/structured_data/imbalanced_data#optional_set_the_correct_initial_bias)"
      ],
      "metadata": {
        "id": "b4yZbtWWmwYC"
      }
    },
    {
      "cell_type": "markdown",
      "source": [
        "**Exercise**: Using the architecture used previously with the dropout layers, add [Batch Normalization](https://keras.io/api/layers/normalization_layers/batch_normalization/) before applying dropout and fit the new model. Evaluate the model and compare to previous performance. "
      ],
      "metadata": {
        "id": "9-qHzV9e1JdR"
      }
    },
    {
      "cell_type": "code",
      "source": [
        "input_layer = Input(shape=(Xt_train.shape[-1], ))\n",
        "x = BatchNormalization()(input_layer)\n",
        "x = Dense(256, activation='relu')(x)\n",
        "x = Dropout(.2)(x)\n",
        "x = BatchNormalization()(x)\n",
        "x = Dense(256, activation='relu')(x)\n",
        "x = Dropout(.2)(x)\n",
        "x = BatchNormalization()(x)\n",
        "x = Dense(256, activation='relu')(x)\n",
        "x = Dropout(.2)(x)\n",
        "x = BatchNormalization()(x)\n",
        "output_layer= Dense(1, activation='sigmoid')(x)\n",
        "model = Model(inputs=input_layer, outputs=output_layer)"
      ],
      "metadata": {
        "id": "U83P9OZrvrNo"
      },
      "execution_count": null,
      "outputs": []
    },
    {
      "cell_type": "code",
      "source": [
        "model.compile(\n",
        "    optimizer='adam', \n",
        "    loss='binary_crossentropy', \n",
        "    metrics=metrics\n",
        ")"
      ],
      "metadata": {
        "id": "lqAH6Hgevq_1"
      },
      "execution_count": null,
      "outputs": []
    },
    {
      "cell_type": "code",
      "source": [
        "history = model.fit(\n",
        "    Xt_train, y_train, \n",
        "    epochs=50, \n",
        "    batch_size=10000, \n",
        "    validation_data=(Xt_test, y_test),\n",
        "    verbose=0,\n",
        "    callbacks=callbacks\n",
        ")"
      ],
      "metadata": {
        "id": "-Ef4YOSavq0-"
      },
      "execution_count": null,
      "outputs": []
    },
    {
      "cell_type": "code",
      "source": [
        "evaluate_model(model, Xt_test, y_test, Xt_train, y_train)"
      ],
      "metadata": {
        "colab": {
          "base_uri": "https://localhost:8080/"
        },
        "id": "JlY3SvRPxi-M",
        "outputId": "a6c4081d-8482-4047-a4b1-928f8b68d8bc"
      },
      "execution_count": null,
      "outputs": [
        {
          "output_type": "stream",
          "name": "stdout",
          "text": [
            "Test AUC score: 0.696\n",
            "Train AUC score: 0.728\n"
          ]
        }
      ]
    },
    {
      "cell_type": "markdown",
      "source": [
        "**Exercise**: Leverage the model just built to gauge the effect of batch size on model performance. For each of the batch sizes 512, 1024, 2048, 4096, 8192, 16384, and 32768, train the model with early stopping and calculate the AUC score on the test set. Make a plot of batch size against model performance. What's the optimal batch size? You might want to get a cup of coffee for this one. "
      ],
      "metadata": {
        "id": "DzyePT46x2D0"
      }
    },
    {
      "cell_type": "code",
      "source": [
        "batch_sizes = [512, 1024, 2048, 4096, 8192, 16384, 32768]\n",
        "auc_scores = []\n",
        "for batch_size in batch_sizes:\n",
        "  print('Working on batch size = {0}...'.format(batch_size))\n",
        "  _ = model.fit(\n",
        "    Xt_train, y_train, \n",
        "    epochs=50, \n",
        "    batch_size=batch_size, \n",
        "    validation_data=(Xt_test, y_test),\n",
        "    verbose=0,\n",
        "    callbacks=callbacks\n",
        "  )\n",
        "  y_pred = model.predict(Xt_test)\n",
        "  auc_scores.append(roc_auc_score(y_test, y_pred))"
      ],
      "metadata": {
        "colab": {
          "base_uri": "https://localhost:8080/"
        },
        "id": "ebCKsLJZImuF",
        "outputId": "94bdf04d-00e1-411b-dbdb-3a5594429127"
      },
      "execution_count": null,
      "outputs": [
        {
          "output_type": "stream",
          "name": "stdout",
          "text": [
            "Working on batch size = 512...\n",
            "Working on batch size = 1024...\n",
            "Working on batch size = 2048...\n",
            "Working on batch size = 4096...\n",
            "Working on batch size = 8192...\n",
            "Working on batch size = 16384...\n",
            "Working on batch size = 32768...\n"
          ]
        }
      ]
    },
    {
      "cell_type": "code",
      "source": [
        "sns.lineplot(x=batch_sizes, y=auc_scores);"
      ],
      "metadata": {
        "colab": {
          "base_uri": "https://localhost:8080/",
          "height": 265
        },
        "id": "9TmKG6g6PmuU",
        "outputId": "ded0b0a2-c9f4-438c-ca21-9043fe547912"
      },
      "execution_count": null,
      "outputs": [
        {
          "output_type": "display_data",
          "data": {
            "text/plain": [
              "<Figure size 432x288 with 1 Axes>"
            ],
            "image/png": "[encoded data removed]"
          },
          "metadata": {
            "needs_background": "light"
          }
        }
      ]
    },
    {
      "cell_type": "markdown",
      "source": [
        "**Exercise**: While the Avazu dataset is not terribly imbalanced, it is far skewed from a 50/50 split of labels. Read [Keras' documentation](https://keras.io/examples/structured_data/imbalanced_classification/) for dealing with imbalanced datasets and apply the `class_weight` parameter during model fitting. Evaluate the model. Does performance increase?  "
      ],
      "metadata": {
        "id": "eVBfEas13CXa"
      }
    },
    {
      "cell_type": "code",
      "source": [
        "counts = np.bincount(y_train)\n",
        "class_weight = {0: 1./counts[0], 1: 1./counts[1]}\n",
        "class_weight"
      ],
      "metadata": {
        "colab": {
          "base_uri": "https://localhost:8080/"
        },
        "id": "Pl5g98wY83bg",
        "outputId": "3ae81492-4eb9-4bd4-c4b3-93a737492744"
      },
      "execution_count": null,
      "outputs": [
        {
          "output_type": "execute_result",
          "data": {
            "text/plain": [
              "{0: 3.7136066547831253e-06, 1: 1.833583923136162e-05}"
            ]
          },
          "metadata": {},
          "execution_count": 92
        }
      ]
    },
    {
      "cell_type": "code",
      "source": [
        "history = model.fit(\n",
        "    Xt_train, y_train, \n",
        "    epochs=50, \n",
        "    batch_size=1024, \n",
        "    validation_data=(Xt_test, y_test),\n",
        "    verbose=0,\n",
        "    callbacks=callbacks,\n",
        "    class_weight=class_weight\n",
        "  )"
      ],
      "metadata": {
        "id": "rlrhJiVYCZ4G"
      },
      "execution_count": null,
      "outputs": []
    },
    {
      "cell_type": "code",
      "source": [
        "evaluate_model(model, Xt_test, y_test, Xt_train, y_train)"
      ],
      "metadata": {
        "colab": {
          "base_uri": "https://localhost:8080/"
        },
        "id": "T70RNBwF3xg0",
        "outputId": "c3efaf84-6625-4134-a84c-c0f2311c206b"
      },
      "execution_count": null,
      "outputs": [
        {
          "output_type": "stream",
          "name": "stdout",
          "text": [
            "Test AUC score: 0.701\n",
            "Train AUC score: 0.733\n"
          ]
        }
      ]
    },
    {
      "cell_type": "markdown",
      "source": [
        "**Exercise**: Try something new to get the most performant model yet."
      ],
      "metadata": {
        "id": "eWzcaINj4DIx"
      }
    }
  ]
}