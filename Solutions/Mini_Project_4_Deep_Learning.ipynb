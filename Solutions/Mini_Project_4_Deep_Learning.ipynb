{
  "nbformat": 4,
  "nbformat_minor": 0,
  "metadata": {
    "colab": {
      "provenance": [],
      "include_colab_link": true
    },
    "kernelspec": {
      "name": "python3",
      "display_name": "Python 3"
    },
    "language_info": {
      "name": "python"
    }
  },
  "cells": [
    {
      "cell_type": "markdown",
      "metadata": {
        "id": "view-in-github",
        "colab_type": "text"
      },
      "source": [
        "<a href=\"https://colab.research.google.com/github/Springboard-CourseDev/MachineLearningForEngineers/blob/master/Solutions/Mini_Project_4_Deep_Learning.ipynb\" target=\"_parent\"><img src=\"https://colab.research.google.com/assets/colab-badge.svg\" alt=\"Open In Colab\"/></a>"
      ]
    },
    {
      "cell_type": "markdown",
      "source": [
        "**Neural Network**\n",
        "\n",
        "The curriculum introduced to be familier with the basic components of neural networks and how to train them using gradient descent-based algorithms and understand different graident descent algorithms. \n",
        "The objective of this mini project is :\n",
        "\n",
        "\n",
        "*   Build and train neural networks on the House price prediction using Keras.\n",
        "*   Understanding Graident descent.\n",
        "*   Using different Graident descent algorithms.\n",
        "\n",
        "\n",
        "In this project, you'll be using Keras and tensorflow to build a neural network for a house price prediction dataset. A large part of training a neural network is selecting the most appropriate optimizer and its hyperparameters. \n",
        "\n"
      ],
      "metadata": {
        "id": "CkAZgVz-k9SX"
      }
    },
    {
      "cell_type": "markdown",
      "source": [
        "**Import Libraries**"
      ],
      "metadata": {
        "id": "4xkn5hGilTCo"
      }
    },
    {
      "cell_type": "code",
      "source": [
        "import pandas as pd\n",
        "from keras.models import Sequential\n",
        "from keras.layers import Dense\n",
        "from keras.callbacks import EarlyStopping\n",
        "import numpy as np\n",
        "import seaborn as sns\n",
        "import matplotlib.pyplot as plt\n",
        "from matplotlib import style\n",
        "import warnings\n",
        "warnings.filterwarnings(\"ignore\")\n",
        "from sklearn.model_selection import train_test_split\n",
        "from sklearn.preprocessing import StandardScaler"
      ],
      "metadata": {
        "id": "c_dnS1gOlSEp"
      },
      "execution_count": null,
      "outputs": []
    },
    {
      "cell_type": "markdown",
      "source": [
        "Mount google drive to access data or if you are using locally ignore this step"
      ],
      "metadata": {
        "id": "crPYREdqMD7H"
      }
    },
    {
      "cell_type": "code",
      "source": [
        "from google.colab import drive\n",
        "drive.mount('/content/drive')"
      ],
      "metadata": {
        "colab": {
          "base_uri": "https://localhost:8080/"
        },
        "id": "ioWdYwVUq9fv",
        "outputId": "70112923-174a-449a-de98-53deefea982c"
      },
      "execution_count": null,
      "outputs": [
        {
          "output_type": "stream",
          "name": "stdout",
          "text": [
            "Mounted at /content/drive\n"
          ]
        }
      ]
    },
    {
      "cell_type": "markdown",
      "source": [
        "# Kaggle King County, WA datasets\n",
        "\n",
        "[King County House price datasets](https://www.kaggle.com/datasets/harlfoxem/housesalesprediction) consist of 21 different attributes related to house price.\n",
        "\n",
        "\n",
        "\n",
        "---\n",
        "\n",
        "\n",
        "Variable\t   Description\n",
        "\n",
        "---\n",
        "\n",
        "*   **id** \t    Identification\n",
        "*   **date**\tDate sold\n",
        "*   **price**\tSale price\n",
        "*   **bedrooms**\t  Number of bedrooms\n",
        "*   **bathrooms**\t  Number of bathrooms\n",
        "*   **sqft_liv**\t  Size of living area in square feet\n",
        "*   **sqft_lot**\t  Size of the lot in square feet\n",
        "*   **floors**\t  Number of floors\n",
        "*   **waterfront**\t‘1’ if the property has a waterfront, ‘0’ if not.\n",
        "*   **view**\t   An index from 0 to 4 of how good the view of the property was\n",
        "*   **condition**\tCondition of the house, ranked from 1 to 5\n",
        "*   **grade**\t  Classification by construction quality which refers to the types of materials used and the quality of workmanship. Buildings of better quality (higher grade) cost more to build per unit of measure and command higher value. Additional information in: KingCounty\n",
        "*   **sqft_above**\tSquare feet above ground\n",
        "*   **sqft_basmt**\tSquare feet below ground\n",
        "*   **yr_built**\tYear built\n",
        "*   **yr_renov**\tYear renovated. ‘0’ if never renovated\n",
        "*   **zipcode**\t5 digit zip code\n",
        "*   **lat**\tLatitude\n",
        "*   **long**\tLongitude\n",
        "*   **squft_liv15**\tAverage size of interior housing living space for the closest 15 houses, in square feet\n",
        "*   **squft_lot15**\tAverage size of land lots for the closest 15 houses, in square feet\n",
        "*   **Shape_leng**\tPolygon length in meters\n",
        "*   **Shape_Area**\tPolygon area in meters\n",
        "\n",
        "\n",
        "\n",
        "\n",
        "\n",
        "\n"
      ],
      "metadata": {
        "id": "uMdNdaGV74LR"
      }
    },
    {
      "cell_type": "markdown",
      "source": [
        "**Read the Data**\n",
        "\n",
        "Use the Pandas library to read in the dataset.\n",
        "\n",
        "\n",
        "\n"
      ],
      "metadata": {
        "id": "Kbs812stlSa-"
      }
    },
    {
      "cell_type": "code",
      "source": [
        "df = pd.read_csv('/content/sample_data/kc_house_data.csv.zip')\n",
        "df.head()"
      ],
      "metadata": {
        "colab": {
          "base_uri": "https://localhost:8080/",
          "height": 236
        },
        "id": "FXZaeoxVlNV8",
        "outputId": "109e4a2a-52f6-4de0-e7c1-bb141ae209aa"
      },
      "execution_count": null,
      "outputs": [
        {
          "output_type": "execute_result",
          "data": {
            "text/plain": [
              "           id             date     price  bedrooms  bathrooms  sqft_living  \\\n",
              "0  7129300520  20141013T000000  221900.0         3       1.00         1180   \n",
              "1  6414100192  20141209T000000  538000.0         3       2.25         2570   \n",
              "2  5631500400  20150225T000000  180000.0         2       1.00          770   \n",
              "3  2487200875  20141209T000000  604000.0         4       3.00         1960   \n",
              "4  1954400510  20150218T000000  510000.0         3       2.00         1680   \n",
              "\n",
              "   sqft_lot  floors  waterfront  view  ...  grade  sqft_above  sqft_basement  \\\n",
              "0      5650     1.0           0     0  ...      7        1180              0   \n",
              "1      7242     2.0           0     0  ...      7        2170            400   \n",
              "2     10000     1.0           0     0  ...      6         770              0   \n",
              "3      5000     1.0           0     0  ...      7        1050            910   \n",
              "4      8080     1.0           0     0  ...      8        1680              0   \n",
              "\n",
              "   yr_built  yr_renovated  zipcode      lat     long  sqft_living15  \\\n",
              "0      1955             0    98178  47.5112 -122.257           1340   \n",
              "1      1951          1991    98125  47.7210 -122.319           1690   \n",
              "2      1933             0    98028  47.7379 -122.233           2720   \n",
              "3      1965             0    98136  47.5208 -122.393           1360   \n",
              "4      1987             0    98074  47.6168 -122.045           1800   \n",
              "\n",
              "   sqft_lot15  \n",
              "0        5650  \n",
              "1        7639  \n",
              "2        8062  \n",
              "3        5000  \n",
              "4        7503  \n",
              "\n",
              "[5 rows x 21 columns]"
            ],
            "text/html": [
              "\n",
              "  <div id=\"df-ae408978-8d8a-4ad4-a559-574a35d73ec4\">\n",
              "    <div class=\"colab-df-container\">\n",
              "      <div>\n",
              "<style scoped>\n",
              "    .dataframe tbody tr th:only-of-type {\n",
              "        vertical-align: middle;\n",
              "    }\n",
              "\n",
              "    .dataframe tbody tr th {\n",
              "        vertical-align: top;\n",
              "    }\n",
              "\n",
              "    .dataframe thead th {\n",
              "        text-align: right;\n",
              "    }\n",
              "</style>\n",
              "<table border=\"1\" class=\"dataframe\">\n",
              "  <thead>\n",
              "    <tr style=\"text-align: right;\">\n",
              "      <th></th>\n",
              "      <th>id</th>\n",
              "      <th>date</th>\n",
              "      <th>price</th>\n",
              "      <th>bedrooms</th>\n",
              "      <th>bathrooms</th>\n",
              "      <th>sqft_living</th>\n",
              "      <th>sqft_lot</th>\n",
              "      <th>floors</th>\n",
              "      <th>waterfront</th>\n",
              "      <th>view</th>\n",
              "      <th>...</th>\n",
              "      <th>grade</th>\n",
              "      <th>sqft_above</th>\n",
              "      <th>sqft_basement</th>\n",
              "      <th>yr_built</th>\n",
              "      <th>yr_renovated</th>\n",
              "      <th>zipcode</th>\n",
              "      <th>lat</th>\n",
              "      <th>long</th>\n",
              "      <th>sqft_living15</th>\n",
              "      <th>sqft_lot15</th>\n",
              "    </tr>\n",
              "  </thead>\n",
              "  <tbody>\n",
              "    <tr>\n",
              "      <th>0</th>\n",
              "      <td>7129300520</td>\n",
              "      <td>20141013T000000</td>\n",
              "      <td>221900.0</td>\n",
              "      <td>3</td>\n",
              "      <td>1.00</td>\n",
              "      <td>1180</td>\n",
              "      <td>5650</td>\n",
              "      <td>1.0</td>\n",
              "      <td>0</td>\n",
              "      <td>0</td>\n",
              "      <td>...</td>\n",
              "      <td>7</td>\n",
              "      <td>1180</td>\n",
              "      <td>0</td>\n",
              "      <td>1955</td>\n",
              "      <td>0</td>\n",
              "      <td>98178</td>\n",
              "      <td>47.5112</td>\n",
              "      <td>-122.257</td>\n",
              "      <td>1340</td>\n",
              "      <td>5650</td>\n",
              "    </tr>\n",
              "    <tr>\n",
              "      <th>1</th>\n",
              "      <td>6414100192</td>\n",
              "      <td>20141209T000000</td>\n",
              "      <td>538000.0</td>\n",
              "      <td>3</td>\n",
              "      <td>2.25</td>\n",
              "      <td>2570</td>\n",
              "      <td>7242</td>\n",
              "      <td>2.0</td>\n",
              "      <td>0</td>\n",
              "      <td>0</td>\n",
              "      <td>...</td>\n",
              "      <td>7</td>\n",
              "      <td>2170</td>\n",
              "      <td>400</td>\n",
              "      <td>1951</td>\n",
              "      <td>1991</td>\n",
              "      <td>98125</td>\n",
              "      <td>47.7210</td>\n",
              "      <td>-122.319</td>\n",
              "      <td>1690</td>\n",
              "      <td>7639</td>\n",
              "    </tr>\n",
              "    <tr>\n",
              "      <th>2</th>\n",
              "      <td>5631500400</td>\n",
              "      <td>20150225T000000</td>\n",
              "      <td>180000.0</td>\n",
              "      <td>2</td>\n",
              "      <td>1.00</td>\n",
              "      <td>770</td>\n",
              "      <td>10000</td>\n",
              "      <td>1.0</td>\n",
              "      <td>0</td>\n",
              "      <td>0</td>\n",
              "      <td>...</td>\n",
              "      <td>6</td>\n",
              "      <td>770</td>\n",
              "      <td>0</td>\n",
              "      <td>1933</td>\n",
              "      <td>0</td>\n",
              "      <td>98028</td>\n",
              "      <td>47.7379</td>\n",
              "      <td>-122.233</td>\n",
              "      <td>2720</td>\n",
              "      <td>8062</td>\n",
              "    </tr>\n",
              "    <tr>\n",
              "      <th>3</th>\n",
              "      <td>2487200875</td>\n",
              "      <td>20141209T000000</td>\n",
              "      <td>604000.0</td>\n",
              "      <td>4</td>\n",
              "      <td>3.00</td>\n",
              "      <td>1960</td>\n",
              "      <td>5000</td>\n",
              "      <td>1.0</td>\n",
              "      <td>0</td>\n",
              "      <td>0</td>\n",
              "      <td>...</td>\n",
              "      <td>7</td>\n",
              "      <td>1050</td>\n",
              "      <td>910</td>\n",
              "      <td>1965</td>\n",
              "      <td>0</td>\n",
              "      <td>98136</td>\n",
              "      <td>47.5208</td>\n",
              "      <td>-122.393</td>\n",
              "      <td>1360</td>\n",
              "      <td>5000</td>\n",
              "    </tr>\n",
              "    <tr>\n",
              "      <th>4</th>\n",
              "      <td>1954400510</td>\n",
              "      <td>20150218T000000</td>\n",
              "      <td>510000.0</td>\n",
              "      <td>3</td>\n",
              "      <td>2.00</td>\n",
              "      <td>1680</td>\n",
              "      <td>8080</td>\n",
              "      <td>1.0</td>\n",
              "      <td>0</td>\n",
              "      <td>0</td>\n",
              "      <td>...</td>\n",
              "      <td>8</td>\n",
              "      <td>1680</td>\n",
              "      <td>0</td>\n",
              "      <td>1987</td>\n",
              "      <td>0</td>\n",
              "      <td>98074</td>\n",
              "      <td>47.6168</td>\n",
              "      <td>-122.045</td>\n",
              "      <td>1800</td>\n",
              "      <td>7503</td>\n",
              "    </tr>\n",
              "  </tbody>\n",
              "</table>\n",
              "<p>5 rows × 21 columns</p>\n",
              "</div>\n",
              "      <button class=\"colab-df-convert\" onclick=\"convertToInteractive('df-ae408978-8d8a-4ad4-a559-574a35d73ec4')\"\n",
              "              title=\"Convert this dataframe to an interactive table.\"\n",
              "              style=\"display:none;\">\n",
              "        \n",
              "  <svg xmlns=\"http://www.w3.org/2000/svg\" height=\"24px\"viewBox=\"0 0 24 24\"\n",
              "       width=\"24px\">\n",
              "    <path d=\"M0 0h24v24H0V0z\" fill=\"none\"/>\n",
              "    <path d=\"M18.56 5.44l.94 2.06.94-2.06 2.06-.94-2.06-.94-.94-2.06-.94 2.06-2.06.94zm-11 1L8.5 8.5l.94-2.06 2.06-.94-2.06-.94L8.5 2.5l-.94 2.06-2.06.94zm10 10l.94 2.06.94-2.06 2.06-.94-2.06-.94-.94-2.06-.94 2.06-2.06.94z\"/><path d=\"M17.41 7.96l-1.37-1.37c-.4-.4-.92-.59-1.43-.59-.52 0-1.04.2-1.43.59L10.3 9.45l-7.72 7.72c-.78.78-.78 2.05 0 2.83L4 21.41c.39.39.9.59 1.41.59.51 0 1.02-.2 1.41-.59l7.78-7.78 2.81-2.81c.8-.78.8-2.07 0-2.86zM5.41 20L4 18.59l7.72-7.72 1.47 1.35L5.41 20z\"/>\n",
              "  </svg>\n",
              "      </button>\n",
              "      \n",
              "  <style>\n",
              "    .colab-df-container {\n",
              "      display:flex;\n",
              "      flex-wrap:wrap;\n",
              "      gap: 12px;\n",
              "    }\n",
              "\n",
              "    .colab-df-convert {\n",
              "      background-color: #E8F0FE;\n",
              "      border: none;\n",
              "      border-radius: 50%;\n",
              "      cursor: pointer;\n",
              "      display: none;\n",
              "      fill: #1967D2;\n",
              "      height: 32px;\n",
              "      padding: 0 0 0 0;\n",
              "      width: 32px;\n",
              "    }\n",
              "\n",
              "    .colab-df-convert:hover {\n",
              "      background-color: #E2EBFA;\n",
              "      box-shadow: 0px 1px 2px rgba(60, 64, 67, 0.3), 0px 1px 3px 1px rgba(60, 64, 67, 0.15);\n",
              "      fill: #174EA6;\n",
              "    }\n",
              "\n",
              "    [theme=dark] .colab-df-convert {\n",
              "      background-color: #3B4455;\n",
              "      fill: #D2E3FC;\n",
              "    }\n",
              "\n",
              "    [theme=dark] .colab-df-convert:hover {\n",
              "      background-color: #434B5C;\n",
              "      box-shadow: 0px 1px 3px 1px rgba(0, 0, 0, 0.15);\n",
              "      filter: drop-shadow(0px 1px 2px rgba(0, 0, 0, 0.3));\n",
              "      fill: #FFFFFF;\n",
              "    }\n",
              "  </style>\n",
              "\n",
              "      <script>\n",
              "        const buttonEl =\n",
              "          document.querySelector('#df-ae408978-8d8a-4ad4-a559-574a35d73ec4 button.colab-df-convert');\n",
              "        buttonEl.style.display =\n",
              "          google.colab.kernel.accessAllowed ? 'block' : 'none';\n",
              "\n",
              "        async function convertToInteractive(key) {\n",
              "          const element = document.querySelector('#df-ae408978-8d8a-4ad4-a559-574a35d73ec4');\n",
              "          const dataTable =\n",
              "            await google.colab.kernel.invokeFunction('convertToInteractive',\n",
              "                                                     [key], {});\n",
              "          if (!dataTable) return;\n",
              "\n",
              "          const docLinkHtml = 'Like what you see? Visit the ' +\n",
              "            '<a target=\"_blank\" href=https://colab.research.google.com/notebooks/data_table.ipynb>data table notebook</a>'\n",
              "            + ' to learn more about interactive tables.';\n",
              "          element.innerHTML = '';\n",
              "          dataTable['output_type'] = 'display_data';\n",
              "          await google.colab.output.renderOutput(dataTable, element);\n",
              "          const docLink = document.createElement('div');\n",
              "          docLink.innerHTML = docLinkHtml;\n",
              "          element.appendChild(docLink);\n",
              "        }\n",
              "      </script>\n",
              "    </div>\n",
              "  </div>\n",
              "  "
            ]
          },
          "metadata": {},
          "execution_count": 3
        }
      ]
    },
    {
      "cell_type": "code",
      "source": [
        "df.shape"
      ],
      "metadata": {
        "colab": {
          "base_uri": "https://localhost:8080/"
        },
        "id": "yr3NzipgVK_N",
        "outputId": "57fc2fec-22cf-446e-b422-66ee11e11919"
      },
      "execution_count": null,
      "outputs": [
        {
          "output_type": "execute_result",
          "data": {
            "text/plain": [
              "(21613, 21)"
            ]
          },
          "metadata": {},
          "execution_count": 4
        }
      ]
    },
    {
      "cell_type": "markdown",
      "source": [
        "Use `describe()` to get basic summary statistics for each of the columns. \n",
        "\n",
        "Can you tell features are continuous? \n",
        "\n",
        "Which features are nominal?"
      ],
      "metadata": {
        "id": "QAaTbVt9MooR"
      }
    },
    {
      "cell_type": "code",
      "source": [
        "df.describe().transpose()"
      ],
      "metadata": {
        "colab": {
          "base_uri": "https://localhost:8080/",
          "height": 677
        },
        "id": "nbACRRWCAs7_",
        "outputId": "ce4e0bb2-5112-4dc5-f1d0-ea1133420258"
      },
      "execution_count": null,
      "outputs": [
        {
          "output_type": "execute_result",
          "data": {
            "text/plain": [
              "                 count          mean           std           min  \\\n",
              "id             21613.0  4.580302e+09  2.876566e+09  1.000102e+06   \n",
              "price          21613.0  5.400881e+05  3.671272e+05  7.500000e+04   \n",
              "bedrooms       21613.0  3.370842e+00  9.300618e-01  0.000000e+00   \n",
              "bathrooms      21613.0  2.114757e+00  7.701632e-01  0.000000e+00   \n",
              "sqft_living    21613.0  2.079900e+03  9.184409e+02  2.900000e+02   \n",
              "sqft_lot       21613.0  1.510697e+04  4.142051e+04  5.200000e+02   \n",
              "floors         21613.0  1.494309e+00  5.399889e-01  1.000000e+00   \n",
              "waterfront     21613.0  7.541757e-03  8.651720e-02  0.000000e+00   \n",
              "view           21613.0  2.343034e-01  7.663176e-01  0.000000e+00   \n",
              "condition      21613.0  3.409430e+00  6.507430e-01  1.000000e+00   \n",
              "grade          21613.0  7.656873e+00  1.175459e+00  1.000000e+00   \n",
              "sqft_above     21613.0  1.788391e+03  8.280910e+02  2.900000e+02   \n",
              "sqft_basement  21613.0  2.915090e+02  4.425750e+02  0.000000e+00   \n",
              "yr_built       21613.0  1.971005e+03  2.937341e+01  1.900000e+03   \n",
              "yr_renovated   21613.0  8.440226e+01  4.016792e+02  0.000000e+00   \n",
              "zipcode        21613.0  9.807794e+04  5.350503e+01  9.800100e+04   \n",
              "lat            21613.0  4.756005e+01  1.385637e-01  4.715590e+01   \n",
              "long           21613.0 -1.222139e+02  1.408283e-01 -1.225190e+02   \n",
              "sqft_living15  21613.0  1.986552e+03  6.853913e+02  3.990000e+02   \n",
              "sqft_lot15     21613.0  1.276846e+04  2.730418e+04  6.510000e+02   \n",
              "\n",
              "                        25%           50%           75%           max  \n",
              "id             2.123049e+09  3.904930e+09  7.308900e+09  9.900000e+09  \n",
              "price          3.219500e+05  4.500000e+05  6.450000e+05  7.700000e+06  \n",
              "bedrooms       3.000000e+00  3.000000e+00  4.000000e+00  3.300000e+01  \n",
              "bathrooms      1.750000e+00  2.250000e+00  2.500000e+00  8.000000e+00  \n",
              "sqft_living    1.427000e+03  1.910000e+03  2.550000e+03  1.354000e+04  \n",
              "sqft_lot       5.040000e+03  7.618000e+03  1.068800e+04  1.651359e+06  \n",
              "floors         1.000000e+00  1.500000e+00  2.000000e+00  3.500000e+00  \n",
              "waterfront     0.000000e+00  0.000000e+00  0.000000e+00  1.000000e+00  \n",
              "view           0.000000e+00  0.000000e+00  0.000000e+00  4.000000e+00  \n",
              "condition      3.000000e+00  3.000000e+00  4.000000e+00  5.000000e+00  \n",
              "grade          7.000000e+00  7.000000e+00  8.000000e+00  1.300000e+01  \n",
              "sqft_above     1.190000e+03  1.560000e+03  2.210000e+03  9.410000e+03  \n",
              "sqft_basement  0.000000e+00  0.000000e+00  5.600000e+02  4.820000e+03  \n",
              "yr_built       1.951000e+03  1.975000e+03  1.997000e+03  2.015000e+03  \n",
              "yr_renovated   0.000000e+00  0.000000e+00  0.000000e+00  2.015000e+03  \n",
              "zipcode        9.803300e+04  9.806500e+04  9.811800e+04  9.819900e+04  \n",
              "lat            4.747100e+01  4.757180e+01  4.767800e+01  4.777760e+01  \n",
              "long          -1.223280e+02 -1.222300e+02 -1.221250e+02 -1.213150e+02  \n",
              "sqft_living15  1.490000e+03  1.840000e+03  2.360000e+03  6.210000e+03  \n",
              "sqft_lot15     5.100000e+03  7.620000e+03  1.008300e+04  8.712000e+05  "
            ],
            "text/html": [
              "\n",
              "  <div id=\"df-37ca2214-e43b-40ae-9eca-e0a7ebc00e21\">\n",
              "    <div class=\"colab-df-container\">\n",
              "      <div>\n",
              "<style scoped>\n",
              "    .dataframe tbody tr th:only-of-type {\n",
              "        vertical-align: middle;\n",
              "    }\n",
              "\n",
              "    .dataframe tbody tr th {\n",
              "        vertical-align: top;\n",
              "    }\n",
              "\n",
              "    .dataframe thead th {\n",
              "        text-align: right;\n",
              "    }\n",
              "</style>\n",
              "<table border=\"1\" class=\"dataframe\">\n",
              "  <thead>\n",
              "    <tr style=\"text-align: right;\">\n",
              "      <th></th>\n",
              "      <th>count</th>\n",
              "      <th>mean</th>\n",
              "      <th>std</th>\n",
              "      <th>min</th>\n",
              "      <th>25%</th>\n",
              "      <th>50%</th>\n",
              "      <th>75%</th>\n",
              "      <th>max</th>\n",
              "    </tr>\n",
              "  </thead>\n",
              "  <tbody>\n",
              "    <tr>\n",
              "      <th>id</th>\n",
              "      <td>21613.0</td>\n",
              "      <td>4.580302e+09</td>\n",
              "      <td>2.876566e+09</td>\n",
              "      <td>1.000102e+06</td>\n",
              "      <td>2.123049e+09</td>\n",
              "      <td>3.904930e+09</td>\n",
              "      <td>7.308900e+09</td>\n",
              "      <td>9.900000e+09</td>\n",
              "    </tr>\n",
              "    <tr>\n",
              "      <th>price</th>\n",
              "      <td>21613.0</td>\n",
              "      <td>5.400881e+05</td>\n",
              "      <td>3.671272e+05</td>\n",
              "      <td>7.500000e+04</td>\n",
              "      <td>3.219500e+05</td>\n",
              "      <td>4.500000e+05</td>\n",
              "      <td>6.450000e+05</td>\n",
              "      <td>7.700000e+06</td>\n",
              "    </tr>\n",
              "    <tr>\n",
              "      <th>bedrooms</th>\n",
              "      <td>21613.0</td>\n",
              "      <td>3.370842e+00</td>\n",
              "      <td>9.300618e-01</td>\n",
              "      <td>0.000000e+00</td>\n",
              "      <td>3.000000e+00</td>\n",
              "      <td>3.000000e+00</td>\n",
              "      <td>4.000000e+00</td>\n",
              "      <td>3.300000e+01</td>\n",
              "    </tr>\n",
              "    <tr>\n",
              "      <th>bathrooms</th>\n",
              "      <td>21613.0</td>\n",
              "      <td>2.114757e+00</td>\n",
              "      <td>7.701632e-01</td>\n",
              "      <td>0.000000e+00</td>\n",
              "      <td>1.750000e+00</td>\n",
              "      <td>2.250000e+00</td>\n",
              "      <td>2.500000e+00</td>\n",
              "      <td>8.000000e+00</td>\n",
              "    </tr>\n",
              "    <tr>\n",
              "      <th>sqft_living</th>\n",
              "      <td>21613.0</td>\n",
              "      <td>2.079900e+03</td>\n",
              "      <td>9.184409e+02</td>\n",
              "      <td>2.900000e+02</td>\n",
              "      <td>1.427000e+03</td>\n",
              "      <td>1.910000e+03</td>\n",
              "      <td>2.550000e+03</td>\n",
              "      <td>1.354000e+04</td>\n",
              "    </tr>\n",
              "    <tr>\n",
              "      <th>sqft_lot</th>\n",
              "      <td>21613.0</td>\n",
              "      <td>1.510697e+04</td>\n",
              "      <td>4.142051e+04</td>\n",
              "      <td>5.200000e+02</td>\n",
              "      <td>5.040000e+03</td>\n",
              "      <td>7.618000e+03</td>\n",
              "      <td>1.068800e+04</td>\n",
              "      <td>1.651359e+06</td>\n",
              "    </tr>\n",
              "    <tr>\n",
              "      <th>floors</th>\n",
              "      <td>21613.0</td>\n",
              "      <td>1.494309e+00</td>\n",
              "      <td>5.399889e-01</td>\n",
              "      <td>1.000000e+00</td>\n",
              "      <td>1.000000e+00</td>\n",
              "      <td>1.500000e+00</td>\n",
              "      <td>2.000000e+00</td>\n",
              "      <td>3.500000e+00</td>\n",
              "    </tr>\n",
              "    <tr>\n",
              "      <th>waterfront</th>\n",
              "      <td>21613.0</td>\n",
              "      <td>7.541757e-03</td>\n",
              "      <td>8.651720e-02</td>\n",
              "      <td>0.000000e+00</td>\n",
              "      <td>0.000000e+00</td>\n",
              "      <td>0.000000e+00</td>\n",
              "      <td>0.000000e+00</td>\n",
              "      <td>1.000000e+00</td>\n",
              "    </tr>\n",
              "    <tr>\n",
              "      <th>view</th>\n",
              "      <td>21613.0</td>\n",
              "      <td>2.343034e-01</td>\n",
              "      <td>7.663176e-01</td>\n",
              "      <td>0.000000e+00</td>\n",
              "      <td>0.000000e+00</td>\n",
              "      <td>0.000000e+00</td>\n",
              "      <td>0.000000e+00</td>\n",
              "      <td>4.000000e+00</td>\n",
              "    </tr>\n",
              "    <tr>\n",
              "      <th>condition</th>\n",
              "      <td>21613.0</td>\n",
              "      <td>3.409430e+00</td>\n",
              "      <td>6.507430e-01</td>\n",
              "      <td>1.000000e+00</td>\n",
              "      <td>3.000000e+00</td>\n",
              "      <td>3.000000e+00</td>\n",
              "      <td>4.000000e+00</td>\n",
              "      <td>5.000000e+00</td>\n",
              "    </tr>\n",
              "    <tr>\n",
              "      <th>grade</th>\n",
              "      <td>21613.0</td>\n",
              "      <td>7.656873e+00</td>\n",
              "      <td>1.175459e+00</td>\n",
              "      <td>1.000000e+00</td>\n",
              "      <td>7.000000e+00</td>\n",
              "      <td>7.000000e+00</td>\n",
              "      <td>8.000000e+00</td>\n",
              "      <td>1.300000e+01</td>\n",
              "    </tr>\n",
              "    <tr>\n",
              "      <th>sqft_above</th>\n",
              "      <td>21613.0</td>\n",
              "      <td>1.788391e+03</td>\n",
              "      <td>8.280910e+02</td>\n",
              "      <td>2.900000e+02</td>\n",
              "      <td>1.190000e+03</td>\n",
              "      <td>1.560000e+03</td>\n",
              "      <td>2.210000e+03</td>\n",
              "      <td>9.410000e+03</td>\n",
              "    </tr>\n",
              "    <tr>\n",
              "      <th>sqft_basement</th>\n",
              "      <td>21613.0</td>\n",
              "      <td>2.915090e+02</td>\n",
              "      <td>4.425750e+02</td>\n",
              "      <td>0.000000e+00</td>\n",
              "      <td>0.000000e+00</td>\n",
              "      <td>0.000000e+00</td>\n",
              "      <td>5.600000e+02</td>\n",
              "      <td>4.820000e+03</td>\n",
              "    </tr>\n",
              "    <tr>\n",
              "      <th>yr_built</th>\n",
              "      <td>21613.0</td>\n",
              "      <td>1.971005e+03</td>\n",
              "      <td>2.937341e+01</td>\n",
              "      <td>1.900000e+03</td>\n",
              "      <td>1.951000e+03</td>\n",
              "      <td>1.975000e+03</td>\n",
              "      <td>1.997000e+03</td>\n",
              "      <td>2.015000e+03</td>\n",
              "    </tr>\n",
              "    <tr>\n",
              "      <th>yr_renovated</th>\n",
              "      <td>21613.0</td>\n",
              "      <td>8.440226e+01</td>\n",
              "      <td>4.016792e+02</td>\n",
              "      <td>0.000000e+00</td>\n",
              "      <td>0.000000e+00</td>\n",
              "      <td>0.000000e+00</td>\n",
              "      <td>0.000000e+00</td>\n",
              "      <td>2.015000e+03</td>\n",
              "    </tr>\n",
              "    <tr>\n",
              "      <th>zipcode</th>\n",
              "      <td>21613.0</td>\n",
              "      <td>9.807794e+04</td>\n",
              "      <td>5.350503e+01</td>\n",
              "      <td>9.800100e+04</td>\n",
              "      <td>9.803300e+04</td>\n",
              "      <td>9.806500e+04</td>\n",
              "      <td>9.811800e+04</td>\n",
              "      <td>9.819900e+04</td>\n",
              "    </tr>\n",
              "    <tr>\n",
              "      <th>lat</th>\n",
              "      <td>21613.0</td>\n",
              "      <td>4.756005e+01</td>\n",
              "      <td>1.385637e-01</td>\n",
              "      <td>4.715590e+01</td>\n",
              "      <td>4.747100e+01</td>\n",
              "      <td>4.757180e+01</td>\n",
              "      <td>4.767800e+01</td>\n",
              "      <td>4.777760e+01</td>\n",
              "    </tr>\n",
              "    <tr>\n",
              "      <th>long</th>\n",
              "      <td>21613.0</td>\n",
              "      <td>-1.222139e+02</td>\n",
              "      <td>1.408283e-01</td>\n",
              "      <td>-1.225190e+02</td>\n",
              "      <td>-1.223280e+02</td>\n",
              "      <td>-1.222300e+02</td>\n",
              "      <td>-1.221250e+02</td>\n",
              "      <td>-1.213150e+02</td>\n",
              "    </tr>\n",
              "    <tr>\n",
              "      <th>sqft_living15</th>\n",
              "      <td>21613.0</td>\n",
              "      <td>1.986552e+03</td>\n",
              "      <td>6.853913e+02</td>\n",
              "      <td>3.990000e+02</td>\n",
              "      <td>1.490000e+03</td>\n",
              "      <td>1.840000e+03</td>\n",
              "      <td>2.360000e+03</td>\n",
              "      <td>6.210000e+03</td>\n",
              "    </tr>\n",
              "    <tr>\n",
              "      <th>sqft_lot15</th>\n",
              "      <td>21613.0</td>\n",
              "      <td>1.276846e+04</td>\n",
              "      <td>2.730418e+04</td>\n",
              "      <td>6.510000e+02</td>\n",
              "      <td>5.100000e+03</td>\n",
              "      <td>7.620000e+03</td>\n",
              "      <td>1.008300e+04</td>\n",
              "      <td>8.712000e+05</td>\n",
              "    </tr>\n",
              "  </tbody>\n",
              "</table>\n",
              "</div>\n",
              "      <button class=\"colab-df-convert\" onclick=\"convertToInteractive('df-37ca2214-e43b-40ae-9eca-e0a7ebc00e21')\"\n",
              "              title=\"Convert this dataframe to an interactive table.\"\n",
              "              style=\"display:none;\">\n",
              "        \n",
              "  <svg xmlns=\"http://www.w3.org/2000/svg\" height=\"24px\"viewBox=\"0 0 24 24\"\n",
              "       width=\"24px\">\n",
              "    <path d=\"M0 0h24v24H0V0z\" fill=\"none\"/>\n",
              "    <path d=\"M18.56 5.44l.94 2.06.94-2.06 2.06-.94-2.06-.94-.94-2.06-.94 2.06-2.06.94zm-11 1L8.5 8.5l.94-2.06 2.06-.94-2.06-.94L8.5 2.5l-.94 2.06-2.06.94zm10 10l.94 2.06.94-2.06 2.06-.94-2.06-.94-.94-2.06-.94 2.06-2.06.94z\"/><path d=\"M17.41 7.96l-1.37-1.37c-.4-.4-.92-.59-1.43-.59-.52 0-1.04.2-1.43.59L10.3 9.45l-7.72 7.72c-.78.78-.78 2.05 0 2.83L4 21.41c.39.39.9.59 1.41.59.51 0 1.02-.2 1.41-.59l7.78-7.78 2.81-2.81c.8-.78.8-2.07 0-2.86zM5.41 20L4 18.59l7.72-7.72 1.47 1.35L5.41 20z\"/>\n",
              "  </svg>\n",
              "      </button>\n",
              "      \n",
              "  <style>\n",
              "    .colab-df-container {\n",
              "      display:flex;\n",
              "      flex-wrap:wrap;\n",
              "      gap: 12px;\n",
              "    }\n",
              "\n",
              "    .colab-df-convert {\n",
              "      background-color: #E8F0FE;\n",
              "      border: none;\n",
              "      border-radius: 50%;\n",
              "      cursor: pointer;\n",
              "      display: none;\n",
              "      fill: #1967D2;\n",
              "      height: 32px;\n",
              "      padding: 0 0 0 0;\n",
              "      width: 32px;\n",
              "    }\n",
              "\n",
              "    .colab-df-convert:hover {\n",
              "      background-color: #E2EBFA;\n",
              "      box-shadow: 0px 1px 2px rgba(60, 64, 67, 0.3), 0px 1px 3px 1px rgba(60, 64, 67, 0.15);\n",
              "      fill: #174EA6;\n",
              "    }\n",
              "\n",
              "    [theme=dark] .colab-df-convert {\n",
              "      background-color: #3B4455;\n",
              "      fill: #D2E3FC;\n",
              "    }\n",
              "\n",
              "    [theme=dark] .colab-df-convert:hover {\n",
              "      background-color: #434B5C;\n",
              "      box-shadow: 0px 1px 3px 1px rgba(0, 0, 0, 0.15);\n",
              "      filter: drop-shadow(0px 1px 2px rgba(0, 0, 0, 0.3));\n",
              "      fill: #FFFFFF;\n",
              "    }\n",
              "  </style>\n",
              "\n",
              "      <script>\n",
              "        const buttonEl =\n",
              "          document.querySelector('#df-37ca2214-e43b-40ae-9eca-e0a7ebc00e21 button.colab-df-convert');\n",
              "        buttonEl.style.display =\n",
              "          google.colab.kernel.accessAllowed ? 'block' : 'none';\n",
              "\n",
              "        async function convertToInteractive(key) {\n",
              "          const element = document.querySelector('#df-37ca2214-e43b-40ae-9eca-e0a7ebc00e21');\n",
              "          const dataTable =\n",
              "            await google.colab.kernel.invokeFunction('convertToInteractive',\n",
              "                                                     [key], {});\n",
              "          if (!dataTable) return;\n",
              "\n",
              "          const docLinkHtml = 'Like what you see? Visit the ' +\n",
              "            '<a target=\"_blank\" href=https://colab.research.google.com/notebooks/data_table.ipynb>data table notebook</a>'\n",
              "            + ' to learn more about interactive tables.';\n",
              "          element.innerHTML = '';\n",
              "          dataTable['output_type'] = 'display_data';\n",
              "          await google.colab.output.renderOutput(dataTable, element);\n",
              "          const docLink = document.createElement('div');\n",
              "          docLink.innerHTML = docLinkHtml;\n",
              "          element.appendChild(docLink);\n",
              "        }\n",
              "      </script>\n",
              "    </div>\n",
              "  </div>\n",
              "  "
            ]
          },
          "metadata": {},
          "execution_count": 5
        }
      ]
    },
    {
      "cell_type": "markdown",
      "source": [
        "Are there any null values in the dataset? You can read about methods for dealing with null values [here](https://machinelearningmastery.com/handle-missing-data-python/). "
      ],
      "metadata": {
        "id": "bRfPCov3M4C2"
      }
    },
    {
      "cell_type": "code",
      "source": [
        "df.isnull().sum()"
      ],
      "metadata": {
        "colab": {
          "base_uri": "https://localhost:8080/"
        },
        "id": "cCdHGiH5Ay8d",
        "outputId": "17bba2b0-3777-47a4-a48e-e3570f819d57"
      },
      "execution_count": null,
      "outputs": [
        {
          "output_type": "execute_result",
          "data": {
            "text/plain": [
              "id               0\n",
              "date             0\n",
              "price            0\n",
              "bedrooms         0\n",
              "bathrooms        0\n",
              "sqft_living      0\n",
              "sqft_lot         0\n",
              "floors           0\n",
              "waterfront       0\n",
              "view             0\n",
              "condition        0\n",
              "grade            0\n",
              "sqft_above       0\n",
              "sqft_basement    0\n",
              "yr_built         0\n",
              "yr_renovated     0\n",
              "zipcode          0\n",
              "lat              0\n",
              "long             0\n",
              "sqft_living15    0\n",
              "sqft_lot15       0\n",
              "dtype: int64"
            ]
          },
          "metadata": {},
          "execution_count": 6
        }
      ]
    },
    {
      "cell_type": "code",
      "source": [
        "plt.figure(figsize=(10,6))\n",
        "sns.distplot(df['price'],bins=30)"
      ],
      "metadata": {
        "colab": {
          "base_uri": "https://localhost:8080/",
          "height": 416
        },
        "id": "vQbm9aLZndrf",
        "outputId": "3a588877-7f3f-4a15-9dcb-646d6ba236db"
      },
      "execution_count": null,
      "outputs": [
        {
          "output_type": "execute_result",
          "data": {
            "text/plain": [
              "<matplotlib.axes._subplots.AxesSubplot at 0x7fcc7fffac90>"
            ]
          },
          "metadata": {},
          "execution_count": 7
        },
        {
          "output_type": "display_data",
          "data": {
            "text/plain": [
              "<Figure size 720x432 with 1 Axes>"
            ],
            "image/png": "[encoded data removed]"
          },
          "metadata": {
            "needs_background": "light"
          }
        }
      ]
    },
    {
      "cell_type": "markdown",
      "source": [
        "\n",
        "There are 20 numeric variables with a correlation with price. We need to extraxt highly correlated feature with price."
      ],
      "metadata": {
        "id": "PeVzplbLT3Ru"
      }
    },
    {
      "cell_type": "code",
      "source": [
        "df.corr()"
      ],
      "metadata": {
        "colab": {
          "base_uri": "https://localhost:8080/",
          "height": 677
        },
        "id": "1xcRq3mqA4Ul",
        "outputId": "2edd940b-17f9-43b3-8431-889c94b0ad2d"
      },
      "execution_count": null,
      "outputs": [
        {
          "output_type": "execute_result",
          "data": {
            "text/plain": [
              "                     id     price  bedrooms  bathrooms  sqft_living  sqft_lot  \\\n",
              "id             1.000000 -0.016762  0.001286   0.005160    -0.012258 -0.132109   \n",
              "price         -0.016762  1.000000  0.308350   0.525138     0.702035  0.089661   \n",
              "bedrooms       0.001286  0.308350  1.000000   0.515884     0.576671  0.031703   \n",
              "bathrooms      0.005160  0.525138  0.515884   1.000000     0.754665  0.087740   \n",
              "sqft_living   -0.012258  0.702035  0.576671   0.754665     1.000000  0.172826   \n",
              "sqft_lot      -0.132109  0.089661  0.031703   0.087740     0.172826  1.000000   \n",
              "floors         0.018525  0.256794  0.175429   0.500653     0.353949 -0.005201   \n",
              "waterfront    -0.002721  0.266369 -0.006582   0.063744     0.103818  0.021604   \n",
              "view           0.011592  0.397293  0.079532   0.187737     0.284611  0.074710   \n",
              "condition     -0.023783  0.036362  0.028472  -0.124982    -0.058753 -0.008958   \n",
              "grade          0.008130  0.667434  0.356967   0.664983     0.762704  0.113621   \n",
              "sqft_above    -0.010842  0.605567  0.477600   0.685342     0.876597  0.183512   \n",
              "sqft_basement -0.005151  0.323816  0.303093   0.283770     0.435043  0.015286   \n",
              "yr_built       0.021380  0.054012  0.154178   0.506019     0.318049  0.053080   \n",
              "yr_renovated  -0.016907  0.126434  0.018841   0.050739     0.055363  0.007644   \n",
              "zipcode       -0.008224 -0.053203 -0.152668  -0.203866    -0.199430 -0.129574   \n",
              "lat           -0.001891  0.307003 -0.008931   0.024573     0.052529 -0.085683   \n",
              "long           0.020799  0.021626  0.129473   0.223042     0.240223  0.229521   \n",
              "sqft_living15 -0.002901  0.585379  0.391638   0.568634     0.756420  0.144608   \n",
              "sqft_lot15    -0.138798  0.082447  0.029244   0.087175     0.183286  0.718557   \n",
              "\n",
              "                 floors  waterfront      view  condition     grade  \\\n",
              "id             0.018525   -0.002721  0.011592  -0.023783  0.008130   \n",
              "price          0.256794    0.266369  0.397293   0.036362  0.667434   \n",
              "bedrooms       0.175429   -0.006582  0.079532   0.028472  0.356967   \n",
              "bathrooms      0.500653    0.063744  0.187737  -0.124982  0.664983   \n",
              "sqft_living    0.353949    0.103818  0.284611  -0.058753  0.762704   \n",
              "sqft_lot      -0.005201    0.021604  0.074710  -0.008958  0.113621   \n",
              "floors         1.000000    0.023698  0.029444  -0.263768  0.458183   \n",
              "waterfront     0.023698    1.000000  0.401857   0.016653  0.082775   \n",
              "view           0.029444    0.401857  1.000000   0.045990  0.251321   \n",
              "condition     -0.263768    0.016653  0.045990   1.000000 -0.144674   \n",
              "grade          0.458183    0.082775  0.251321  -0.144674  1.000000   \n",
              "sqft_above     0.523885    0.072075  0.167649  -0.158214  0.755923   \n",
              "sqft_basement -0.245705    0.080588  0.276947   0.174105  0.168392   \n",
              "yr_built       0.489319   -0.026161 -0.053440  -0.361417  0.446963   \n",
              "yr_renovated   0.006338    0.092885  0.103917  -0.060618  0.014414   \n",
              "zipcode       -0.059121    0.030285  0.084827   0.003026 -0.184862   \n",
              "lat            0.049614   -0.014274  0.006157  -0.014941  0.114084   \n",
              "long           0.125419   -0.041910 -0.078400  -0.106500  0.198372   \n",
              "sqft_living15  0.279885    0.086463  0.280439  -0.092824  0.713202   \n",
              "sqft_lot15    -0.011269    0.030703  0.072575  -0.003406  0.119248   \n",
              "\n",
              "               sqft_above  sqft_basement  yr_built  yr_renovated   zipcode  \\\n",
              "id              -0.010842      -0.005151  0.021380     -0.016907 -0.008224   \n",
              "price            0.605567       0.323816  0.054012      0.126434 -0.053203   \n",
              "bedrooms         0.477600       0.303093  0.154178      0.018841 -0.152668   \n",
              "bathrooms        0.685342       0.283770  0.506019      0.050739 -0.203866   \n",
              "sqft_living      0.876597       0.435043  0.318049      0.055363 -0.199430   \n",
              "sqft_lot         0.183512       0.015286  0.053080      0.007644 -0.129574   \n",
              "floors           0.523885      -0.245705  0.489319      0.006338 -0.059121   \n",
              "waterfront       0.072075       0.080588 -0.026161      0.092885  0.030285   \n",
              "view             0.167649       0.276947 -0.053440      0.103917  0.084827   \n",
              "condition       -0.158214       0.174105 -0.361417     -0.060618  0.003026   \n",
              "grade            0.755923       0.168392  0.446963      0.014414 -0.184862   \n",
              "sqft_above       1.000000      -0.051943  0.423898      0.023285 -0.261190   \n",
              "sqft_basement   -0.051943       1.000000 -0.133124      0.071323  0.074845   \n",
              "yr_built         0.423898      -0.133124  1.000000     -0.224874 -0.346869   \n",
              "yr_renovated     0.023285       0.071323 -0.224874      1.000000  0.064357   \n",
              "zipcode         -0.261190       0.074845 -0.346869      0.064357  1.000000   \n",
              "lat             -0.000816       0.110538 -0.148122      0.029398  0.267048   \n",
              "long             0.343803      -0.144765  0.409356     -0.068372 -0.564072   \n",
              "sqft_living15    0.731870       0.200355  0.326229     -0.002673 -0.279033   \n",
              "sqft_lot15       0.194050       0.017276  0.070958      0.007854 -0.147221   \n",
              "\n",
              "                    lat      long  sqft_living15  sqft_lot15  \n",
              "id            -0.001891  0.020799      -0.002901   -0.138798  \n",
              "price          0.307003  0.021626       0.585379    0.082447  \n",
              "bedrooms      -0.008931  0.129473       0.391638    0.029244  \n",
              "bathrooms      0.024573  0.223042       0.568634    0.087175  \n",
              "sqft_living    0.052529  0.240223       0.756420    0.183286  \n",
              "sqft_lot      -0.085683  0.229521       0.144608    0.718557  \n",
              "floors         0.049614  0.125419       0.279885   -0.011269  \n",
              "waterfront    -0.014274 -0.041910       0.086463    0.030703  \n",
              "view           0.006157 -0.078400       0.280439    0.072575  \n",
              "condition     -0.014941 -0.106500      -0.092824   -0.003406  \n",
              "grade          0.114084  0.198372       0.713202    0.119248  \n",
              "sqft_above    -0.000816  0.343803       0.731870    0.194050  \n",
              "sqft_basement  0.110538 -0.144765       0.200355    0.017276  \n",
              "yr_built      -0.148122  0.409356       0.326229    0.070958  \n",
              "yr_renovated   0.029398 -0.068372      -0.002673    0.007854  \n",
              "zipcode        0.267048 -0.564072      -0.279033   -0.147221  \n",
              "lat            1.000000 -0.135512       0.048858   -0.086419  \n",
              "long          -0.135512  1.000000       0.334605    0.254451  \n",
              "sqft_living15  0.048858  0.334605       1.000000    0.183192  \n",
              "sqft_lot15    -0.086419  0.254451       0.183192    1.000000  "
            ],
            "text/html": [
              "\n",
              "  <div id=\"df-df856d81-8ce6-415f-b545-e410ec8e71ae\">\n",
              "    <div class=\"colab-df-container\">\n",
              "      <div>\n",
              "<style scoped>\n",
              "    .dataframe tbody tr th:only-of-type {\n",
              "        vertical-align: middle;\n",
              "    }\n",
              "\n",
              "    .dataframe tbody tr th {\n",
              "        vertical-align: top;\n",
              "    }\n",
              "\n",
              "    .dataframe thead th {\n",
              "        text-align: right;\n",
              "    }\n",
              "</style>\n",
              "<table border=\"1\" class=\"dataframe\">\n",
              "  <thead>\n",
              "    <tr style=\"text-align: right;\">\n",
              "      <th></th>\n",
              "      <th>id</th>\n",
              "      <th>price</th>\n",
              "      <th>bedrooms</th>\n",
              "      <th>bathrooms</th>\n",
              "      <th>sqft_living</th>\n",
              "      <th>sqft_lot</th>\n",
              "      <th>floors</th>\n",
              "      <th>waterfront</th>\n",
              "      <th>view</th>\n",
              "      <th>condition</th>\n",
              "      <th>grade</th>\n",
              "      <th>sqft_above</th>\n",
              "      <th>sqft_basement</th>\n",
              "      <th>yr_built</th>\n",
              "      <th>yr_renovated</th>\n",
              "      <th>zipcode</th>\n",
              "      <th>lat</th>\n",
              "      <th>long</th>\n",
              "      <th>sqft_living15</th>\n",
              "      <th>sqft_lot15</th>\n",
              "    </tr>\n",
              "  </thead>\n",
              "  <tbody>\n",
              "    <tr>\n",
              "      <th>id</th>\n",
              "      <td>1.000000</td>\n",
              "      <td>-0.016762</td>\n",
              "      <td>0.001286</td>\n",
              "      <td>0.005160</td>\n",
              "      <td>-0.012258</td>\n",
              "      <td>-0.132109</td>\n",
              "      <td>0.018525</td>\n",
              "      <td>-0.002721</td>\n",
              "      <td>0.011592</td>\n",
              "      <td>-0.023783</td>\n",
              "      <td>0.008130</td>\n",
              "      <td>-0.010842</td>\n",
              "      <td>-0.005151</td>\n",
              "      <td>0.021380</td>\n",
              "      <td>-0.016907</td>\n",
              "      <td>-0.008224</td>\n",
              "      <td>-0.001891</td>\n",
              "      <td>0.020799</td>\n",
              "      <td>-0.002901</td>\n",
              "      <td>-0.138798</td>\n",
              "    </tr>\n",
              "    <tr>\n",
              "      <th>price</th>\n",
              "      <td>-0.016762</td>\n",
              "      <td>1.000000</td>\n",
              "      <td>0.308350</td>\n",
              "      <td>0.525138</td>\n",
              "      <td>0.702035</td>\n",
              "      <td>0.089661</td>\n",
              "      <td>0.256794</td>\n",
              "      <td>0.266369</td>\n",
              "      <td>0.397293</td>\n",
              "      <td>0.036362</td>\n",
              "      <td>0.667434</td>\n",
              "      <td>0.605567</td>\n",
              "      <td>0.323816</td>\n",
              "      <td>0.054012</td>\n",
              "      <td>0.126434</td>\n",
              "      <td>-0.053203</td>\n",
              "      <td>0.307003</td>\n",
              "      <td>0.021626</td>\n",
              "      <td>0.585379</td>\n",
              "      <td>0.082447</td>\n",
              "    </tr>\n",
              "    <tr>\n",
              "      <th>bedrooms</th>\n",
              "      <td>0.001286</td>\n",
              "      <td>0.308350</td>\n",
              "      <td>1.000000</td>\n",
              "      <td>0.515884</td>\n",
              "      <td>0.576671</td>\n",
              "      <td>0.031703</td>\n",
              "      <td>0.175429</td>\n",
              "      <td>-0.006582</td>\n",
              "      <td>0.079532</td>\n",
              "      <td>0.028472</td>\n",
              "      <td>0.356967</td>\n",
              "      <td>0.477600</td>\n",
              "      <td>0.303093</td>\n",
              "      <td>0.154178</td>\n",
              "      <td>0.018841</td>\n",
              "      <td>-0.152668</td>\n",
              "      <td>-0.008931</td>\n",
              "      <td>0.129473</td>\n",
              "      <td>0.391638</td>\n",
              "      <td>0.029244</td>\n",
              "    </tr>\n",
              "    <tr>\n",
              "      <th>bathrooms</th>\n",
              "      <td>0.005160</td>\n",
              "      <td>0.525138</td>\n",
              "      <td>0.515884</td>\n",
              "      <td>1.000000</td>\n",
              "      <td>0.754665</td>\n",
              "      <td>0.087740</td>\n",
              "      <td>0.500653</td>\n",
              "      <td>0.063744</td>\n",
              "      <td>0.187737</td>\n",
              "      <td>-0.124982</td>\n",
              "      <td>0.664983</td>\n",
              "      <td>0.685342</td>\n",
              "      <td>0.283770</td>\n",
              "      <td>0.506019</td>\n",
              "      <td>0.050739</td>\n",
              "      <td>-0.203866</td>\n",
              "      <td>0.024573</td>\n",
              "      <td>0.223042</td>\n",
              "      <td>0.568634</td>\n",
              "      <td>0.087175</td>\n",
              "    </tr>\n",
              "    <tr>\n",
              "      <th>sqft_living</th>\n",
              "      <td>-0.012258</td>\n",
              "      <td>0.702035</td>\n",
              "      <td>0.576671</td>\n",
              "      <td>0.754665</td>\n",
              "      <td>1.000000</td>\n",
              "      <td>0.172826</td>\n",
              "      <td>0.353949</td>\n",
              "      <td>0.103818</td>\n",
              "      <td>0.284611</td>\n",
              "      <td>-0.058753</td>\n",
              "      <td>0.762704</td>\n",
              "      <td>0.876597</td>\n",
              "      <td>0.435043</td>\n",
              "      <td>0.318049</td>\n",
              "      <td>0.055363</td>\n",
              "      <td>-0.199430</td>\n",
              "      <td>0.052529</td>\n",
              "      <td>0.240223</td>\n",
              "      <td>0.756420</td>\n",
              "      <td>0.183286</td>\n",
              "    </tr>\n",
              "    <tr>\n",
              "      <th>sqft_lot</th>\n",
              "      <td>-0.132109</td>\n",
              "      <td>0.089661</td>\n",
              "      <td>0.031703</td>\n",
              "      <td>0.087740</td>\n",
              "      <td>0.172826</td>\n",
              "      <td>1.000000</td>\n",
              "      <td>-0.005201</td>\n",
              "      <td>0.021604</td>\n",
              "      <td>0.074710</td>\n",
              "      <td>-0.008958</td>\n",
              "      <td>0.113621</td>\n",
              "      <td>0.183512</td>\n",
              "      <td>0.015286</td>\n",
              "      <td>0.053080</td>\n",
              "      <td>0.007644</td>\n",
              "      <td>-0.129574</td>\n",
              "      <td>-0.085683</td>\n",
              "      <td>0.229521</td>\n",
              "      <td>0.144608</td>\n",
              "      <td>0.718557</td>\n",
              "    </tr>\n",
              "    <tr>\n",
              "      <th>floors</th>\n",
              "      <td>0.018525</td>\n",
              "      <td>0.256794</td>\n",
              "      <td>0.175429</td>\n",
              "      <td>0.500653</td>\n",
              "      <td>0.353949</td>\n",
              "      <td>-0.005201</td>\n",
              "      <td>1.000000</td>\n",
              "      <td>0.023698</td>\n",
              "      <td>0.029444</td>\n",
              "      <td>-0.263768</td>\n",
              "      <td>0.458183</td>\n",
              "      <td>0.523885</td>\n",
              "      <td>-0.245705</td>\n",
              "      <td>0.489319</td>\n",
              "      <td>0.006338</td>\n",
              "      <td>-0.059121</td>\n",
              "      <td>0.049614</td>\n",
              "      <td>0.125419</td>\n",
              "      <td>0.279885</td>\n",
              "      <td>-0.011269</td>\n",
              "    </tr>\n",
              "    <tr>\n",
              "      <th>waterfront</th>\n",
              "      <td>-0.002721</td>\n",
              "      <td>0.266369</td>\n",
              "      <td>-0.006582</td>\n",
              "      <td>0.063744</td>\n",
              "      <td>0.103818</td>\n",
              "      <td>0.021604</td>\n",
              "      <td>0.023698</td>\n",
              "      <td>1.000000</td>\n",
              "      <td>0.401857</td>\n",
              "      <td>0.016653</td>\n",
              "      <td>0.082775</td>\n",
              "      <td>0.072075</td>\n",
              "      <td>0.080588</td>\n",
              "      <td>-0.026161</td>\n",
              "      <td>0.092885</td>\n",
              "      <td>0.030285</td>\n",
              "      <td>-0.014274</td>\n",
              "      <td>-0.041910</td>\n",
              "      <td>0.086463</td>\n",
              "      <td>0.030703</td>\n",
              "    </tr>\n",
              "    <tr>\n",
              "      <th>view</th>\n",
              "      <td>0.011592</td>\n",
              "      <td>0.397293</td>\n",
              "      <td>0.079532</td>\n",
              "      <td>0.187737</td>\n",
              "      <td>0.284611</td>\n",
              "      <td>0.074710</td>\n",
              "      <td>0.029444</td>\n",
              "      <td>0.401857</td>\n",
              "      <td>1.000000</td>\n",
              "      <td>0.045990</td>\n",
              "      <td>0.251321</td>\n",
              "      <td>0.167649</td>\n",
              "      <td>0.276947</td>\n",
              "      <td>-0.053440</td>\n",
              "      <td>0.103917</td>\n",
              "      <td>0.084827</td>\n",
              "      <td>0.006157</td>\n",
              "      <td>-0.078400</td>\n",
              "      <td>0.280439</td>\n",
              "      <td>0.072575</td>\n",
              "    </tr>\n",
              "    <tr>\n",
              "      <th>condition</th>\n",
              "      <td>-0.023783</td>\n",
              "      <td>0.036362</td>\n",
              "      <td>0.028472</td>\n",
              "      <td>-0.124982</td>\n",
              "      <td>-0.058753</td>\n",
              "      <td>-0.008958</td>\n",
              "      <td>-0.263768</td>\n",
              "      <td>0.016653</td>\n",
              "      <td>0.045990</td>\n",
              "      <td>1.000000</td>\n",
              "      <td>-0.144674</td>\n",
              "      <td>-0.158214</td>\n",
              "      <td>0.174105</td>\n",
              "      <td>-0.361417</td>\n",
              "      <td>-0.060618</td>\n",
              "      <td>0.003026</td>\n",
              "      <td>-0.014941</td>\n",
              "      <td>-0.106500</td>\n",
              "      <td>-0.092824</td>\n",
              "      <td>-0.003406</td>\n",
              "    </tr>\n",
              "    <tr>\n",
              "      <th>grade</th>\n",
              "      <td>0.008130</td>\n",
              "      <td>0.667434</td>\n",
              "      <td>0.356967</td>\n",
              "      <td>0.664983</td>\n",
              "      <td>0.762704</td>\n",
              "      <td>0.113621</td>\n",
              "      <td>0.458183</td>\n",
              "      <td>0.082775</td>\n",
              "      <td>0.251321</td>\n",
              "      <td>-0.144674</td>\n",
              "      <td>1.000000</td>\n",
              "      <td>0.755923</td>\n",
              "      <td>0.168392</td>\n",
              "      <td>0.446963</td>\n",
              "      <td>0.014414</td>\n",
              "      <td>-0.184862</td>\n",
              "      <td>0.114084</td>\n",
              "      <td>0.198372</td>\n",
              "      <td>0.713202</td>\n",
              "      <td>0.119248</td>\n",
              "    </tr>\n",
              "    <tr>\n",
              "      <th>sqft_above</th>\n",
              "      <td>-0.010842</td>\n",
              "      <td>0.605567</td>\n",
              "      <td>0.477600</td>\n",
              "      <td>0.685342</td>\n",
              "      <td>0.876597</td>\n",
              "      <td>0.183512</td>\n",
              "      <td>0.523885</td>\n",
              "      <td>0.072075</td>\n",
              "      <td>0.167649</td>\n",
              "      <td>-0.158214</td>\n",
              "      <td>0.755923</td>\n",
              "      <td>1.000000</td>\n",
              "      <td>-0.051943</td>\n",
              "      <td>0.423898</td>\n",
              "      <td>0.023285</td>\n",
              "      <td>-0.261190</td>\n",
              "      <td>-0.000816</td>\n",
              "      <td>0.343803</td>\n",
              "      <td>0.731870</td>\n",
              "      <td>0.194050</td>\n",
              "    </tr>\n",
              "    <tr>\n",
              "      <th>sqft_basement</th>\n",
              "      <td>-0.005151</td>\n",
              "      <td>0.323816</td>\n",
              "      <td>0.303093</td>\n",
              "      <td>0.283770</td>\n",
              "      <td>0.435043</td>\n",
              "      <td>0.015286</td>\n",
              "      <td>-0.245705</td>\n",
              "      <td>0.080588</td>\n",
              "      <td>0.276947</td>\n",
              "      <td>0.174105</td>\n",
              "      <td>0.168392</td>\n",
              "      <td>-0.051943</td>\n",
              "      <td>1.000000</td>\n",
              "      <td>-0.133124</td>\n",
              "      <td>0.071323</td>\n",
              "      <td>0.074845</td>\n",
              "      <td>0.110538</td>\n",
              "      <td>-0.144765</td>\n",
              "      <td>0.200355</td>\n",
              "      <td>0.017276</td>\n",
              "    </tr>\n",
              "    <tr>\n",
              "      <th>yr_built</th>\n",
              "      <td>0.021380</td>\n",
              "      <td>0.054012</td>\n",
              "      <td>0.154178</td>\n",
              "      <td>0.506019</td>\n",
              "      <td>0.318049</td>\n",
              "      <td>0.053080</td>\n",
              "      <td>0.489319</td>\n",
              "      <td>-0.026161</td>\n",
              "      <td>-0.053440</td>\n",
              "      <td>-0.361417</td>\n",
              "      <td>0.446963</td>\n",
              "      <td>0.423898</td>\n",
              "      <td>-0.133124</td>\n",
              "      <td>1.000000</td>\n",
              "      <td>-0.224874</td>\n",
              "      <td>-0.346869</td>\n",
              "      <td>-0.148122</td>\n",
              "      <td>0.409356</td>\n",
              "      <td>0.326229</td>\n",
              "      <td>0.070958</td>\n",
              "    </tr>\n",
              "    <tr>\n",
              "      <th>yr_renovated</th>\n",
              "      <td>-0.016907</td>\n",
              "      <td>0.126434</td>\n",
              "      <td>0.018841</td>\n",
              "      <td>0.050739</td>\n",
              "      <td>0.055363</td>\n",
              "      <td>0.007644</td>\n",
              "      <td>0.006338</td>\n",
              "      <td>0.092885</td>\n",
              "      <td>0.103917</td>\n",
              "      <td>-0.060618</td>\n",
              "      <td>0.014414</td>\n",
              "      <td>0.023285</td>\n",
              "      <td>0.071323</td>\n",
              "      <td>-0.224874</td>\n",
              "      <td>1.000000</td>\n",
              "      <td>0.064357</td>\n",
              "      <td>0.029398</td>\n",
              "      <td>-0.068372</td>\n",
              "      <td>-0.002673</td>\n",
              "      <td>0.007854</td>\n",
              "    </tr>\n",
              "    <tr>\n",
              "      <th>zipcode</th>\n",
              "      <td>-0.008224</td>\n",
              "      <td>-0.053203</td>\n",
              "      <td>-0.152668</td>\n",
              "      <td>-0.203866</td>\n",
              "      <td>-0.199430</td>\n",
              "      <td>-0.129574</td>\n",
              "      <td>-0.059121</td>\n",
              "      <td>0.030285</td>\n",
              "      <td>0.084827</td>\n",
              "      <td>0.003026</td>\n",
              "      <td>-0.184862</td>\n",
              "      <td>-0.261190</td>\n",
              "      <td>0.074845</td>\n",
              "      <td>-0.346869</td>\n",
              "      <td>0.064357</td>\n",
              "      <td>1.000000</td>\n",
              "      <td>0.267048</td>\n",
              "      <td>-0.564072</td>\n",
              "      <td>-0.279033</td>\n",
              "      <td>-0.147221</td>\n",
              "    </tr>\n",
              "    <tr>\n",
              "      <th>lat</th>\n",
              "      <td>-0.001891</td>\n",
              "      <td>0.307003</td>\n",
              "      <td>-0.008931</td>\n",
              "      <td>0.024573</td>\n",
              "      <td>0.052529</td>\n",
              "      <td>-0.085683</td>\n",
              "      <td>0.049614</td>\n",
              "      <td>-0.014274</td>\n",
              "      <td>0.006157</td>\n",
              "      <td>-0.014941</td>\n",
              "      <td>0.114084</td>\n",
              "      <td>-0.000816</td>\n",
              "      <td>0.110538</td>\n",
              "      <td>-0.148122</td>\n",
              "      <td>0.029398</td>\n",
              "      <td>0.267048</td>\n",
              "      <td>1.000000</td>\n",
              "      <td>-0.135512</td>\n",
              "      <td>0.048858</td>\n",
              "      <td>-0.086419</td>\n",
              "    </tr>\n",
              "    <tr>\n",
              "      <th>long</th>\n",
              "      <td>0.020799</td>\n",
              "      <td>0.021626</td>\n",
              "      <td>0.129473</td>\n",
              "      <td>0.223042</td>\n",
              "      <td>0.240223</td>\n",
              "      <td>0.229521</td>\n",
              "      <td>0.125419</td>\n",
              "      <td>-0.041910</td>\n",
              "      <td>-0.078400</td>\n",
              "      <td>-0.106500</td>\n",
              "      <td>0.198372</td>\n",
              "      <td>0.343803</td>\n",
              "      <td>-0.144765</td>\n",
              "      <td>0.409356</td>\n",
              "      <td>-0.068372</td>\n",
              "      <td>-0.564072</td>\n",
              "      <td>-0.135512</td>\n",
              "      <td>1.000000</td>\n",
              "      <td>0.334605</td>\n",
              "      <td>0.254451</td>\n",
              "    </tr>\n",
              "    <tr>\n",
              "      <th>sqft_living15</th>\n",
              "      <td>-0.002901</td>\n",
              "      <td>0.585379</td>\n",
              "      <td>0.391638</td>\n",
              "      <td>0.568634</td>\n",
              "      <td>0.756420</td>\n",
              "      <td>0.144608</td>\n",
              "      <td>0.279885</td>\n",
              "      <td>0.086463</td>\n",
              "      <td>0.280439</td>\n",
              "      <td>-0.092824</td>\n",
              "      <td>0.713202</td>\n",
              "      <td>0.731870</td>\n",
              "      <td>0.200355</td>\n",
              "      <td>0.326229</td>\n",
              "      <td>-0.002673</td>\n",
              "      <td>-0.279033</td>\n",
              "      <td>0.048858</td>\n",
              "      <td>0.334605</td>\n",
              "      <td>1.000000</td>\n",
              "      <td>0.183192</td>\n",
              "    </tr>\n",
              "    <tr>\n",
              "      <th>sqft_lot15</th>\n",
              "      <td>-0.138798</td>\n",
              "      <td>0.082447</td>\n",
              "      <td>0.029244</td>\n",
              "      <td>0.087175</td>\n",
              "      <td>0.183286</td>\n",
              "      <td>0.718557</td>\n",
              "      <td>-0.011269</td>\n",
              "      <td>0.030703</td>\n",
              "      <td>0.072575</td>\n",
              "      <td>-0.003406</td>\n",
              "      <td>0.119248</td>\n",
              "      <td>0.194050</td>\n",
              "      <td>0.017276</td>\n",
              "      <td>0.070958</td>\n",
              "      <td>0.007854</td>\n",
              "      <td>-0.147221</td>\n",
              "      <td>-0.086419</td>\n",
              "      <td>0.254451</td>\n",
              "      <td>0.183192</td>\n",
              "      <td>1.000000</td>\n",
              "    </tr>\n",
              "  </tbody>\n",
              "</table>\n",
              "</div>\n",
              "      <button class=\"colab-df-convert\" onclick=\"convertToInteractive('df-df856d81-8ce6-415f-b545-e410ec8e71ae')\"\n",
              "              title=\"Convert this dataframe to an interactive table.\"\n",
              "              style=\"display:none;\">\n",
              "        \n",
              "  <svg xmlns=\"http://www.w3.org/2000/svg\" height=\"24px\"viewBox=\"0 0 24 24\"\n",
              "       width=\"24px\">\n",
              "    <path d=\"M0 0h24v24H0V0z\" fill=\"none\"/>\n",
              "    <path d=\"M18.56 5.44l.94 2.06.94-2.06 2.06-.94-2.06-.94-.94-2.06-.94 2.06-2.06.94zm-11 1L8.5 8.5l.94-2.06 2.06-.94-2.06-.94L8.5 2.5l-.94 2.06-2.06.94zm10 10l.94 2.06.94-2.06 2.06-.94-2.06-.94-.94-2.06-.94 2.06-2.06.94z\"/><path d=\"M17.41 7.96l-1.37-1.37c-.4-.4-.92-.59-1.43-.59-.52 0-1.04.2-1.43.59L10.3 9.45l-7.72 7.72c-.78.78-.78 2.05 0 2.83L4 21.41c.39.39.9.59 1.41.59.51 0 1.02-.2 1.41-.59l7.78-7.78 2.81-2.81c.8-.78.8-2.07 0-2.86zM5.41 20L4 18.59l7.72-7.72 1.47 1.35L5.41 20z\"/>\n",
              "  </svg>\n",
              "      </button>\n",
              "      \n",
              "  <style>\n",
              "    .colab-df-container {\n",
              "      display:flex;\n",
              "      flex-wrap:wrap;\n",
              "      gap: 12px;\n",
              "    }\n",
              "\n",
              "    .colab-df-convert {\n",
              "      background-color: #E8F0FE;\n",
              "      border: none;\n",
              "      border-radius: 50%;\n",
              "      cursor: pointer;\n",
              "      display: none;\n",
              "      fill: #1967D2;\n",
              "      height: 32px;\n",
              "      padding: 0 0 0 0;\n",
              "      width: 32px;\n",
              "    }\n",
              "\n",
              "    .colab-df-convert:hover {\n",
              "      background-color: #E2EBFA;\n",
              "      box-shadow: 0px 1px 2px rgba(60, 64, 67, 0.3), 0px 1px 3px 1px rgba(60, 64, 67, 0.15);\n",
              "      fill: #174EA6;\n",
              "    }\n",
              "\n",
              "    [theme=dark] .colab-df-convert {\n",
              "      background-color: #3B4455;\n",
              "      fill: #D2E3FC;\n",
              "    }\n",
              "\n",
              "    [theme=dark] .colab-df-convert:hover {\n",
              "      background-color: #434B5C;\n",
              "      box-shadow: 0px 1px 3px 1px rgba(0, 0, 0, 0.15);\n",
              "      filter: drop-shadow(0px 1px 2px rgba(0, 0, 0, 0.3));\n",
              "      fill: #FFFFFF;\n",
              "    }\n",
              "  </style>\n",
              "\n",
              "      <script>\n",
              "        const buttonEl =\n",
              "          document.querySelector('#df-df856d81-8ce6-415f-b545-e410ec8e71ae button.colab-df-convert');\n",
              "        buttonEl.style.display =\n",
              "          google.colab.kernel.accessAllowed ? 'block' : 'none';\n",
              "\n",
              "        async function convertToInteractive(key) {\n",
              "          const element = document.querySelector('#df-df856d81-8ce6-415f-b545-e410ec8e71ae');\n",
              "          const dataTable =\n",
              "            await google.colab.kernel.invokeFunction('convertToInteractive',\n",
              "                                                     [key], {});\n",
              "          if (!dataTable) return;\n",
              "\n",
              "          const docLinkHtml = 'Like what you see? Visit the ' +\n",
              "            '<a target=\"_blank\" href=https://colab.research.google.com/notebooks/data_table.ipynb>data table notebook</a>'\n",
              "            + ' to learn more about interactive tables.';\n",
              "          element.innerHTML = '';\n",
              "          dataTable['output_type'] = 'display_data';\n",
              "          await google.colab.output.renderOutput(dataTable, element);\n",
              "          const docLink = document.createElement('div');\n",
              "          docLink.innerHTML = docLinkHtml;\n",
              "          element.appendChild(docLink);\n",
              "        }\n",
              "      </script>\n",
              "    </div>\n",
              "  </div>\n",
              "  "
            ]
          },
          "metadata": {},
          "execution_count": 8
        }
      ]
    },
    {
      "cell_type": "code",
      "source": [
        "plt.figure(figsize=(15,9))\n",
        "sns.heatmap(df.corr(),cmap='rocket',cbar=True,yticklabels=True)"
      ],
      "metadata": {
        "colab": {
          "base_uri": "https://localhost:8080/",
          "height": 622
        },
        "id": "bUk2RFveA8pT",
        "outputId": "5c17d72d-259d-4c0b-cbeb-a62b9c7f188c"
      },
      "execution_count": null,
      "outputs": [
        {
          "output_type": "execute_result",
          "data": {
            "text/plain": [
              "<matplotlib.axes._subplots.AxesSubplot at 0x7fcc7d243b50>"
            ]
          },
          "metadata": {},
          "execution_count": 9
        },
        {
          "output_type": "display_data",
          "data": {
            "text/plain": [
              "<Figure size 1080x648 with 2 Axes>"
            ],
            "image/png": "[encoded data removed]"
          },
          "metadata": {
            "needs_background": "light"
          }
        }
      ]
    },
    {
      "cell_type": "code",
      "source": [
        "df.corr()[\"price\"].sort_values()"
      ],
      "metadata": {
        "colab": {
          "base_uri": "https://localhost:8080/"
        },
        "id": "gc90oLA2SPmU",
        "outputId": "f116aff3-4713-40a5-8936-b5f5a411ba41"
      },
      "execution_count": null,
      "outputs": [
        {
          "output_type": "execute_result",
          "data": {
            "text/plain": [
              "zipcode         -0.053203\n",
              "id              -0.016762\n",
              "long             0.021626\n",
              "condition        0.036362\n",
              "yr_built         0.054012\n",
              "sqft_lot15       0.082447\n",
              "sqft_lot         0.089661\n",
              "yr_renovated     0.126434\n",
              "floors           0.256794\n",
              "waterfront       0.266369\n",
              "lat              0.307003\n",
              "bedrooms         0.308350\n",
              "sqft_basement    0.323816\n",
              "view             0.397293\n",
              "bathrooms        0.525138\n",
              "sqft_living15    0.585379\n",
              "sqft_above       0.605567\n",
              "grade            0.667434\n",
              "sqft_living      0.702035\n",
              "price            1.000000\n",
              "Name: price, dtype: float64"
            ]
          },
          "metadata": {},
          "execution_count": 10
        }
      ]
    },
    {
      "cell_type": "markdown",
      "source": [
        "Here, sqft_living is highly positive correlated with price. Let's explore more to see how it effect with price. Whereas zipcode, id, date can be drop"
      ],
      "metadata": {
        "id": "1ZonPHSja_YR"
      }
    },
    {
      "cell_type": "code",
      "source": [
        "plt.figure(figsize=(10,6))\n",
        "sns.scatterplot(x=\"price\",y=\"sqft_living\",data=df,color=\"g\",palette='viridis')"
      ],
      "metadata": {
        "colab": {
          "base_uri": "https://localhost:8080/",
          "height": 405
        },
        "id": "lagEwd-LBP9a",
        "outputId": "34b13d0b-7b8e-4090-ee2f-4a36eec36fa5"
      },
      "execution_count": null,
      "outputs": [
        {
          "output_type": "execute_result",
          "data": {
            "text/plain": [
              "<matplotlib.axes._subplots.AxesSubplot at 0x7fcc7d1c5990>"
            ]
          },
          "metadata": {},
          "execution_count": 11
        },
        {
          "output_type": "display_data",
          "data": {
            "text/plain": [
              "<Figure size 720x432 with 1 Axes>"
            ],
            "image/png": "[encoded data removed]"
          },
          "metadata": {
            "needs_background": "light"
          }
        }
      ]
    },
    {
      "cell_type": "code",
      "source": [
        "fig=plt.figure(figsize=(12,5))\n",
        "axis=fig.add_subplot(121)\n",
        "sns.distplot(df['price'],color='g')\n",
        "plt.ylim(0,None)\n",
        "plt.xlim(0,2000000)\n",
        "axis.set_title('distribution of prices')\n",
        "\n",
        "axis=fig.add_subplot(122)\n",
        "sns.distplot(df['sqft_living'],color='b')\n",
        "plt.ylim(0,None)\n",
        "plt.xlim(0,6000)\n",
        "axis.set_title('distribution of sqft_living')"
      ],
      "metadata": {
        "colab": {
          "base_uri": "https://localhost:8080/",
          "height": 368
        },
        "id": "aX2mTB7WBWPI",
        "outputId": "d8d973ab-fdc6-4b70-b852-801f6ab36e29"
      },
      "execution_count": null,
      "outputs": [
        {
          "output_type": "execute_result",
          "data": {
            "text/plain": [
              "Text(0.5, 1.0, 'distribution of sqft_living')"
            ]
          },
          "metadata": {},
          "execution_count": 12
        },
        {
          "output_type": "display_data",
          "data": {
            "text/plain": [
              "<Figure size 864x360 with 2 Axes>"
            ],
            "image/png": "[encoded data removed]"
          },
          "metadata": {
            "needs_background": "light"
          }
        }
      ]
    },
    {
      "cell_type": "code",
      "source": [
        "plt.figure(figsize=(10,6))\n",
        "sns.lmplot(x='sqft_living',y='price',palette='viridis',height=7,data=df)\n",
        "plt.title('sqft_living vs price')\n"
      ],
      "metadata": {
        "colab": {
          "base_uri": "https://localhost:8080/",
          "height": 553
        },
        "id": "dO5wWrjmBihO",
        "outputId": "7a279266-a76e-446c-af4e-12a617a687d5"
      },
      "execution_count": null,
      "outputs": [
        {
          "output_type": "execute_result",
          "data": {
            "text/plain": [
              "Text(0.5, 1.0, 'sqft_living vs price')"
            ]
          },
          "metadata": {},
          "execution_count": 13
        },
        {
          "output_type": "display_data",
          "data": {
            "text/plain": [
              "<Figure size 720x432 with 0 Axes>"
            ]
          },
          "metadata": {}
        },
        {
          "output_type": "display_data",
          "data": {
            "text/plain": [
              "<Figure size 504x504 with 1 Axes>"
            ],
            "image/png": "[encoded data removed]"
          },
          "metadata": {
            "needs_background": "light"
          }
        }
      ]
    },
    {
      "cell_type": "markdown",
      "source": [
        "Here, price increases with sqft_living increase in size. So, it is positively correlated."
      ],
      "metadata": {
        "id": "46Cdhr4ebDlP"
      }
    },
    {
      "cell_type": "markdown",
      "source": [
        "Now, separate data for training and label(Y)"
      ],
      "metadata": {
        "id": "UFPgR1L8bXq1"
      }
    },
    {
      "cell_type": "code",
      "source": [
        "# Separate the data into X and Y\n",
        "x=df.drop([\"price\",\"date\",\"zipcode\",\"id\"],axis=1).values\n",
        "y=df[\"price\"].values"
      ],
      "metadata": {
        "id": "yqX9j53L5w6y"
      },
      "execution_count": null,
      "outputs": []
    },
    {
      "cell_type": "markdown",
      "source": [
        "Let's split the data into training and validation sets."
      ],
      "metadata": {
        "id": "0hA081T6bm0p"
      }
    },
    {
      "cell_type": "code",
      "source": [
        "# Choose a train size, and split the data into a train and test set.\n",
        "x_train,x_test,y_train,y_test=train_test_split(x,y,random_state=23)"
      ],
      "metadata": {
        "id": "XBDMCAJ3AQpA"
      },
      "execution_count": null,
      "outputs": []
    },
    {
      "cell_type": "markdown",
      "source": [
        "Normalizing features by removing the mean and scaling to unit variance using [StandardScaler](https://https://scikit-learn.org/stable/modules/generated/sklearn.preprocessing.StandardScaler.html)()"
      ],
      "metadata": {
        "id": "M4OpwO6acB6b"
      }
    },
    {
      "cell_type": "code",
      "source": [
        "# normalise the data.\n",
        "scalar=StandardScaler()\n",
        "x_train=scalar.fit_transform(x_train)\n",
        "x_test=scalar.transform(x_test)"
      ],
      "metadata": {
        "id": "h4nyAhZaAT3z"
      },
      "execution_count": null,
      "outputs": []
    },
    {
      "cell_type": "code",
      "source": [
        "x_train.shape"
      ],
      "metadata": {
        "id": "lhMDn9uTAXW-",
        "colab": {
          "base_uri": "https://localhost:8080/"
        },
        "outputId": "f7f10314-f7c6-4722-e189-2dfcd5edd7f8"
      },
      "execution_count": null,
      "outputs": [
        {
          "output_type": "execute_result",
          "data": {
            "text/plain": [
              "(16209, 17)"
            ]
          },
          "metadata": {},
          "execution_count": 17
        }
      ]
    },
    {
      "cell_type": "markdown",
      "source": [
        "**BASELINE MODEL Linear Regression Model**\n",
        "\n",
        "As discussed in a previous project, it's always crucial to start off a machine learning project by building a solid baseline model. The baseline model should be quick to build while still yielding non-trivial performance. A simple baseline model is created to validate with other model and provide some idea how well are we doing.\n"
      ],
      "metadata": {
        "id": "AotZLJEppHGf"
      }
    },
    {
      "cell_type": "code",
      "source": [
        "from sklearn.linear_model import LinearRegression"
      ],
      "metadata": {
        "id": "b0Vx57NCpOpZ"
      },
      "execution_count": null,
      "outputs": []
    },
    {
      "cell_type": "code",
      "source": [
        "lm=LinearRegression()\n",
        "lm.fit(x_train,y_train)\n"
      ],
      "metadata": {
        "colab": {
          "base_uri": "https://localhost:8080/"
        },
        "id": "dIF6BNjypSmK",
        "outputId": "4b18e382-b58d-4621-d187-ebf39f400aff"
      },
      "execution_count": null,
      "outputs": [
        {
          "output_type": "execute_result",
          "data": {
            "text/plain": [
              "LinearRegression()"
            ]
          },
          "metadata": {},
          "execution_count": 19
        }
      ]
    },
    {
      "cell_type": "code",
      "source": [
        "pred_lm = lm.predict(x_test)"
      ],
      "metadata": {
        "id": "t-7YUDGYpXhG"
      },
      "execution_count": null,
      "outputs": []
    },
    {
      "cell_type": "code",
      "source": [
        "# Our predictions\n",
        "plt.scatter(y_test,pred_lm)\n",
        "\n",
        "# Perfect predictions\n",
        "plt.plot(y_test,y_test,'r')"
      ],
      "metadata": {
        "colab": {
          "base_uri": "https://localhost:8080/",
          "height": 306
        },
        "id": "WSmeo6wupax8",
        "outputId": "8b53edee-27cc-415c-8086-ff4b4a4fdab3"
      },
      "execution_count": null,
      "outputs": [
        {
          "output_type": "execute_result",
          "data": {
            "text/plain": [
              "[<matplotlib.lines.Line2D at 0x7fcc7ca75650>]"
            ]
          },
          "metadata": {},
          "execution_count": 21
        },
        {
          "output_type": "display_data",
          "data": {
            "text/plain": [
              "<Figure size 432x288 with 1 Axes>"
            ],
            "image/png": "[encoded data removed]"
          },
          "metadata": {
            "needs_background": "light"
          }
        }
      ]
    },
    {
      "cell_type": "markdown",
      "source": [
        "## Model Evaluation.\n",
        "\n",
        "Evaluation of model is done through [mean absolute error](https://scikit-learn.org/stable/modules/generated/sklearn.metrics.mean_absolute_error.html), [root mean squared error](https://www.statisticshowto.com/probability-and-statistics/regression-analysis/rmse-root-mean-square-error/) and [Explained Variance score](https://scikit-learn.org/stable/modules/generated/sklearn.metrics.explained_variance_score.html)\n",
        "\n",
        "What metric will you use to verify the regression problem?\n",
        "\n",
        "What metric will you use to verify the classification problem?"
      ],
      "metadata": {
        "id": "tMx-0CfRpvJ7"
      }
    },
    {
      "cell_type": "code",
      "source": [
        "from sklearn.metrics import mean_absolute_error,mean_squared_error,explained_variance_score"
      ],
      "metadata": {
        "id": "YxNCU9A2p4km"
      },
      "execution_count": null,
      "outputs": []
    },
    {
      "cell_type": "code",
      "source": [
        "error_metrics=pd.DataFrame({'model':[],'mean absolute error':[],'root mean squared error':[],'Explained variance score':[]})"
      ],
      "metadata": {
        "id": "OR2Fs0kYp9Iy"
      },
      "execution_count": null,
      "outputs": []
    },
    {
      "cell_type": "code",
      "source": [
        "Linear_model =['Linear Regression',mean_absolute_error(y_test,pred_lm),np.sqrt(mean_squared_error(y_test,pred_lm)),explained_variance_score(y_test,pred_lm)]\n",
        "\n",
        "error_metrics.loc[0]= Linear_model\n",
        "\n",
        "error_metrics"
      ],
      "metadata": {
        "colab": {
          "base_uri": "https://localhost:8080/",
          "height": 81
        },
        "id": "HN9vvLlIpjLP",
        "outputId": "e23edce1-c82b-4f6c-9f8f-e54e51ca3132"
      },
      "execution_count": null,
      "outputs": [
        {
          "output_type": "execute_result",
          "data": {
            "text/plain": [
              "               model  mean absolute error  root mean squared error  \\\n",
              "0  Linear Regression        125390.881233            191960.309211   \n",
              "\n",
              "   Explained variance score  \n",
              "0                  0.696466  "
            ],
            "text/html": [
              "\n",
              "  <div id=\"df-1cb04cff-d7a0-41e0-b5f5-b2eeffbd5fb0\">\n",
              "    <div class=\"colab-df-container\">\n",
              "      <div>\n",
              "<style scoped>\n",
              "    .dataframe tbody tr th:only-of-type {\n",
              "        vertical-align: middle;\n",
              "    }\n",
              "\n",
              "    .dataframe tbody tr th {\n",
              "        vertical-align: top;\n",
              "    }\n",
              "\n",
              "    .dataframe thead th {\n",
              "        text-align: right;\n",
              "    }\n",
              "</style>\n",
              "<table border=\"1\" class=\"dataframe\">\n",
              "  <thead>\n",
              "    <tr style=\"text-align: right;\">\n",
              "      <th></th>\n",
              "      <th>model</th>\n",
              "      <th>mean absolute error</th>\n",
              "      <th>root mean squared error</th>\n",
              "      <th>Explained variance score</th>\n",
              "    </tr>\n",
              "  </thead>\n",
              "  <tbody>\n",
              "    <tr>\n",
              "      <th>0</th>\n",
              "      <td>Linear Regression</td>\n",
              "      <td>125390.881233</td>\n",
              "      <td>191960.309211</td>\n",
              "      <td>0.696466</td>\n",
              "    </tr>\n",
              "  </tbody>\n",
              "</table>\n",
              "</div>\n",
              "      <button class=\"colab-df-convert\" onclick=\"convertToInteractive('df-1cb04cff-d7a0-41e0-b5f5-b2eeffbd5fb0')\"\n",
              "              title=\"Convert this dataframe to an interactive table.\"\n",
              "              style=\"display:none;\">\n",
              "        \n",
              "  <svg xmlns=\"http://www.w3.org/2000/svg\" height=\"24px\"viewBox=\"0 0 24 24\"\n",
              "       width=\"24px\">\n",
              "    <path d=\"M0 0h24v24H0V0z\" fill=\"none\"/>\n",
              "    <path d=\"M18.56 5.44l.94 2.06.94-2.06 2.06-.94-2.06-.94-.94-2.06-.94 2.06-2.06.94zm-11 1L8.5 8.5l.94-2.06 2.06-.94-2.06-.94L8.5 2.5l-.94 2.06-2.06.94zm10 10l.94 2.06.94-2.06 2.06-.94-2.06-.94-.94-2.06-.94 2.06-2.06.94z\"/><path d=\"M17.41 7.96l-1.37-1.37c-.4-.4-.92-.59-1.43-.59-.52 0-1.04.2-1.43.59L10.3 9.45l-7.72 7.72c-.78.78-.78 2.05 0 2.83L4 21.41c.39.39.9.59 1.41.59.51 0 1.02-.2 1.41-.59l7.78-7.78 2.81-2.81c.8-.78.8-2.07 0-2.86zM5.41 20L4 18.59l7.72-7.72 1.47 1.35L5.41 20z\"/>\n",
              "  </svg>\n",
              "      </button>\n",
              "      \n",
              "  <style>\n",
              "    .colab-df-container {\n",
              "      display:flex;\n",
              "      flex-wrap:wrap;\n",
              "      gap: 12px;\n",
              "    }\n",
              "\n",
              "    .colab-df-convert {\n",
              "      background-color: #E8F0FE;\n",
              "      border: none;\n",
              "      border-radius: 50%;\n",
              "      cursor: pointer;\n",
              "      display: none;\n",
              "      fill: #1967D2;\n",
              "      height: 32px;\n",
              "      padding: 0 0 0 0;\n",
              "      width: 32px;\n",
              "    }\n",
              "\n",
              "    .colab-df-convert:hover {\n",
              "      background-color: #E2EBFA;\n",
              "      box-shadow: 0px 1px 2px rgba(60, 64, 67, 0.3), 0px 1px 3px 1px rgba(60, 64, 67, 0.15);\n",
              "      fill: #174EA6;\n",
              "    }\n",
              "\n",
              "    [theme=dark] .colab-df-convert {\n",
              "      background-color: #3B4455;\n",
              "      fill: #D2E3FC;\n",
              "    }\n",
              "\n",
              "    [theme=dark] .colab-df-convert:hover {\n",
              "      background-color: #434B5C;\n",
              "      box-shadow: 0px 1px 3px 1px rgba(0, 0, 0, 0.15);\n",
              "      filter: drop-shadow(0px 1px 2px rgba(0, 0, 0, 0.3));\n",
              "      fill: #FFFFFF;\n",
              "    }\n",
              "  </style>\n",
              "\n",
              "      <script>\n",
              "        const buttonEl =\n",
              "          document.querySelector('#df-1cb04cff-d7a0-41e0-b5f5-b2eeffbd5fb0 button.colab-df-convert');\n",
              "        buttonEl.style.display =\n",
              "          google.colab.kernel.accessAllowed ? 'block' : 'none';\n",
              "\n",
              "        async function convertToInteractive(key) {\n",
              "          const element = document.querySelector('#df-1cb04cff-d7a0-41e0-b5f5-b2eeffbd5fb0');\n",
              "          const dataTable =\n",
              "            await google.colab.kernel.invokeFunction('convertToInteractive',\n",
              "                                                     [key], {});\n",
              "          if (!dataTable) return;\n",
              "\n",
              "          const docLinkHtml = 'Like what you see? Visit the ' +\n",
              "            '<a target=\"_blank\" href=https://colab.research.google.com/notebooks/data_table.ipynb>data table notebook</a>'\n",
              "            + ' to learn more about interactive tables.';\n",
              "          element.innerHTML = '';\n",
              "          dataTable['output_type'] = 'display_data';\n",
              "          await google.colab.output.renderOutput(dataTable, element);\n",
              "          const docLink = document.createElement('div');\n",
              "          docLink.innerHTML = docLinkHtml;\n",
              "          element.appendChild(docLink);\n",
              "        }\n",
              "      </script>\n",
              "    </div>\n",
              "  </div>\n",
              "  "
            ]
          },
          "metadata": {},
          "execution_count": 24
        }
      ]
    },
    {
      "cell_type": "markdown",
      "source": [
        "# Exercise Set 1\n",
        "\n",
        "**Exercise:** Describe different components of neural network architecture and their function. \n",
        "\n",
        "[Neural network](https://https://www.analyticsvidhya.com/blog/2021/03/basics-of-neural-network/) is made up of vertically stacked components called **layers**. \n",
        "Neural consist of basic three layers:  \n",
        "\n",
        "*   Input Layer: First layer that accept data\n",
        "*   Hidden Layer: Consist of 1 or many.\n",
        "*   Output Layer: Last layer of network, which send output.\n",
        "\n",
        "\n",
        "Neural network works by adjusting of weight in the layer. The network iteratively adjusts weights and measures performance, continuing this procedure until the predictions are sufficiently accurate or another stopping criterion is reached. The accuracy of prediction are determined by **loss function**. The best set of weights is done by optimiser. The optimization method used is **stochastic gradient descent**"
      ],
      "metadata": {
        "id": "XUoiQPQs9Fo5"
      }
    },
    {
      "cell_type": "markdown",
      "source": [
        "\n",
        "Models in Keras are defined as a sequence of layers. We create a Sequential model and add layers one at a time until we are happy with our network architecture.\n",
        "\n",
        "The first thing to get right is to ensure the input layer has the correct number of input features. This can be specified when creating the first layer with the input_shape argument and setting it to (17,) for presenting the 17 input variables as a vector.\n",
        "\n",
        "`How do we know the number of layers?`\n",
        "\n",
        "There are heuristics that you can use, and often the best network structure is found through a process of trial and error experimentation. Generally, you need a network large enough to capture the structure of the problem.\n",
        "\n",
        "In this example, let’s use a fully-connected network structure with three layers. Fully connected layers are defined using the Dense class. You can specify the number of neurons or nodes in the layer as the first argument and the activation function using the activation argument.\n",
        "\n",
        "Also, you will use the rectified linear unit activation function referred to as ReLU on the first two layers.\n",
        "\n",
        "The Sequential API is a framework for creating models based on instances of the `sequential()` class. The model has one input variable, a hidden layer with two neurons, and an output layer with one output. Additional layers can be created and added to the model.\n",
        "\n",
        "`Explain how backpropagation works in neural network?`\n"
      ],
      "metadata": {
        "id": "_jUOQQPr4fN3"
      }
    },
    {
      "cell_type": "markdown",
      "source": [
        "Let's start building simple neural network with input layer, hidden layer and output layer."
      ],
      "metadata": {
        "id": "aOdY0CsX_SKv"
      }
    },
    {
      "cell_type": "markdown",
      "source": [
        "![image.png](data:image/png;base64,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)\n",
        "\n",
        "Reference: https://mtech-imaging-usa.com/building-neural-networks-with-tensorflow-net/"
      ],
      "metadata": {
        "id": "KGJFqvyfaXhS"
      }
    },
    {
      "cell_type": "code",
      "source": [
        "model=Sequential()\n",
        "model.add(Dense(19,activation=\"relu\"))\n",
        "model.add(Dense(19,activation=\"relu\"))\n",
        "model.add(Dense(1))\n",
        "model.compile(optimizer=\"adam\",loss=\"mse\")\n"
      ],
      "metadata": {
        "id": "1fFBJEgYOlyA"
      },
      "execution_count": null,
      "outputs": []
    },
    {
      "cell_type": "markdown",
      "source": [
        "We have our first layer as a dense layer with 19 neurons, ReLU activation and the input shape is 17 since we have 17 input features. Note that ‘Dense’ refers to a fully-connected layer, which is what we will be using. Our third layer is a dense layer with 1 neuron.\n",
        "An [activation function](https://machinelearningmastery.com/choose-an-activation-function-for-deep-learning/#:~:text=for%20Output%20Layers-,Activation%20Functions,a%20layer%20of%20the%20network.) defines how the weighted sum of the input is transformed into an output from a node or nodes in a layer of the network. There are different types of activation function:\n",
        "\n",
        "\n",
        "1.  Rectified Linear Activation (ReLU)\n",
        "2.  Logistic (Sigmoid)\n",
        "3.  Hyperbolic Tangent (Tanh)\n",
        "\n",
        "\n",
        "\n"
      ],
      "metadata": {
        "id": "FaIetyaFGRHM"
      }
    },
    {
      "cell_type": "code",
      "source": [
        "model.fit(x=x_train,y=y_train,\n",
        "          validation_data=(x_test,y_test),\n",
        "         batch_size=130,epochs=150,verbose=0)\n"
      ],
      "metadata": {
        "colab": {
          "base_uri": "https://localhost:8080/"
        },
        "id": "DoVkOfSZOrPO",
        "outputId": "8f485f25-0fc9-4106-d82f-c19bf0ec9dd9"
      },
      "execution_count": null,
      "outputs": [
        {
          "output_type": "execute_result",
          "data": {
            "text/plain": [
              "<keras.callbacks.History at 0x7fcc78c2c710>"
            ]
          },
          "metadata": {},
          "execution_count": 26
        }
      ]
    },
    {
      "cell_type": "code",
      "source": [
        "model.summary()"
      ],
      "metadata": {
        "colab": {
          "base_uri": "https://localhost:8080/"
        },
        "id": "o0xYpQm1kIMF",
        "outputId": "32a2c8ff-3b77-487f-dd39-f9addea9c5f4"
      },
      "execution_count": null,
      "outputs": [
        {
          "output_type": "stream",
          "name": "stdout",
          "text": [
            "Model: \"sequential\"\n",
            "_________________________________________________________________\n",
            " Layer (type)                Output Shape              Param #   \n",
            "=================================================================\n",
            " dense (Dense)               (None, 19)                342       \n",
            "                                                                 \n",
            " dense_1 (Dense)             (None, 19)                380       \n",
            "                                                                 \n",
            " dense_2 (Dense)             (None, 1)                 20        \n",
            "                                                                 \n",
            "=================================================================\n",
            "Total params: 742\n",
            "Trainable params: 742\n",
            "Non-trainable params: 0\n",
            "_________________________________________________________________\n"
          ]
        }
      ]
    },
    {
      "cell_type": "markdown",
      "source": [
        "What are trainable parameters and non-trainable parameters?\n"
      ],
      "metadata": {
        "id": "lFUUB5hbznfs"
      }
    },
    {
      "cell_type": "code",
      "source": [
        "y_pred=model.predict(x_test)"
      ],
      "metadata": {
        "id": "E8M2ZG3Kvhz4"
      },
      "execution_count": null,
      "outputs": []
    },
    {
      "cell_type": "code",
      "source": [
        "Neural_Net =['Simple Neural Net',mean_absolute_error(y_test,y_pred),np.sqrt(mean_squared_error(y_test,y_pred)),explained_variance_score(y_test,y_pred)]"
      ],
      "metadata": {
        "id": "ZC63-YycvE6R"
      },
      "execution_count": null,
      "outputs": []
    },
    {
      "cell_type": "code",
      "source": [
        "error_metrics.loc[1]= Neural_Net\n",
        "error_metrics"
      ],
      "metadata": {
        "colab": {
          "base_uri": "https://localhost:8080/",
          "height": 112
        },
        "id": "JAPuCg8fvVf6",
        "outputId": "94f47fe6-a363-46a3-fdd8-ef419c3515ef"
      },
      "execution_count": null,
      "outputs": [
        {
          "output_type": "execute_result",
          "data": {
            "text/plain": [
              "               model  mean absolute error  root mean squared error  \\\n",
              "0  Linear Regression        125390.881233            191960.309211   \n",
              "1  Simple Neural Net        136534.690159            200651.346772   \n",
              "\n",
              "   Explained variance score  \n",
              "0                  0.696466  \n",
              "1                  0.669642  "
            ],
            "text/html": [
              "\n",
              "  <div id=\"df-530ae92d-edbb-4808-be0f-48a89f2f0119\">\n",
              "    <div class=\"colab-df-container\">\n",
              "      <div>\n",
              "<style scoped>\n",
              "    .dataframe tbody tr th:only-of-type {\n",
              "        vertical-align: middle;\n",
              "    }\n",
              "\n",
              "    .dataframe tbody tr th {\n",
              "        vertical-align: top;\n",
              "    }\n",
              "\n",
              "    .dataframe thead th {\n",
              "        text-align: right;\n",
              "    }\n",
              "</style>\n",
              "<table border=\"1\" class=\"dataframe\">\n",
              "  <thead>\n",
              "    <tr style=\"text-align: right;\">\n",
              "      <th></th>\n",
              "      <th>model</th>\n",
              "      <th>mean absolute error</th>\n",
              "      <th>root mean squared error</th>\n",
              "      <th>Explained variance score</th>\n",
              "    </tr>\n",
              "  </thead>\n",
              "  <tbody>\n",
              "    <tr>\n",
              "      <th>0</th>\n",
              "      <td>Linear Regression</td>\n",
              "      <td>125390.881233</td>\n",
              "      <td>191960.309211</td>\n",
              "      <td>0.696466</td>\n",
              "    </tr>\n",
              "    <tr>\n",
              "      <th>1</th>\n",
              "      <td>Simple Neural Net</td>\n",
              "      <td>136534.690159</td>\n",
              "      <td>200651.346772</td>\n",
              "      <td>0.669642</td>\n",
              "    </tr>\n",
              "  </tbody>\n",
              "</table>\n",
              "</div>\n",
              "      <button class=\"colab-df-convert\" onclick=\"convertToInteractive('df-530ae92d-edbb-4808-be0f-48a89f2f0119')\"\n",
              "              title=\"Convert this dataframe to an interactive table.\"\n",
              "              style=\"display:none;\">\n",
              "        \n",
              "  <svg xmlns=\"http://www.w3.org/2000/svg\" height=\"24px\"viewBox=\"0 0 24 24\"\n",
              "       width=\"24px\">\n",
              "    <path d=\"M0 0h24v24H0V0z\" fill=\"none\"/>\n",
              "    <path d=\"M18.56 5.44l.94 2.06.94-2.06 2.06-.94-2.06-.94-.94-2.06-.94 2.06-2.06.94zm-11 1L8.5 8.5l.94-2.06 2.06-.94-2.06-.94L8.5 2.5l-.94 2.06-2.06.94zm10 10l.94 2.06.94-2.06 2.06-.94-2.06-.94-.94-2.06-.94 2.06-2.06.94z\"/><path d=\"M17.41 7.96l-1.37-1.37c-.4-.4-.92-.59-1.43-.59-.52 0-1.04.2-1.43.59L10.3 9.45l-7.72 7.72c-.78.78-.78 2.05 0 2.83L4 21.41c.39.39.9.59 1.41.59.51 0 1.02-.2 1.41-.59l7.78-7.78 2.81-2.81c.8-.78.8-2.07 0-2.86zM5.41 20L4 18.59l7.72-7.72 1.47 1.35L5.41 20z\"/>\n",
              "  </svg>\n",
              "      </button>\n",
              "      \n",
              "  <style>\n",
              "    .colab-df-container {\n",
              "      display:flex;\n",
              "      flex-wrap:wrap;\n",
              "      gap: 12px;\n",
              "    }\n",
              "\n",
              "    .colab-df-convert {\n",
              "      background-color: #E8F0FE;\n",
              "      border: none;\n",
              "      border-radius: 50%;\n",
              "      cursor: pointer;\n",
              "      display: none;\n",
              "      fill: #1967D2;\n",
              "      height: 32px;\n",
              "      padding: 0 0 0 0;\n",
              "      width: 32px;\n",
              "    }\n",
              "\n",
              "    .colab-df-convert:hover {\n",
              "      background-color: #E2EBFA;\n",
              "      box-shadow: 0px 1px 2px rgba(60, 64, 67, 0.3), 0px 1px 3px 1px rgba(60, 64, 67, 0.15);\n",
              "      fill: #174EA6;\n",
              "    }\n",
              "\n",
              "    [theme=dark] .colab-df-convert {\n",
              "      background-color: #3B4455;\n",
              "      fill: #D2E3FC;\n",
              "    }\n",
              "\n",
              "    [theme=dark] .colab-df-convert:hover {\n",
              "      background-color: #434B5C;\n",
              "      box-shadow: 0px 1px 3px 1px rgba(0, 0, 0, 0.15);\n",
              "      filter: drop-shadow(0px 1px 2px rgba(0, 0, 0, 0.3));\n",
              "      fill: #FFFFFF;\n",
              "    }\n",
              "  </style>\n",
              "\n",
              "      <script>\n",
              "        const buttonEl =\n",
              "          document.querySelector('#df-530ae92d-edbb-4808-be0f-48a89f2f0119 button.colab-df-convert');\n",
              "        buttonEl.style.display =\n",
              "          google.colab.kernel.accessAllowed ? 'block' : 'none';\n",
              "\n",
              "        async function convertToInteractive(key) {\n",
              "          const element = document.querySelector('#df-530ae92d-edbb-4808-be0f-48a89f2f0119');\n",
              "          const dataTable =\n",
              "            await google.colab.kernel.invokeFunction('convertToInteractive',\n",
              "                                                     [key], {});\n",
              "          if (!dataTable) return;\n",
              "\n",
              "          const docLinkHtml = 'Like what you see? Visit the ' +\n",
              "            '<a target=\"_blank\" href=https://colab.research.google.com/notebooks/data_table.ipynb>data table notebook</a>'\n",
              "            + ' to learn more about interactive tables.';\n",
              "          element.innerHTML = '';\n",
              "          dataTable['output_type'] = 'display_data';\n",
              "          await google.colab.output.renderOutput(dataTable, element);\n",
              "          const docLink = document.createElement('div');\n",
              "          docLink.innerHTML = docLinkHtml;\n",
              "          element.appendChild(docLink);\n",
              "        }\n",
              "      </script>\n",
              "    </div>\n",
              "  </div>\n",
              "  "
            ]
          },
          "metadata": {},
          "execution_count": 30
        }
      ]
    },
    {
      "cell_type": "markdown",
      "source": [
        "# **Vanishing Gradient Problem**\n",
        "To understand Vanishing gradient problem, we need to know what is [backpropagation and gradient learning](https://https://medium.com/@cpittapa/backpropagation-and-gradient-descent-369e33fb7466).\n",
        "\n",
        "During backpropagation gradients becomes so small that there are no updates to weights in some of the initial layers. The neural network’s initial layers becomes useless as they do not learn anything and the performance of the network becomes stagnant or bad. This is what we call [Vanishing Gradient Problem.](https://machinelearningmastery.com/how-to-fix-vanishing-gradients-using-the-rectified-linear-activation-function/)\n",
        "\n",
        "\n",
        "\n",
        "\n",
        "\n",
        "*How can we solve the [Vanishing Gradients problem](https://https://www.analyticsvidhya.com/blog/2021/06/the-challenge-of-vanishing-exploding-gradients-in-deep-neural-networks/)?*\n",
        "\n",
        "\n",
        "*   Weight Initialization\n",
        "*   Non-saturating Activation Functions\n",
        "*   Batch Normalization\n",
        "*   Gradient Clipping\n",
        "\n"
      ],
      "metadata": {
        "id": "ANL1oLR3tH4R"
      }
    },
    {
      "cell_type": "markdown",
      "source": [
        "# Gradient Descent in Neural Network\n",
        "Excerise:\n",
        "1.   Explain how gradient descent works\n",
        "2.   Explain differences between gradient descent algorithms (e.g AdaGrad, RMSProp, Adam)\n",
        "\n",
        "\n",
        "\n",
        "The main goal of neural network algorithms is to minimize the difference between the predicted target value and the actual target value. This is also called Loss function or Cost function. We can minimize the loss function by finding the optimized value for weight and bias parameters. An algorithm which optimize the loss function is called an optimization algorithm. There are various optimization algorithm which are listed below:\n",
        "\n",
        "*   RMSprop\n",
        "*   Adagrad\n",
        "*   Adadelta\n",
        "*   Adam\n",
        "*   Adamax\n",
        "*   Stochastic Gradient Descent (SGD)\n",
        "\n",
        "For more details about different optimization algorithm read through [source1](https://studymachinelearning.com/optimization-algorithms-in-neural-network/), [source 2](https://towardsdatascience.com/optimizers-for-training-neural-network-59450d71caf6) \n",
        "\n",
        "\n",
        " \n"
      ],
      "metadata": {
        "id": "7odpWOJRigcb"
      }
    },
    {
      "cell_type": "code",
      "source": [
        "def build_model(optimizer):\n",
        "  model=Sequential()\n",
        "  model.add(Dense(19,activation=\"relu\"))\n",
        "  model.add(Dense(19,activation=\"relu\"))\n",
        "  model.add(Dense(19,activation=\"relu\"))\n",
        "  model.add(Dense(1))\n",
        "  model.compile(optimizer=optimizer,loss=\"mse\")\n",
        "  return model"
      ],
      "metadata": {
        "id": "gP3MBSgGdlTP"
      },
      "execution_count": null,
      "outputs": []
    },
    {
      "cell_type": "markdown",
      "source": [
        "Define different optimizers and verify the which one is better."
      ],
      "metadata": {
        "id": "yLMvSSqC1sbH"
      }
    },
    {
      "cell_type": "code",
      "source": [
        "optimizers = ['Adagrad','Adadelta', 'Adam', 'RMSprop']\n",
        "optimizer_data = pd.DataFrame()\n",
        "for i in optimizers:\n",
        "  model = build_model(i)\n",
        "  hist=model.fit(x_train, y_train, batch_size=120, epochs=50, verbose=0, validation_data=(x_test,y_test))\n",
        "  optimizer_data[i]=hist.history['val_loss']\n",
        "         "
      ],
      "metadata": {
        "id": "M80V-rKvdXeU"
      },
      "execution_count": null,
      "outputs": []
    },
    {
      "cell_type": "code",
      "source": [
        "optimizer_data.plot()"
      ],
      "metadata": {
        "colab": {
          "base_uri": "https://localhost:8080/",
          "height": 293
        },
        "id": "7fBYacU967Fp",
        "outputId": "00066892-ad6e-4d85-a479-d07047f95e34"
      },
      "execution_count": null,
      "outputs": [
        {
          "output_type": "execute_result",
          "data": {
            "text/plain": [
              "<matplotlib.axes._subplots.AxesSubplot at 0x7fcc78b7bf10>"
            ]
          },
          "metadata": {},
          "execution_count": 33
        },
        {
          "output_type": "display_data",
          "data": {
            "text/plain": [
              "<Figure size 432x288 with 1 Axes>"
            ],
            "image/png": "[encoded data removed]"
          },
          "metadata": {
            "needs_background": "light"
          }
        }
      ]
    },
    {
      "cell_type": "markdown",
      "source": [
        "In above example we have seen how an optimization algorithms can affect the deep learning model in terms of accuracy, speed, and efficiency. We learned about various algorithms, and hopefully, we were able to compare the algorithms from one another. \n",
        "\n",
        "Adam is the best optimizers. If one wants to train the neural network in less time and more efficiently than Adam is the optimizer. It is widely used optimizer as well. \n",
        "\n",
        "\n"
      ],
      "metadata": {
        "id": "wKeLKZDziemG"
      }
    },
    {
      "cell_type": "markdown",
      "source": [
        "## Deeper Neural Network\n",
        "\n",
        "Diving into bit deeper network with more hidden layer to verify the accuracy of the model"
      ],
      "metadata": {
        "id": "4PZUGWlutZak"
      }
    },
    {
      "cell_type": "code",
      "source": [
        "model=Sequential()\n",
        "model.add(Dense(19,activation=\"relu\"))\n",
        "model.add(Dense(50,activation=\"relu\"))\n",
        "model.add(Dense(50,activation=\"relu\"))\n",
        "model.add(Dense(50,activation=\"relu\"))\n",
        "model.add(Dense(50,activation=\"relu\"))\n",
        "model.add(Dense(50,activation=\"relu\"))\n",
        "model.add(Dense(1))\n",
        "model.compile(optimizer='adam',loss=\"mse\")"
      ],
      "metadata": {
        "id": "fa9-f9HRq_PH"
      },
      "execution_count": null,
      "outputs": []
    },
    {
      "cell_type": "markdown",
      "source": [
        "Training with high epoch is time consuming and can result in overfitting. Keras provide callback function( [early_stopping](https://https://machinelearningmastery.com/how-to-stop-training-deep-neural-networks-at-the-right-time-using-early-stopping/)) that allows you to specify the performance measure to monitor, the trigger, and once triggered, it will stop the training process. "
      ],
      "metadata": {
        "id": "kOdGvsMQwweS"
      }
    },
    {
      "cell_type": "code",
      "source": [
        "# Train the model\n",
        "early_stopping = EarlyStopping(patience=10)\n",
        "model.fit(x=x_train,y=y_train,\n",
        "          validation_data=(x_test,y_test),\n",
        "         batch_size=130,epochs=550,verbose=1,validation_split=0.2, callbacks=[early_stopping])"
      ],
      "metadata": {
        "colab": {
          "base_uri": "https://localhost:8080/"
        },
        "id": "CCzRTRb6Acdd",
        "outputId": "4df8b522-9cb1-42e1-d59d-1f885c0f7664"
      },
      "execution_count": null,
      "outputs": [
        {
          "output_type": "stream",
          "name": "stdout",
          "text": [
            "Epoch 1/550\n",
            "100/100 [==============================] - 1s 4ms/step - loss: 434799149056.0000 - val_loss: 390131646464.0000\n",
            "Epoch 2/550\n",
            "100/100 [==============================] - 0s 3ms/step - loss: 176266543104.0000 - val_loss: 52978356224.0000\n",
            "Epoch 3/550\n",
            "100/100 [==============================] - 0s 3ms/step - loss: 52646342656.0000 - val_loss: 43712245760.0000\n",
            "Epoch 4/550\n",
            "100/100 [==============================] - 0s 3ms/step - loss: 46387118080.0000 - val_loss: 39464472576.0000\n",
            "Epoch 5/550\n",
            "100/100 [==============================] - 0s 3ms/step - loss: 43028647936.0000 - val_loss: 37178691584.0000\n",
            "Epoch 6/550\n",
            "100/100 [==============================] - 0s 3ms/step - loss: 40851501056.0000 - val_loss: 35663679488.0000\n",
            "Epoch 7/550\n",
            "100/100 [==============================] - 0s 3ms/step - loss: 39538954240.0000 - val_loss: 34565169152.0000\n",
            "Epoch 8/550\n",
            "100/100 [==============================] - 0s 3ms/step - loss: 38633000960.0000 - val_loss: 33798406144.0000\n",
            "Epoch 9/550\n",
            "100/100 [==============================] - 0s 3ms/step - loss: 37937131520.0000 - val_loss: 33451606016.0000\n",
            "Epoch 10/550\n",
            "100/100 [==============================] - 0s 3ms/step - loss: 37723377664.0000 - val_loss: 33182240768.0000\n",
            "Epoch 11/550\n",
            "100/100 [==============================] - 0s 3ms/step - loss: 37217792000.0000 - val_loss: 32653117440.0000\n",
            "Epoch 12/550\n",
            "100/100 [==============================] - 0s 3ms/step - loss: 36871061504.0000 - val_loss: 33549629440.0000\n",
            "Epoch 13/550\n",
            "100/100 [==============================] - 0s 3ms/step - loss: 36914171904.0000 - val_loss: 32410376192.0000\n",
            "Epoch 14/550\n",
            "100/100 [==============================] - 0s 3ms/step - loss: 36220731392.0000 - val_loss: 31786362880.0000\n",
            "Epoch 15/550\n",
            "100/100 [==============================] - 0s 3ms/step - loss: 36186284032.0000 - val_loss: 31613366272.0000\n",
            "Epoch 16/550\n",
            "100/100 [==============================] - 0s 3ms/step - loss: 35975532544.0000 - val_loss: 31913207808.0000\n",
            "Epoch 17/550\n",
            "100/100 [==============================] - 0s 3ms/step - loss: 35688996864.0000 - val_loss: 31153289216.0000\n",
            "Epoch 18/550\n",
            "100/100 [==============================] - 0s 3ms/step - loss: 35410079744.0000 - val_loss: 31031386112.0000\n",
            "Epoch 19/550\n",
            "100/100 [==============================] - 0s 3ms/step - loss: 35194884096.0000 - val_loss: 30877558784.0000\n",
            "Epoch 20/550\n",
            "100/100 [==============================] - 0s 3ms/step - loss: 35384590336.0000 - val_loss: 30713165824.0000\n",
            "Epoch 21/550\n",
            "100/100 [==============================] - 0s 3ms/step - loss: 35171119104.0000 - val_loss: 30635556864.0000\n",
            "Epoch 22/550\n",
            "100/100 [==============================] - 0s 3ms/step - loss: 34809417728.0000 - val_loss: 30464497664.0000\n",
            "Epoch 23/550\n",
            "100/100 [==============================] - 0s 3ms/step - loss: 34926632960.0000 - val_loss: 30282106880.0000\n",
            "Epoch 24/550\n",
            "100/100 [==============================] - 0s 3ms/step - loss: 34607136768.0000 - val_loss: 30246492160.0000\n",
            "Epoch 25/550\n",
            "100/100 [==============================] - 0s 3ms/step - loss: 34536734720.0000 - val_loss: 30244696064.0000\n",
            "Epoch 26/550\n",
            "100/100 [==============================] - 0s 3ms/step - loss: 34437332992.0000 - val_loss: 30056212480.0000\n",
            "Epoch 27/550\n",
            "100/100 [==============================] - 0s 3ms/step - loss: 34183163904.0000 - val_loss: 29838290944.0000\n",
            "Epoch 28/550\n",
            "100/100 [==============================] - 0s 3ms/step - loss: 34522423296.0000 - val_loss: 29678215168.0000\n",
            "Epoch 29/550\n",
            "100/100 [==============================] - 0s 3ms/step - loss: 34113005568.0000 - val_loss: 29671657472.0000\n",
            "Epoch 30/550\n",
            "100/100 [==============================] - 0s 3ms/step - loss: 33776568320.0000 - val_loss: 30045362176.0000\n",
            "Epoch 31/550\n",
            "100/100 [==============================] - 0s 3ms/step - loss: 34026168320.0000 - val_loss: 29420529664.0000\n",
            "Epoch 32/550\n",
            "100/100 [==============================] - 0s 3ms/step - loss: 33709150208.0000 - val_loss: 29701376000.0000\n",
            "Epoch 33/550\n",
            "100/100 [==============================] - 0s 3ms/step - loss: 33745555456.0000 - val_loss: 29268453376.0000\n",
            "Epoch 34/550\n",
            "100/100 [==============================] - 0s 3ms/step - loss: 33757018112.0000 - val_loss: 29330751488.0000\n",
            "Epoch 35/550\n",
            "100/100 [==============================] - 0s 3ms/step - loss: 33379856384.0000 - val_loss: 29211346944.0000\n",
            "Epoch 36/550\n",
            "100/100 [==============================] - 0s 3ms/step - loss: 33273227264.0000 - val_loss: 29221326848.0000\n",
            "Epoch 37/550\n",
            "100/100 [==============================] - 0s 3ms/step - loss: 33265414144.0000 - val_loss: 28940873728.0000\n",
            "Epoch 38/550\n",
            "100/100 [==============================] - 0s 3ms/step - loss: 33219051520.0000 - val_loss: 29478537216.0000\n",
            "Epoch 39/550\n",
            "100/100 [==============================] - 0s 3ms/step - loss: 33322002432.0000 - val_loss: 29593268224.0000\n",
            "Epoch 40/550\n",
            "100/100 [==============================] - 0s 3ms/step - loss: 33171095552.0000 - val_loss: 28778280960.0000\n",
            "Epoch 41/550\n",
            "100/100 [==============================] - 0s 3ms/step - loss: 33009350656.0000 - val_loss: 29557131264.0000\n",
            "Epoch 42/550\n",
            "100/100 [==============================] - 0s 3ms/step - loss: 33176299520.0000 - val_loss: 29350375424.0000\n",
            "Epoch 43/550\n",
            "100/100 [==============================] - 0s 3ms/step - loss: 32925640704.0000 - val_loss: 28839456768.0000\n",
            "Epoch 44/550\n",
            "100/100 [==============================] - 0s 3ms/step - loss: 32740925440.0000 - val_loss: 28785125376.0000\n",
            "Epoch 45/550\n",
            "100/100 [==============================] - 0s 3ms/step - loss: 32691740672.0000 - val_loss: 28562995200.0000\n",
            "Epoch 46/550\n",
            "100/100 [==============================] - 0s 3ms/step - loss: 32637757440.0000 - val_loss: 28506257408.0000\n",
            "Epoch 47/550\n",
            "100/100 [==============================] - 0s 3ms/step - loss: 32493492224.0000 - val_loss: 28389408768.0000\n",
            "Epoch 48/550\n",
            "100/100 [==============================] - 0s 3ms/step - loss: 32694632448.0000 - val_loss: 28490424320.0000\n",
            "Epoch 49/550\n",
            "100/100 [==============================] - 0s 3ms/step - loss: 32576593920.0000 - val_loss: 28302350336.0000\n",
            "Epoch 50/550\n",
            "100/100 [==============================] - 0s 3ms/step - loss: 32484124672.0000 - val_loss: 29092691968.0000\n",
            "Epoch 51/550\n",
            "100/100 [==============================] - 0s 3ms/step - loss: 32285302784.0000 - val_loss: 28241758208.0000\n",
            "Epoch 52/550\n",
            "100/100 [==============================] - 0s 3ms/step - loss: 32094939136.0000 - val_loss: 28320423936.0000\n",
            "Epoch 53/550\n",
            "100/100 [==============================] - 0s 3ms/step - loss: 32144859136.0000 - val_loss: 28242882560.0000\n",
            "Epoch 54/550\n",
            "100/100 [==============================] - 0s 3ms/step - loss: 32251670528.0000 - val_loss: 28080818176.0000\n",
            "Epoch 55/550\n",
            "100/100 [==============================] - 0s 3ms/step - loss: 32172068864.0000 - val_loss: 28035002368.0000\n",
            "Epoch 56/550\n",
            "100/100 [==============================] - 0s 3ms/step - loss: 31895977984.0000 - val_loss: 27985420288.0000\n",
            "Epoch 57/550\n",
            "100/100 [==============================] - 0s 3ms/step - loss: 31856150528.0000 - val_loss: 27953545216.0000\n",
            "Epoch 58/550\n",
            "100/100 [==============================] - 0s 3ms/step - loss: 31743737856.0000 - val_loss: 29222787072.0000\n",
            "Epoch 59/550\n",
            "100/100 [==============================] - 0s 3ms/step - loss: 32029161472.0000 - val_loss: 28000567296.0000\n",
            "Epoch 60/550\n",
            "100/100 [==============================] - 0s 3ms/step - loss: 31923351552.0000 - val_loss: 28130674688.0000\n",
            "Epoch 61/550\n",
            "100/100 [==============================] - 0s 3ms/step - loss: 31663126528.0000 - val_loss: 27975696384.0000\n",
            "Epoch 62/550\n",
            "100/100 [==============================] - 0s 3ms/step - loss: 31837392896.0000 - val_loss: 27959242752.0000\n",
            "Epoch 63/550\n",
            "100/100 [==============================] - 0s 3ms/step - loss: 31608381440.0000 - val_loss: 27782578176.0000\n",
            "Epoch 64/550\n",
            "100/100 [==============================] - 0s 3ms/step - loss: 31711424512.0000 - val_loss: 27909732352.0000\n",
            "Epoch 65/550\n",
            "100/100 [==============================] - 0s 3ms/step - loss: 31489898496.0000 - val_loss: 27860443136.0000\n",
            "Epoch 66/550\n",
            "100/100 [==============================] - 0s 3ms/step - loss: 31509274624.0000 - val_loss: 27659655168.0000\n",
            "Epoch 67/550\n",
            "100/100 [==============================] - 0s 3ms/step - loss: 31420360704.0000 - val_loss: 27703322624.0000\n",
            "Epoch 68/550\n",
            "100/100 [==============================] - 0s 3ms/step - loss: 31361990656.0000 - val_loss: 27562842112.0000\n",
            "Epoch 69/550\n",
            "100/100 [==============================] - 0s 3ms/step - loss: 31459723264.0000 - val_loss: 27581931520.0000\n",
            "Epoch 70/550\n",
            "100/100 [==============================] - 0s 3ms/step - loss: 31207985152.0000 - val_loss: 27783626752.0000\n",
            "Epoch 71/550\n",
            "100/100 [==============================] - 0s 3ms/step - loss: 31197579264.0000 - val_loss: 27585116160.0000\n",
            "Epoch 72/550\n",
            "100/100 [==============================] - 0s 3ms/step - loss: 31094654976.0000 - val_loss: 27787497472.0000\n",
            "Epoch 73/550\n",
            "100/100 [==============================] - 0s 3ms/step - loss: 31141380096.0000 - val_loss: 28270422016.0000\n",
            "Epoch 74/550\n",
            "100/100 [==============================] - 0s 3ms/step - loss: 30977071104.0000 - val_loss: 27830081536.0000\n",
            "Epoch 75/550\n",
            "100/100 [==============================] - 0s 3ms/step - loss: 31117811712.0000 - val_loss: 27546294272.0000\n",
            "Epoch 76/550\n",
            "100/100 [==============================] - 0s 3ms/step - loss: 30905976832.0000 - val_loss: 28229062656.0000\n",
            "Epoch 77/550\n",
            "100/100 [==============================] - 0s 3ms/step - loss: 31254267904.0000 - val_loss: 27243513856.0000\n",
            "Epoch 78/550\n",
            "100/100 [==============================] - 0s 3ms/step - loss: 31100241920.0000 - val_loss: 27813560320.0000\n",
            "Epoch 79/550\n",
            "100/100 [==============================] - 0s 3ms/step - loss: 31003133952.0000 - val_loss: 27461904384.0000\n",
            "Epoch 80/550\n",
            "100/100 [==============================] - 0s 3ms/step - loss: 30909790208.0000 - val_loss: 28458428416.0000\n",
            "Epoch 81/550\n",
            "100/100 [==============================] - 0s 3ms/step - loss: 31237140480.0000 - val_loss: 27314497536.0000\n",
            "Epoch 82/550\n",
            "100/100 [==============================] - 0s 3ms/step - loss: 30741614592.0000 - val_loss: 27222820864.0000\n",
            "Epoch 83/550\n",
            "100/100 [==============================] - 0s 3ms/step - loss: 30965174272.0000 - val_loss: 27132815360.0000\n",
            "Epoch 84/550\n",
            "100/100 [==============================] - 0s 3ms/step - loss: 30758246400.0000 - val_loss: 27197014016.0000\n",
            "Epoch 85/550\n",
            "100/100 [==============================] - 0s 3ms/step - loss: 30800676864.0000 - val_loss: 27082971136.0000\n",
            "Epoch 86/550\n",
            "100/100 [==============================] - 0s 3ms/step - loss: 30565855232.0000 - val_loss: 27012032512.0000\n",
            "Epoch 87/550\n",
            "100/100 [==============================] - 0s 3ms/step - loss: 30705768448.0000 - val_loss: 27045511168.0000\n",
            "Epoch 88/550\n",
            "100/100 [==============================] - 0s 3ms/step - loss: 30569455616.0000 - val_loss: 27485454336.0000\n",
            "Epoch 89/550\n",
            "100/100 [==============================] - 0s 3ms/step - loss: 30624874496.0000 - val_loss: 27307204608.0000\n",
            "Epoch 90/550\n",
            "100/100 [==============================] - 0s 3ms/step - loss: 30505197568.0000 - val_loss: 27000129536.0000\n",
            "Epoch 91/550\n",
            "100/100 [==============================] - 0s 3ms/step - loss: 30404122624.0000 - val_loss: 26908465152.0000\n",
            "Epoch 92/550\n",
            "100/100 [==============================] - 0s 3ms/step - loss: 30415706112.0000 - val_loss: 26933268480.0000\n",
            "Epoch 93/550\n",
            "100/100 [==============================] - 0s 3ms/step - loss: 30283427840.0000 - val_loss: 26885482496.0000\n",
            "Epoch 94/550\n",
            "100/100 [==============================] - 0s 3ms/step - loss: 30299635712.0000 - val_loss: 26882334720.0000\n",
            "Epoch 95/550\n",
            "100/100 [==============================] - 0s 3ms/step - loss: 30151346176.0000 - val_loss: 27781349376.0000\n",
            "Epoch 96/550\n",
            "100/100 [==============================] - 0s 3ms/step - loss: 30318700544.0000 - val_loss: 26925516800.0000\n",
            "Epoch 97/550\n",
            "100/100 [==============================] - 0s 3ms/step - loss: 30260119552.0000 - val_loss: 26787794944.0000\n",
            "Epoch 98/550\n",
            "100/100 [==============================] - 0s 3ms/step - loss: 30034503680.0000 - val_loss: 26786523136.0000\n",
            "Epoch 99/550\n",
            "100/100 [==============================] - 0s 3ms/step - loss: 30054660096.0000 - val_loss: 26805764096.0000\n",
            "Epoch 100/550\n",
            "100/100 [==============================] - 0s 3ms/step - loss: 30101387264.0000 - val_loss: 26726359040.0000\n",
            "Epoch 101/550\n",
            "100/100 [==============================] - 0s 3ms/step - loss: 29978632192.0000 - val_loss: 27464923136.0000\n",
            "Epoch 102/550\n",
            "100/100 [==============================] - 0s 3ms/step - loss: 30147391488.0000 - val_loss: 27201394688.0000\n",
            "Epoch 103/550\n",
            "100/100 [==============================] - 0s 3ms/step - loss: 29849204736.0000 - val_loss: 26635722752.0000\n",
            "Epoch 104/550\n",
            "100/100 [==============================] - 0s 3ms/step - loss: 29946763264.0000 - val_loss: 26607296512.0000\n",
            "Epoch 105/550\n",
            "100/100 [==============================] - 0s 3ms/step - loss: 29942345728.0000 - val_loss: 26654447616.0000\n",
            "Epoch 106/550\n",
            "100/100 [==============================] - 0s 3ms/step - loss: 29715986432.0000 - val_loss: 27040557056.0000\n",
            "Epoch 107/550\n",
            "100/100 [==============================] - 0s 3ms/step - loss: 29862088704.0000 - val_loss: 26669709312.0000\n",
            "Epoch 108/550\n",
            "100/100 [==============================] - 0s 3ms/step - loss: 29657931776.0000 - val_loss: 26779832320.0000\n",
            "Epoch 109/550\n",
            "100/100 [==============================] - 0s 3ms/step - loss: 29674313728.0000 - val_loss: 26672091136.0000\n",
            "Epoch 110/550\n",
            "100/100 [==============================] - 0s 3ms/step - loss: 29711157248.0000 - val_loss: 26597281792.0000\n",
            "Epoch 111/550\n",
            "100/100 [==============================] - 0s 3ms/step - loss: 29654204416.0000 - val_loss: 27251245056.0000\n",
            "Epoch 112/550\n",
            "100/100 [==============================] - 0s 3ms/step - loss: 30123368448.0000 - val_loss: 26933096448.0000\n",
            "Epoch 113/550\n",
            "100/100 [==============================] - 0s 3ms/step - loss: 29684779008.0000 - val_loss: 26451013632.0000\n",
            "Epoch 114/550\n",
            "100/100 [==============================] - 0s 3ms/step - loss: 29729382400.0000 - val_loss: 26628902912.0000\n",
            "Epoch 115/550\n",
            "100/100 [==============================] - 0s 3ms/step - loss: 29640441856.0000 - val_loss: 26484000768.0000\n",
            "Epoch 116/550\n",
            "100/100 [==============================] - 0s 3ms/step - loss: 29546991616.0000 - val_loss: 28094115840.0000\n",
            "Epoch 117/550\n",
            "100/100 [==============================] - 0s 3ms/step - loss: 29631643648.0000 - val_loss: 26754617344.0000\n",
            "Epoch 118/550\n",
            "100/100 [==============================] - 0s 3ms/step - loss: 29479606272.0000 - val_loss: 26715918336.0000\n",
            "Epoch 119/550\n",
            "100/100 [==============================] - 0s 3ms/step - loss: 29388838912.0000 - val_loss: 26338459648.0000\n",
            "Epoch 120/550\n",
            "100/100 [==============================] - 0s 3ms/step - loss: 29299826688.0000 - val_loss: 26788478976.0000\n",
            "Epoch 121/550\n",
            "100/100 [==============================] - 0s 3ms/step - loss: 29324341248.0000 - val_loss: 26636464128.0000\n",
            "Epoch 122/550\n",
            "100/100 [==============================] - 0s 3ms/step - loss: 29170792448.0000 - val_loss: 26339567616.0000\n",
            "Epoch 123/550\n",
            "100/100 [==============================] - 0s 3ms/step - loss: 29164361728.0000 - val_loss: 26449563648.0000\n",
            "Epoch 124/550\n",
            "100/100 [==============================] - 0s 3ms/step - loss: 29425815552.0000 - val_loss: 26455496704.0000\n",
            "Epoch 125/550\n",
            "100/100 [==============================] - 0s 3ms/step - loss: 29258151936.0000 - val_loss: 26325151744.0000\n",
            "Epoch 126/550\n",
            "100/100 [==============================] - 0s 3ms/step - loss: 29272522752.0000 - val_loss: 26441490432.0000\n",
            "Epoch 127/550\n",
            "100/100 [==============================] - 0s 3ms/step - loss: 29153044480.0000 - val_loss: 26507724800.0000\n",
            "Epoch 128/550\n",
            "100/100 [==============================] - 0s 3ms/step - loss: 29052420096.0000 - val_loss: 26501511168.0000\n",
            "Epoch 129/550\n",
            "100/100 [==============================] - 0s 3ms/step - loss: 29179009024.0000 - val_loss: 26377539584.0000\n",
            "Epoch 130/550\n",
            "100/100 [==============================] - 0s 3ms/step - loss: 29055528960.0000 - val_loss: 26257760256.0000\n",
            "Epoch 131/550\n",
            "100/100 [==============================] - 0s 3ms/step - loss: 29088657408.0000 - val_loss: 26219802624.0000\n",
            "Epoch 132/550\n",
            "100/100 [==============================] - 0s 3ms/step - loss: 29082836992.0000 - val_loss: 26526199808.0000\n",
            "Epoch 133/550\n",
            "100/100 [==============================] - 0s 3ms/step - loss: 28828618752.0000 - val_loss: 26376595456.0000\n",
            "Epoch 134/550\n",
            "100/100 [==============================] - 0s 3ms/step - loss: 28826003456.0000 - val_loss: 26293661696.0000\n",
            "Epoch 135/550\n",
            "100/100 [==============================] - 0s 3ms/step - loss: 28844912640.0000 - val_loss: 26435850240.0000\n",
            "Epoch 136/550\n",
            "100/100 [==============================] - 0s 3ms/step - loss: 29132062720.0000 - val_loss: 26253379584.0000\n",
            "Epoch 137/550\n",
            "100/100 [==============================] - 0s 3ms/step - loss: 28852146176.0000 - val_loss: 26174607360.0000\n",
            "Epoch 138/550\n",
            "100/100 [==============================] - 0s 3ms/step - loss: 28882952192.0000 - val_loss: 26717956096.0000\n",
            "Epoch 139/550\n",
            "100/100 [==============================] - 0s 3ms/step - loss: 28558618624.0000 - val_loss: 26750986240.0000\n",
            "Epoch 140/550\n",
            "100/100 [==============================] - 0s 3ms/step - loss: 28879851520.0000 - val_loss: 26355441664.0000\n",
            "Epoch 141/550\n",
            "100/100 [==============================] - 0s 3ms/step - loss: 28897112064.0000 - val_loss: 26282332160.0000\n",
            "Epoch 142/550\n",
            "100/100 [==============================] - 0s 3ms/step - loss: 28736952320.0000 - val_loss: 26724839424.0000\n",
            "Epoch 143/550\n",
            "100/100 [==============================] - 0s 3ms/step - loss: 28611489792.0000 - val_loss: 26409369600.0000\n",
            "Epoch 144/550\n",
            "100/100 [==============================] - 0s 3ms/step - loss: 28520493056.0000 - val_loss: 26493288448.0000\n",
            "Epoch 145/550\n",
            "100/100 [==============================] - 0s 3ms/step - loss: 28605433856.0000 - val_loss: 25949497344.0000\n",
            "Epoch 146/550\n",
            "100/100 [==============================] - 0s 3ms/step - loss: 28481273856.0000 - val_loss: 26644430848.0000\n",
            "Epoch 147/550\n",
            "100/100 [==============================] - 0s 3ms/step - loss: 28827123712.0000 - val_loss: 26821670912.0000\n",
            "Epoch 148/550\n",
            "100/100 [==============================] - 0s 3ms/step - loss: 28432162816.0000 - val_loss: 25905983488.0000\n",
            "Epoch 149/550\n",
            "100/100 [==============================] - 0s 3ms/step - loss: 28413534208.0000 - val_loss: 25979512832.0000\n",
            "Epoch 150/550\n",
            "100/100 [==============================] - 0s 3ms/step - loss: 28271712256.0000 - val_loss: 25855655936.0000\n",
            "Epoch 151/550\n",
            "100/100 [==============================] - 0s 3ms/step - loss: 28365660160.0000 - val_loss: 25902383104.0000\n",
            "Epoch 152/550\n",
            "100/100 [==============================] - 0s 3ms/step - loss: 28365590528.0000 - val_loss: 26046144512.0000\n",
            "Epoch 153/550\n",
            "100/100 [==============================] - 0s 3ms/step - loss: 28320159744.0000 - val_loss: 26008899584.0000\n",
            "Epoch 154/550\n",
            "100/100 [==============================] - 0s 3ms/step - loss: 28305184768.0000 - val_loss: 26184368128.0000\n",
            "Epoch 155/550\n",
            "100/100 [==============================] - 0s 3ms/step - loss: 28199886848.0000 - val_loss: 25785788416.0000\n",
            "Epoch 156/550\n",
            "100/100 [==============================] - 0s 3ms/step - loss: 28256739328.0000 - val_loss: 26579492864.0000\n",
            "Epoch 157/550\n",
            "100/100 [==============================] - 0s 3ms/step - loss: 28191008768.0000 - val_loss: 28626438144.0000\n",
            "Epoch 158/550\n",
            "100/100 [==============================] - 0s 3ms/step - loss: 28455413760.0000 - val_loss: 25742438400.0000\n",
            "Epoch 159/550\n",
            "100/100 [==============================] - 0s 3ms/step - loss: 28054075392.0000 - val_loss: 26105612288.0000\n",
            "Epoch 160/550\n",
            "100/100 [==============================] - 0s 3ms/step - loss: 28245733376.0000 - val_loss: 25953904640.0000\n",
            "Epoch 161/550\n",
            "100/100 [==============================] - 0s 3ms/step - loss: 28280889344.0000 - val_loss: 26546386944.0000\n",
            "Epoch 162/550\n",
            "100/100 [==============================] - 0s 3ms/step - loss: 28132722688.0000 - val_loss: 26711752704.0000\n",
            "Epoch 163/550\n",
            "100/100 [==============================] - 0s 3ms/step - loss: 28008230912.0000 - val_loss: 26187802624.0000\n",
            "Epoch 164/550\n",
            "100/100 [==============================] - 0s 3ms/step - loss: 28033228800.0000 - val_loss: 27369943040.0000\n",
            "Epoch 165/550\n",
            "100/100 [==============================] - 0s 3ms/step - loss: 28099618816.0000 - val_loss: 25648195584.0000\n",
            "Epoch 166/550\n",
            "100/100 [==============================] - 0s 3ms/step - loss: 27680069632.0000 - val_loss: 25873307648.0000\n",
            "Epoch 167/550\n",
            "100/100 [==============================] - 0s 3ms/step - loss: 28087773184.0000 - val_loss: 26011893760.0000\n",
            "Epoch 168/550\n",
            "100/100 [==============================] - 0s 3ms/step - loss: 27654301696.0000 - val_loss: 25711851520.0000\n",
            "Epoch 169/550\n",
            "100/100 [==============================] - 0s 3ms/step - loss: 27625807872.0000 - val_loss: 25728466944.0000\n",
            "Epoch 170/550\n",
            "100/100 [==============================] - 0s 3ms/step - loss: 27706572800.0000 - val_loss: 25786689536.0000\n",
            "Epoch 171/550\n",
            "100/100 [==============================] - 0s 3ms/step - loss: 27467182080.0000 - val_loss: 25863983104.0000\n",
            "Epoch 172/550\n",
            "100/100 [==============================] - 0s 3ms/step - loss: 27547822080.0000 - val_loss: 25762715648.0000\n",
            "Epoch 173/550\n",
            "100/100 [==============================] - 0s 3ms/step - loss: 27734519808.0000 - val_loss: 25828964352.0000\n",
            "Epoch 174/550\n",
            "100/100 [==============================] - 0s 3ms/step - loss: 27616143360.0000 - val_loss: 25662738432.0000\n",
            "Epoch 175/550\n",
            "100/100 [==============================] - 0s 3ms/step - loss: 27580971008.0000 - val_loss: 25581355008.0000\n",
            "Epoch 176/550\n",
            "100/100 [==============================] - 0s 3ms/step - loss: 27592374272.0000 - val_loss: 25721538560.0000\n",
            "Epoch 177/550\n",
            "100/100 [==============================] - 0s 3ms/step - loss: 27564064768.0000 - val_loss: 25591904256.0000\n",
            "Epoch 178/550\n",
            "100/100 [==============================] - 0s 3ms/step - loss: 27428026368.0000 - val_loss: 26426273792.0000\n",
            "Epoch 179/550\n",
            "100/100 [==============================] - 0s 3ms/step - loss: 27708647424.0000 - val_loss: 26388951040.0000\n",
            "Epoch 180/550\n",
            "100/100 [==============================] - 0s 3ms/step - loss: 27265626112.0000 - val_loss: 25711341568.0000\n",
            "Epoch 181/550\n",
            "100/100 [==============================] - 0s 3ms/step - loss: 27238522880.0000 - val_loss: 25912211456.0000\n",
            "Epoch 182/550\n",
            "100/100 [==============================] - 0s 3ms/step - loss: 27170801664.0000 - val_loss: 26611394560.0000\n",
            "Epoch 183/550\n",
            "100/100 [==============================] - 0s 3ms/step - loss: 27409207296.0000 - val_loss: 25550180352.0000\n",
            "Epoch 184/550\n",
            "100/100 [==============================] - 0s 3ms/step - loss: 27191406592.0000 - val_loss: 25510447104.0000\n",
            "Epoch 185/550\n",
            "100/100 [==============================] - 0s 3ms/step - loss: 27264647168.0000 - val_loss: 25486026752.0000\n",
            "Epoch 186/550\n",
            "100/100 [==============================] - 0s 3ms/step - loss: 27136876544.0000 - val_loss: 25895249920.0000\n",
            "Epoch 187/550\n",
            "100/100 [==============================] - 0s 3ms/step - loss: 27077697536.0000 - val_loss: 26049978368.0000\n",
            "Epoch 188/550\n",
            "100/100 [==============================] - 0s 3ms/step - loss: 27270995968.0000 - val_loss: 25745377280.0000\n",
            "Epoch 189/550\n",
            "100/100 [==============================] - 0s 3ms/step - loss: 27092727808.0000 - val_loss: 25467418624.0000\n",
            "Epoch 190/550\n",
            "100/100 [==============================] - 0s 3ms/step - loss: 27209934848.0000 - val_loss: 25530322944.0000\n",
            "Epoch 191/550\n",
            "100/100 [==============================] - 0s 3ms/step - loss: 27005345792.0000 - val_loss: 25478246400.0000\n",
            "Epoch 192/550\n",
            "100/100 [==============================] - 0s 3ms/step - loss: 26983929856.0000 - val_loss: 25577117696.0000\n",
            "Epoch 193/550\n",
            "100/100 [==============================] - 0s 3ms/step - loss: 27028717568.0000 - val_loss: 25759262720.0000\n",
            "Epoch 194/550\n",
            "100/100 [==============================] - 0s 3ms/step - loss: 27053443072.0000 - val_loss: 25457055744.0000\n",
            "Epoch 195/550\n",
            "100/100 [==============================] - 0s 3ms/step - loss: 26996375552.0000 - val_loss: 25691258880.0000\n",
            "Epoch 196/550\n",
            "100/100 [==============================] - 0s 3ms/step - loss: 27193083904.0000 - val_loss: 25385144320.0000\n",
            "Epoch 197/550\n",
            "100/100 [==============================] - 0s 3ms/step - loss: 26795984896.0000 - val_loss: 25332453376.0000\n",
            "Epoch 198/550\n",
            "100/100 [==============================] - 0s 3ms/step - loss: 26954129408.0000 - val_loss: 25673469952.0000\n",
            "Epoch 199/550\n",
            "100/100 [==============================] - 0s 3ms/step - loss: 26867994624.0000 - val_loss: 25658744832.0000\n",
            "Epoch 200/550\n",
            "100/100 [==============================] - 0s 3ms/step - loss: 27021924352.0000 - val_loss: 26592061440.0000\n",
            "Epoch 201/550\n",
            "100/100 [==============================] - 0s 3ms/step - loss: 26855829504.0000 - val_loss: 25275324416.0000\n",
            "Epoch 202/550\n",
            "100/100 [==============================] - 0s 3ms/step - loss: 26839721984.0000 - val_loss: 25442813952.0000\n",
            "Epoch 203/550\n",
            "100/100 [==============================] - 0s 3ms/step - loss: 27006572544.0000 - val_loss: 25252300800.0000\n",
            "Epoch 204/550\n",
            "100/100 [==============================] - 0s 3ms/step - loss: 26739847168.0000 - val_loss: 25531396096.0000\n",
            "Epoch 205/550\n",
            "100/100 [==============================] - 0s 3ms/step - loss: 27143849984.0000 - val_loss: 25522003968.0000\n",
            "Epoch 206/550\n",
            "100/100 [==============================] - 0s 3ms/step - loss: 26748796928.0000 - val_loss: 26117263360.0000\n",
            "Epoch 207/550\n",
            "100/100 [==============================] - 0s 3ms/step - loss: 26845859840.0000 - val_loss: 25453993984.0000\n",
            "Epoch 208/550\n",
            "100/100 [==============================] - 0s 3ms/step - loss: 26822606848.0000 - val_loss: 25624219648.0000\n",
            "Epoch 209/550\n",
            "100/100 [==============================] - 0s 3ms/step - loss: 26711398400.0000 - val_loss: 25378672640.0000\n",
            "Epoch 210/550\n",
            "100/100 [==============================] - 0s 3ms/step - loss: 26592518144.0000 - val_loss: 25545021440.0000\n",
            "Epoch 211/550\n",
            "100/100 [==============================] - 0s 4ms/step - loss: 26676068352.0000 - val_loss: 25454100480.0000\n",
            "Epoch 212/550\n",
            "100/100 [==============================] - 0s 3ms/step - loss: 26625222656.0000 - val_loss: 25623943168.0000\n",
            "Epoch 213/550\n",
            "100/100 [==============================] - 0s 3ms/step - loss: 26646251520.0000 - val_loss: 25534783488.0000\n"
          ]
        },
        {
          "output_type": "execute_result",
          "data": {
            "text/plain": [
              "<keras.callbacks.History at 0x7fcc78467cd0>"
            ]
          },
          "metadata": {},
          "execution_count": 35
        }
      ]
    },
    {
      "cell_type": "code",
      "source": [
        "from keras.utils.vis_utils import plot_model\n",
        "plot_model(model, to_file='model_plot.png', show_shapes=True, show_layer_names=True)\n"
      ],
      "metadata": {
        "colab": {
          "base_uri": "https://localhost:8080/",
          "height": 865
        },
        "id": "tsofuIn0PB9H",
        "outputId": "844ed5e8-6063-4ba0-cf3b-dedea826bc96"
      },
      "execution_count": null,
      "outputs": [
        {
          "output_type": "execute_result",
          "data": {
            "image/png": "[encoded data removed]",
            "text/plain": [
              "<IPython.core.display.Image object>"
            ]
          },
          "metadata": {},
          "execution_count": 36
        }
      ]
    },
    {
      "cell_type": "code",
      "source": [
        "model.summary()"
      ],
      "metadata": {
        "colab": {
          "base_uri": "https://localhost:8080/"
        },
        "id": "25cqo8uvPHFy",
        "outputId": "d249fea3-7295-48ec-b152-849fd7ae3402"
      },
      "execution_count": null,
      "outputs": [
        {
          "output_type": "stream",
          "name": "stdout",
          "text": [
            "Model: \"sequential_5\"\n",
            "_________________________________________________________________\n",
            " Layer (type)                Output Shape              Param #   \n",
            "=================================================================\n",
            " dense_19 (Dense)            (None, 19)                342       \n",
            "                                                                 \n",
            " dense_20 (Dense)            (None, 50)                1000      \n",
            "                                                                 \n",
            " dense_21 (Dense)            (None, 50)                2550      \n",
            "                                                                 \n",
            " dense_22 (Dense)            (None, 50)                2550      \n",
            "                                                                 \n",
            " dense_23 (Dense)            (None, 50)                2550      \n",
            "                                                                 \n",
            " dense_24 (Dense)            (None, 50)                2550      \n",
            "                                                                 \n",
            " dense_25 (Dense)            (None, 1)                 51        \n",
            "                                                                 \n",
            "=================================================================\n",
            "Total params: 11,593\n",
            "Trainable params: 11,593\n",
            "Non-trainable params: 0\n",
            "_________________________________________________________________\n"
          ]
        }
      ]
    },
    {
      "cell_type": "code",
      "source": [
        "loss=pd.DataFrame(model.history.history)\n",
        "loss.head()"
      ],
      "metadata": {
        "colab": {
          "base_uri": "https://localhost:8080/",
          "height": 206
        },
        "id": "HREzpiHiPI3d",
        "outputId": "41d37895-63c5-4b75-92ea-3572387bc33e"
      },
      "execution_count": null,
      "outputs": [
        {
          "output_type": "execute_result",
          "data": {
            "text/plain": [
              "           loss      val_loss\n",
              "0  4.343167e+11  3.839913e+11\n",
              "1  1.624874e+11  4.674912e+10\n",
              "2  4.991012e+10  4.108748e+10\n",
              "3  4.485700e+10  3.751615e+10\n",
              "4  4.220253e+10  3.541861e+10"
            ],
            "text/html": [
              "\n",
              "  <div id=\"df-ef8ec23f-ae78-4664-b20e-45d92539ced2\">\n",
              "    <div class=\"colab-df-container\">\n",
              "      <div>\n",
              "<style scoped>\n",
              "    .dataframe tbody tr th:only-of-type {\n",
              "        vertical-align: middle;\n",
              "    }\n",
              "\n",
              "    .dataframe tbody tr th {\n",
              "        vertical-align: top;\n",
              "    }\n",
              "\n",
              "    .dataframe thead th {\n",
              "        text-align: right;\n",
              "    }\n",
              "</style>\n",
              "<table border=\"1\" class=\"dataframe\">\n",
              "  <thead>\n",
              "    <tr style=\"text-align: right;\">\n",
              "      <th></th>\n",
              "      <th>loss</th>\n",
              "      <th>val_loss</th>\n",
              "    </tr>\n",
              "  </thead>\n",
              "  <tbody>\n",
              "    <tr>\n",
              "      <th>0</th>\n",
              "      <td>4.343167e+11</td>\n",
              "      <td>3.839913e+11</td>\n",
              "    </tr>\n",
              "    <tr>\n",
              "      <th>1</th>\n",
              "      <td>1.624874e+11</td>\n",
              "      <td>4.674912e+10</td>\n",
              "    </tr>\n",
              "    <tr>\n",
              "      <th>2</th>\n",
              "      <td>4.991012e+10</td>\n",
              "      <td>4.108748e+10</td>\n",
              "    </tr>\n",
              "    <tr>\n",
              "      <th>3</th>\n",
              "      <td>4.485700e+10</td>\n",
              "      <td>3.751615e+10</td>\n",
              "    </tr>\n",
              "    <tr>\n",
              "      <th>4</th>\n",
              "      <td>4.220253e+10</td>\n",
              "      <td>3.541861e+10</td>\n",
              "    </tr>\n",
              "  </tbody>\n",
              "</table>\n",
              "</div>\n",
              "      <button class=\"colab-df-convert\" onclick=\"convertToInteractive('df-ef8ec23f-ae78-4664-b20e-45d92539ced2')\"\n",
              "              title=\"Convert this dataframe to an interactive table.\"\n",
              "              style=\"display:none;\">\n",
              "        \n",
              "  <svg xmlns=\"http://www.w3.org/2000/svg\" height=\"24px\"viewBox=\"0 0 24 24\"\n",
              "       width=\"24px\">\n",
              "    <path d=\"M0 0h24v24H0V0z\" fill=\"none\"/>\n",
              "    <path d=\"M18.56 5.44l.94 2.06.94-2.06 2.06-.94-2.06-.94-.94-2.06-.94 2.06-2.06.94zm-11 1L8.5 8.5l.94-2.06 2.06-.94-2.06-.94L8.5 2.5l-.94 2.06-2.06.94zm10 10l.94 2.06.94-2.06 2.06-.94-2.06-.94-.94-2.06-.94 2.06-2.06.94z\"/><path d=\"M17.41 7.96l-1.37-1.37c-.4-.4-.92-.59-1.43-.59-.52 0-1.04.2-1.43.59L10.3 9.45l-7.72 7.72c-.78.78-.78 2.05 0 2.83L4 21.41c.39.39.9.59 1.41.59.51 0 1.02-.2 1.41-.59l7.78-7.78 2.81-2.81c.8-.78.8-2.07 0-2.86zM5.41 20L4 18.59l7.72-7.72 1.47 1.35L5.41 20z\"/>\n",
              "  </svg>\n",
              "      </button>\n",
              "      \n",
              "  <style>\n",
              "    .colab-df-container {\n",
              "      display:flex;\n",
              "      flex-wrap:wrap;\n",
              "      gap: 12px;\n",
              "    }\n",
              "\n",
              "    .colab-df-convert {\n",
              "      background-color: #E8F0FE;\n",
              "      border: none;\n",
              "      border-radius: 50%;\n",
              "      cursor: pointer;\n",
              "      display: none;\n",
              "      fill: #1967D2;\n",
              "      height: 32px;\n",
              "      padding: 0 0 0 0;\n",
              "      width: 32px;\n",
              "    }\n",
              "\n",
              "    .colab-df-convert:hover {\n",
              "      background-color: #E2EBFA;\n",
              "      box-shadow: 0px 1px 2px rgba(60, 64, 67, 0.3), 0px 1px 3px 1px rgba(60, 64, 67, 0.15);\n",
              "      fill: #174EA6;\n",
              "    }\n",
              "\n",
              "    [theme=dark] .colab-df-convert {\n",
              "      background-color: #3B4455;\n",
              "      fill: #D2E3FC;\n",
              "    }\n",
              "\n",
              "    [theme=dark] .colab-df-convert:hover {\n",
              "      background-color: #434B5C;\n",
              "      box-shadow: 0px 1px 3px 1px rgba(0, 0, 0, 0.15);\n",
              "      filter: drop-shadow(0px 1px 2px rgba(0, 0, 0, 0.3));\n",
              "      fill: #FFFFFF;\n",
              "    }\n",
              "  </style>\n",
              "\n",
              "      <script>\n",
              "        const buttonEl =\n",
              "          document.querySelector('#df-ef8ec23f-ae78-4664-b20e-45d92539ced2 button.colab-df-convert');\n",
              "        buttonEl.style.display =\n",
              "          google.colab.kernel.accessAllowed ? 'block' : 'none';\n",
              "\n",
              "        async function convertToInteractive(key) {\n",
              "          const element = document.querySelector('#df-ef8ec23f-ae78-4664-b20e-45d92539ced2');\n",
              "          const dataTable =\n",
              "            await google.colab.kernel.invokeFunction('convertToInteractive',\n",
              "                                                     [key], {});\n",
              "          if (!dataTable) return;\n",
              "\n",
              "          const docLinkHtml = 'Like what you see? Visit the ' +\n",
              "            '<a target=\"_blank\" href=https://colab.research.google.com/notebooks/data_table.ipynb>data table notebook</a>'\n",
              "            + ' to learn more about interactive tables.';\n",
              "          element.innerHTML = '';\n",
              "          dataTable['output_type'] = 'display_data';\n",
              "          await google.colab.output.renderOutput(dataTable, element);\n",
              "          const docLink = document.createElement('div');\n",
              "          docLink.innerHTML = docLinkHtml;\n",
              "          element.appendChild(docLink);\n",
              "        }\n",
              "      </script>\n",
              "    </div>\n",
              "  </div>\n",
              "  "
            ]
          },
          "metadata": {},
          "execution_count": 43
        }
      ]
    },
    {
      "cell_type": "code",
      "source": [
        "loss.plot()"
      ],
      "metadata": {
        "colab": {
          "base_uri": "https://localhost:8080/",
          "height": 293
        },
        "id": "X5LQEQaEPNiH",
        "outputId": "706141d6-98c2-4e88-ebaf-fdf71346c7de"
      },
      "execution_count": null,
      "outputs": [
        {
          "output_type": "execute_result",
          "data": {
            "text/plain": [
              "<matplotlib.axes._subplots.AxesSubplot at 0x7fbc10953290>"
            ]
          },
          "metadata": {},
          "execution_count": 44
        },
        {
          "output_type": "display_data",
          "data": {
            "text/plain": [
              "<Figure size 432x288 with 1 Axes>"
            ],
            "image/png": "[encoded data removed]"
          },
          "metadata": {
            "needs_background": "light"
          }
        }
      ]
    },
    {
      "cell_type": "markdown",
      "source": [
        "If both lines are coincide then our model is not overfitting, if we get spikes in our plot then model is overfitting"
      ],
      "metadata": {
        "id": "6zCW6bgewAeD"
      }
    },
    {
      "cell_type": "code",
      "source": [
        "y_pred=model.predict(x_test)"
      ],
      "metadata": {
        "id": "fr0UzFLvPNt7"
      },
      "execution_count": null,
      "outputs": []
    },
    {
      "cell_type": "code",
      "source": [
        "plt.figure(figsize=(10,6))\n",
        "plt.scatter(y_test,y_pred,color=\"blue\",marker=\"o\")\n",
        "plt.plot(y_pred,y_pred,marker='o',\n",
        "         color='green',markerfacecolor='red',\n",
        "         markersize=7,linestyle='dashed')"
      ],
      "metadata": {
        "colab": {
          "base_uri": "https://localhost:8080/",
          "height": 415
        },
        "id": "oLkEU6lMwmeu",
        "outputId": "5fb20f76-4c0e-4816-9588-594d10bb3273"
      },
      "execution_count": null,
      "outputs": [
        {
          "output_type": "execute_result",
          "data": {
            "text/plain": [
              "[<matplotlib.lines.Line2D at 0x7fbc1fe5d4d0>]"
            ]
          },
          "metadata": {},
          "execution_count": 46
        },
        {
          "output_type": "display_data",
          "data": {
            "text/plain": [
              "<Figure size 720x432 with 1 Axes>"
            ],
            "image/png": "[encoded data removed]"
          },
          "metadata": {
            "needs_background": "light"
          }
        }
      ]
    },
    {
      "cell_type": "code",
      "source": [
        "Deep_Net =['Deep Net',mean_absolute_error(y_test,y_pred),np.sqrt(mean_squared_error(y_test,y_pred)),explained_variance_score(y_test,y_pred)]"
      ],
      "metadata": {
        "id": "7j0tfQpKPTvh"
      },
      "execution_count": null,
      "outputs": []
    },
    {
      "cell_type": "code",
      "source": [
        "error_metrics.loc[2]= Deep_Net"
      ],
      "metadata": {
        "id": "2GjbZgX2sMPR"
      },
      "execution_count": null,
      "outputs": []
    },
    {
      "cell_type": "code",
      "source": [
        "error_metrics"
      ],
      "metadata": {
        "colab": {
          "base_uri": "https://localhost:8080/",
          "height": 143
        },
        "id": "oblrtv9WPV0n",
        "outputId": "e2572b03-480b-44c3-b3ae-672356ce09db"
      },
      "execution_count": null,
      "outputs": [
        {
          "output_type": "execute_result",
          "data": {
            "text/plain": [
              "               model  mean absolute error  root mean squared error  \\\n",
              "0  Linear Regression        125390.881233            191960.309211   \n",
              "1  Simple Neural Net        153593.524436            217360.163890   \n",
              "2           Deep Net         99317.162229            161454.605781   \n",
              "\n",
              "   Explained variance score  \n",
              "0                  0.696466  \n",
              "1                  0.617399  \n",
              "2                  0.786407  "
            ],
            "text/html": [
              "\n",
              "  <div id=\"df-d1042797-353e-49d1-bd80-6c8fcab0666c\">\n",
              "    <div class=\"colab-df-container\">\n",
              "      <div>\n",
              "<style scoped>\n",
              "    .dataframe tbody tr th:only-of-type {\n",
              "        vertical-align: middle;\n",
              "    }\n",
              "\n",
              "    .dataframe tbody tr th {\n",
              "        vertical-align: top;\n",
              "    }\n",
              "\n",
              "    .dataframe thead th {\n",
              "        text-align: right;\n",
              "    }\n",
              "</style>\n",
              "<table border=\"1\" class=\"dataframe\">\n",
              "  <thead>\n",
              "    <tr style=\"text-align: right;\">\n",
              "      <th></th>\n",
              "      <th>model</th>\n",
              "      <th>mean absolute error</th>\n",
              "      <th>root mean squared error</th>\n",
              "      <th>Explained variance score</th>\n",
              "    </tr>\n",
              "  </thead>\n",
              "  <tbody>\n",
              "    <tr>\n",
              "      <th>0</th>\n",
              "      <td>Linear Regression</td>\n",
              "      <td>125390.881233</td>\n",
              "      <td>191960.309211</td>\n",
              "      <td>0.696466</td>\n",
              "    </tr>\n",
              "    <tr>\n",
              "      <th>1</th>\n",
              "      <td>Simple Neural Net</td>\n",
              "      <td>153593.524436</td>\n",
              "      <td>217360.163890</td>\n",
              "      <td>0.617399</td>\n",
              "    </tr>\n",
              "    <tr>\n",
              "      <th>2</th>\n",
              "      <td>Deep Net</td>\n",
              "      <td>99317.162229</td>\n",
              "      <td>161454.605781</td>\n",
              "      <td>0.786407</td>\n",
              "    </tr>\n",
              "  </tbody>\n",
              "</table>\n",
              "</div>\n",
              "      <button class=\"colab-df-convert\" onclick=\"convertToInteractive('df-d1042797-353e-49d1-bd80-6c8fcab0666c')\"\n",
              "              title=\"Convert this dataframe to an interactive table.\"\n",
              "              style=\"display:none;\">\n",
              "        \n",
              "  <svg xmlns=\"http://www.w3.org/2000/svg\" height=\"24px\"viewBox=\"0 0 24 24\"\n",
              "       width=\"24px\">\n",
              "    <path d=\"M0 0h24v24H0V0z\" fill=\"none\"/>\n",
              "    <path d=\"M18.56 5.44l.94 2.06.94-2.06 2.06-.94-2.06-.94-.94-2.06-.94 2.06-2.06.94zm-11 1L8.5 8.5l.94-2.06 2.06-.94-2.06-.94L8.5 2.5l-.94 2.06-2.06.94zm10 10l.94 2.06.94-2.06 2.06-.94-2.06-.94-.94-2.06-.94 2.06-2.06.94z\"/><path d=\"M17.41 7.96l-1.37-1.37c-.4-.4-.92-.59-1.43-.59-.52 0-1.04.2-1.43.59L10.3 9.45l-7.72 7.72c-.78.78-.78 2.05 0 2.83L4 21.41c.39.39.9.59 1.41.59.51 0 1.02-.2 1.41-.59l7.78-7.78 2.81-2.81c.8-.78.8-2.07 0-2.86zM5.41 20L4 18.59l7.72-7.72 1.47 1.35L5.41 20z\"/>\n",
              "  </svg>\n",
              "      </button>\n",
              "      \n",
              "  <style>\n",
              "    .colab-df-container {\n",
              "      display:flex;\n",
              "      flex-wrap:wrap;\n",
              "      gap: 12px;\n",
              "    }\n",
              "\n",
              "    .colab-df-convert {\n",
              "      background-color: #E8F0FE;\n",
              "      border: none;\n",
              "      border-radius: 50%;\n",
              "      cursor: pointer;\n",
              "      display: none;\n",
              "      fill: #1967D2;\n",
              "      height: 32px;\n",
              "      padding: 0 0 0 0;\n",
              "      width: 32px;\n",
              "    }\n",
              "\n",
              "    .colab-df-convert:hover {\n",
              "      background-color: #E2EBFA;\n",
              "      box-shadow: 0px 1px 2px rgba(60, 64, 67, 0.3), 0px 1px 3px 1px rgba(60, 64, 67, 0.15);\n",
              "      fill: #174EA6;\n",
              "    }\n",
              "\n",
              "    [theme=dark] .colab-df-convert {\n",
              "      background-color: #3B4455;\n",
              "      fill: #D2E3FC;\n",
              "    }\n",
              "\n",
              "    [theme=dark] .colab-df-convert:hover {\n",
              "      background-color: #434B5C;\n",
              "      box-shadow: 0px 1px 3px 1px rgba(0, 0, 0, 0.15);\n",
              "      filter: drop-shadow(0px 1px 2px rgba(0, 0, 0, 0.3));\n",
              "      fill: #FFFFFF;\n",
              "    }\n",
              "  </style>\n",
              "\n",
              "      <script>\n",
              "        const buttonEl =\n",
              "          document.querySelector('#df-d1042797-353e-49d1-bd80-6c8fcab0666c button.colab-df-convert');\n",
              "        buttonEl.style.display =\n",
              "          google.colab.kernel.accessAllowed ? 'block' : 'none';\n",
              "\n",
              "        async function convertToInteractive(key) {\n",
              "          const element = document.querySelector('#df-d1042797-353e-49d1-bd80-6c8fcab0666c');\n",
              "          const dataTable =\n",
              "            await google.colab.kernel.invokeFunction('convertToInteractive',\n",
              "                                                     [key], {});\n",
              "          if (!dataTable) return;\n",
              "\n",
              "          const docLinkHtml = 'Like what you see? Visit the ' +\n",
              "            '<a target=\"_blank\" href=https://colab.research.google.com/notebooks/data_table.ipynb>data table notebook</a>'\n",
              "            + ' to learn more about interactive tables.';\n",
              "          element.innerHTML = '';\n",
              "          dataTable['output_type'] = 'display_data';\n",
              "          await google.colab.output.renderOutput(dataTable, element);\n",
              "          const docLink = document.createElement('div');\n",
              "          docLink.innerHTML = docLinkHtml;\n",
              "          element.appendChild(docLink);\n",
              "        }\n",
              "      </script>\n",
              "    </div>\n",
              "  </div>\n",
              "  "
            ]
          },
          "metadata": {},
          "execution_count": 49
        }
      ]
    },
    {
      "cell_type": "markdown",
      "source": [
        "Hence, MAE and RMSE is much lower in Deep Neural Network compare to Linear regression. Hence final model is better than baseline model."
      ],
      "metadata": {
        "id": "HQC38QoUwNIp"
      }
    }
  ]
}