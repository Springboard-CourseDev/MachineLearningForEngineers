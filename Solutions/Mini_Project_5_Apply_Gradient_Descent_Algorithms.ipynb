{
  "nbformat": 4,
  "nbformat_minor": 0,
  "metadata": {
    "colab": {
      "name": "Mini Project 5: Apply Gradient Descent Algorithms.ipynb",
      "provenance": [],
      "collapsed_sections": [],
      "authorship_tag": "ABX9TyPIwVGOmIlmm7v5ctt2SstR"
    },
    "kernelspec": {
      "name": "python3",
      "display_name": "Python 3"
    },
    "language_info": {
      "name": "python"
    }
  },
  "cells": [
    {
      "cell_type": "markdown",
      "source": [
        "In this project, you'll be using Keras to build a neural network for a time series dataset. A large part of training a neural network is selecting the most appropriate optimizer and its hyperparameters. The focus of this project will be on this task. \n",
        "\n",
        "This project can be closely based on [this official Keras tutorial](https://keras.io/examples/timeseries/timeseries_classification_from_scratch/). "
      ],
      "metadata": {
        "id": "MxvtE8OGQvxv"
      }
    },
    {
      "cell_type": "markdown",
      "source": [
        "# Import Libraries\n"
      ],
      "metadata": {
        "id": "F6rb_k0ySVM7"
      }
    },
    {
      "cell_type": "code",
      "source": [
        "from tensorflow import keras"
      ],
      "metadata": {
        "id": "bSTQi6yYThKJ"
      },
      "execution_count": 1,
      "outputs": []
    },
    {
      "cell_type": "markdown",
      "source": [
        "# Load Data"
      ],
      "metadata": {
        "id": "ClyiarN5SVPj"
      }
    },
    {
      "cell_type": "markdown",
      "source": [
        "# Exploratory Data Analysis"
      ],
      "metadata": {
        "id": "lcBRlfrmSVR6"
      }
    },
    {
      "cell_type": "markdown",
      "source": [
        "# Feature Engineering"
      ],
      "metadata": {
        "id": "kMDdACoJSVU5"
      }
    },
    {
      "cell_type": "markdown",
      "source": [
        "# Define Model Architecture"
      ],
      "metadata": {
        "id": "qkoS5e_6T5lz"
      }
    },
    {
      "cell_type": "markdown",
      "source": [
        "# Model Training\n",
        "\n",
        "The purpose of this section is to gain intution on the performance of various optimizers. Optimizers will perform differently depending on the dataset. An optimizer that thrives on one dataset may struggle on another. \n",
        "\n",
        "Note this list of optimizers and relevant hyperparameter:\n",
        "\n",
        "* SGD\n",
        "  * learning_rate\n",
        "  * momentum\n",
        "  * nesterov\n",
        "* AdaGrad \n",
        "  * learning_rate\n",
        "  * initial_accumulator_value\n",
        "* RMSprop\n",
        "  * learning_rate\n",
        "  * rho\n",
        "  * momentum\n",
        "* Adadelta\n",
        "  * learning_rate\n",
        "  * rho\n",
        "* Adam\n",
        "  * learning_rate\n",
        "\n",
        "Ask students to build a plot for combinations of parameters/optimizers of validation accuracy and validation loss by epoch. Show the students how to use Tensorboard to monitor model training. "
      ],
      "metadata": {
        "id": "E2T85mj_U006"
      }
    },
    {
      "cell_type": "code",
      "source": [
        ""
      ],
      "metadata": {
        "id": "UzbOF5UiVOjB"
      },
      "execution_count": null,
      "outputs": []
    }
  ]
}